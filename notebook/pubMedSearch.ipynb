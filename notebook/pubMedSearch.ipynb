{
 "cells": [
  {
   "cell_type": "code",
   "execution_count": 1,
   "metadata": {},
   "outputs": [],
   "source": [
    "from Bio import Entrez\n",
    "import pandas as pd\n",
    "import seaborn as sns\n",
    "import matplotlib.pyplot as plt\n"
   ]
  },
  {
   "cell_type": "code",
   "execution_count": 2,
   "metadata": {},
   "outputs": [],
   "source": [
    "def search(query):\n",
    "    Entrez.email = 'your.email@example.com'\n",
    "    handle = Entrez.esearch(db='pubmed',\n",
    "                            sort='relevance',\n",
    "                            retmax='20',\n",
    "                            retmode='xml',\n",
    "                            term=query)\n",
    "    results = Entrez.read(handle)\n",
    "    return results\n",
    "\n",
    "def fetch_details(id_list):\n",
    "    ids = ','.join(id_list)\n",
    "    Entrez.email = 'tkhan@sidra.org'\n",
    "    handle = Entrez.efetch(db='pubmed',\n",
    "                           retmode='xml',\n",
    "                           id=ids)\n",
    "    results = Entrez.read(handle)\n",
    "    return results\n"
   ]
  },
  {
   "cell_type": "code",
   "execution_count": 12,
   "metadata": {},
   "outputs": [
    {
     "data": {
      "text/plain": [
       "{'Count': '16', 'RetMax': '16', 'RetStart': '0', 'IdList': ['26026288', '26598658', '22548207', '15144462', '25975240', '31871193', '26056507', '27184863', '18412308', '17237562', '23331206', '24092415', '20214848', '23325094', '10051703', '10200020'], 'TranslationSet': [{'From': 'allergy', 'To': '\"hypersensitivity\"[MeSH Terms] OR \"hypersensitivity\"[All Fields] OR \"allergy\"[All Fields] OR \"allergy and immunology\"[MeSH Terms] OR (\"allergy\"[All Fields] AND \"immunology\"[All Fields]) OR \"allergy and immunology\"[All Fields]'}], 'TranslationStack': [{'Term': 'HLA-DRB1*11[All Fields]', 'Field': 'All Fields', 'Count': '292', 'Explode': 'N'}, {'Term': '\"hypersensitivity\"[MeSH Terms]', 'Field': 'MeSH Terms', 'Count': '365762', 'Explode': 'Y'}, {'Term': '\"hypersensitivity\"[All Fields]', 'Field': 'All Fields', 'Count': '175884', 'Explode': 'N'}, 'OR', {'Term': '\"allergy\"[All Fields]', 'Field': 'All Fields', 'Count': '234191', 'Explode': 'N'}, 'OR', {'Term': '\"allergy and immunology\"[MeSH Terms]', 'Field': 'MeSH Terms', 'Count': '16736', 'Explode': 'Y'}, 'OR', {'Term': '\"allergy\"[All Fields]', 'Field': 'All Fields', 'Count': '234191', 'Explode': 'N'}, {'Term': '\"immunology\"[All Fields]', 'Field': 'All Fields', 'Count': '1915851', 'Explode': 'N'}, 'AND', 'GROUP', 'OR', {'Term': '\"allergy and immunology\"[All Fields]', 'Field': 'All Fields', 'Count': '20852', 'Explode': 'N'}, 'OR', 'GROUP', 'AND'], 'QueryTranslation': 'HLA-DRB1*11[All Fields] AND (\"hypersensitivity\"[MeSH Terms] OR \"hypersensitivity\"[All Fields] OR \"allergy\"[All Fields] OR \"allergy and immunology\"[MeSH Terms] OR (\"allergy\"[All Fields] AND \"immunology\"[All Fields]) OR \"allergy and immunology\"[All Fields])'}"
      ]
     },
     "execution_count": 12,
     "metadata": {},
     "output_type": "execute_result"
    }
   ],
   "source": [
    "search(\"HLA-DRB1*11 AND allergy\")"
   ]
  },
  {
   "cell_type": "code",
   "execution_count": 54,
   "metadata": {},
   "outputs": [
    {
     "data": {
      "text/plain": [
       "{'ISSN': StringElement('1945-8932', attributes={'IssnType': 'Electronic'}), 'JournalIssue': DictElement({'Volume': '29', 'Issue': '3', 'PubDate': {'MedlineDate': '2015 May-Jun'}}, attributes={'CitedMedium': 'Internet'}), 'Title': 'American journal of rhinology & allergy', 'ISOAbbreviation': 'Am J Rhinol Allergy'}"
      ]
     },
     "execution_count": 54,
     "metadata": {},
     "output_type": "execute_result"
    }
   ],
   "source": [
    "paper['MedlineCitation']['Article']['Journal']"
   ]
  },
  {
   "cell_type": "code",
   "execution_count": 40,
   "metadata": {},
   "outputs": [
    {
     "data": {
      "text/plain": [
       "dict_keys(['ArticleDate', 'Language', 'ELocationID', 'Journal', 'ArticleTitle', 'Pagination', 'Abstract', 'AuthorList', 'PublicationTypeList'])"
      ]
     },
     "execution_count": 40,
     "metadata": {},
     "output_type": "execute_result"
    }
   ],
   "source": [
    "paper['MedlineCitation']['Article'].keys()"
   ]
  },
  {
   "cell_type": "code",
   "execution_count": null,
   "metadata": {},
   "outputs": [],
   "source": []
  },
  {
   "cell_type": "code",
   "execution_count": 265,
   "metadata": {},
   "outputs": [
    {
     "data": {
      "text/plain": [
       "21"
      ]
     },
     "execution_count": 265,
     "metadata": {},
     "output_type": "execute_result"
    }
   ],
   "source": [
    "alleleList = pd.read_csv(\"../data_primary/AlleleFrequency_protRes_2methods.csv\")\n",
    "\n",
    "multiMono = pd.read_csv(\"../tables/multi-monoAssociationValues.csv\").set_index(\"AlleleAllergen\")\n",
    "tx = multiMono[multiMono.columns[multiMono.columns.str.contains(\"iter\")]].min(axis=1).to_frame()\n",
    "tx['allele'] = [i.split(\"_\")[1] for i in tx.index]\n",
    "tx['allergn'] = [i.split(\"_\")[0] for i in tx.index]\n",
    "tx = tx.rename({0:'MinSuccIter'},axis=1)\n",
    "tx.allele.nunique()"
   ]
  },
  {
   "cell_type": "code",
   "execution_count": 267,
   "metadata": {},
   "outputs": [
    {
     "name": "stdout",
     "output_type": "stream",
     "text": [
      "98 98\n"
     ]
    }
   ],
   "source": [
    "searchIdx = pd.DataFrame(index=alleleList[alleleList.selectedForStudy==1].ProtRes.values)\n",
    "for k in alleleList[alleleList.selectedForStudy==1].ProtRes.values:\n",
    "    query = \"[{}] AND Allergy\".format(k.replace(\"*\",\"\\*\"))\n",
    "    results = search(query)\n",
    "    if int(results['Count'])>=1:\n",
    "        searchIdx.loc[k,'count'] = int(results['Count'])\n",
    "        searchIdx.loc[k,'pubmedID'] = \",\".join(results['IdList'])\n",
    "        \n",
    "sigAlleleAllergy = searchIdx.loc[tx.allele.unique()]\n",
    "\n",
    "pubMedList = []\n",
    "pubMedListKeys = {}\n",
    "\n",
    "for i in sigAlleleAllergy.dropna().index:\n",
    "    pubMedList.extend(sigAlleleAllergy.loc[i,'pubmedID'].split(\",\"))\n",
    "    for x in sigAlleleAllergy.loc[i,'pubmedID'].split(\",\"):\n",
    "        if x in list(pubMedListKeys.keys()):\n",
    "            pubMedListKeys[x].append(i)\n",
    "        else:\n",
    "            pubMedListKeys[x]= [i]\n",
    "            \n",
    "pubMedList = set(pubMedList)\n",
    "print (len(pubMedList),len(list(pubMedListKeys.keys())))\n"
   ]
  },
  {
   "cell_type": "code",
   "execution_count": 268,
   "metadata": {},
   "outputs": [],
   "source": [
    "articleDetail = {}\n",
    "\n",
    "for k in pubMedListKeys.keys():\n",
    "    \n",
    "    handle = Entrez.efetch(db='pubmed',\n",
    "                           retmode='xml',\n",
    "                           id=k)\n",
    "    results = Entrez.read(handle)\n",
    "    articleDetail[k] = {}\n",
    "    if len(list(results.keys()))>1:\n",
    "        rx = results['PubmedArticle'][0]['MedlineCitation']\n",
    "        articleDetail[k]['Title'] = rx['Article']['ArticleTitle']\n",
    "        articleDetail[k]['JournalName'] = rx['Article']['Journal']['Title']\n",
    "        articleDetail[k]['JournalIssue'] = rx['Article']['Journal']['JournalIssue']\n",
    "        try:\n",
    "            articleDetail[k]['Abstract'] = rx['Article']['Abstract']['AbstractText'][0]\n",
    "        except:\n",
    "            pass\n",
    "    else:\n",
    "        rx = results['MedlineCitation']\n",
    "        articleDetail[k]['Title'] = rx['Article']['ArticleTitle']\n",
    "        articleDetail[k]['JournalName'] = rx['Article']['Journal']['Title']\n",
    "        articleDetail[k]['JournalIssue'] = rx['Article']['Journal']['JournalIssue']\n",
    "        try:\n",
    "            articleDetail[k]['Abstract'] = rx['Article']['Abstract']['AbstractText'][0]\n",
    "        except:\n",
    "            pass\n",
    "\n",
    "articleDetailDF_Allergy = pd.DataFrame(articleDetail).T"
   ]
  },
  {
   "cell_type": "code",
   "execution_count": 269,
   "metadata": {},
   "outputs": [
    {
     "data": {
      "text/html": [
       "<div>\n",
       "<style scoped>\n",
       "    .dataframe tbody tr th:only-of-type {\n",
       "        vertical-align: middle;\n",
       "    }\n",
       "\n",
       "    .dataframe tbody tr th {\n",
       "        vertical-align: top;\n",
       "    }\n",
       "\n",
       "    .dataframe thead th {\n",
       "        text-align: right;\n",
       "    }\n",
       "</style>\n",
       "<table border=\"1\" class=\"dataframe\">\n",
       "  <thead>\n",
       "    <tr style=\"text-align: right;\">\n",
       "      <th></th>\n",
       "      <th>Title</th>\n",
       "      <th>JournalName</th>\n",
       "      <th>JournalIssue</th>\n",
       "      <th>Abstract</th>\n",
       "    </tr>\n",
       "  </thead>\n",
       "  <tbody>\n",
       "    <tr>\n",
       "      <th>27166610</th>\n",
       "      <td>Protective Role of HLA-DRB1*13:02 against Micr...</td>\n",
       "      <td>PloS one</td>\n",
       "      <td>{'Volume': '11', 'Issue': '5', 'PubDate': {'Ye...</td>\n",
       "      <td>Among antineutrophil cytoplasmic antibody (ANC...</td>\n",
       "    </tr>\n",
       "    <tr>\n",
       "      <th>30235330</th>\n",
       "      <td>Independent association of HLA-DPB1*02:01 with...</td>\n",
       "      <td>PloS one</td>\n",
       "      <td>{'Volume': '13', 'Issue': '9', 'PubDate': {'Ye...</td>\n",
       "      <td>Rheumatoid arthritis (RA) is a chronic autoimm...</td>\n",
       "    </tr>\n",
       "    <tr>\n",
       "      <th>27116456</th>\n",
       "      <td>Human Leukocyte Antigen and Systemic Sclerosis...</td>\n",
       "      <td>PloS one</td>\n",
       "      <td>{'Volume': '11', 'Issue': '4', 'PubDate': {'Ye...</td>\n",
       "      <td>Several studies on associations between human ...</td>\n",
       "    </tr>\n",
       "    <tr>\n",
       "      <th>30278218</th>\n",
       "      <td>Sequence-based HLA-A, B, C, DP, DQ, and DR typ...</td>\n",
       "      <td>Human immunology</td>\n",
       "      <td>{'Volume': '79', 'Issue': '12', 'PubDate': {'Y...</td>\n",
       "      <td>DNA sequence-based typing at the HLA-A, -B, -C...</td>\n",
       "    </tr>\n",
       "    <tr>\n",
       "      <th>31815739</th>\n",
       "      <td>Epitope-specific airway-resident CD4+ T cell d...</td>\n",
       "      <td>The Journal of clinical investigation</td>\n",
       "      <td>{'Volume': '130', 'Issue': '1', 'PubDate': {'Y...</td>\n",
       "      <td>BACKGROUNDRespiratory syncytial virus (RSV) is...</td>\n",
       "    </tr>\n",
       "    <tr>\n",
       "      <th>...</th>\n",
       "      <td>...</td>\n",
       "      <td>...</td>\n",
       "      <td>...</td>\n",
       "      <td>...</td>\n",
       "    </tr>\n",
       "    <tr>\n",
       "      <th>31985601</th>\n",
       "      <td>HLA-DRB1*15: 02 Is Associated With Iodinated C...</td>\n",
       "      <td>Investigative radiology</td>\n",
       "      <td>{'Volume': '55', 'Issue': '5', 'PubDate': {'Ye...</td>\n",
       "      <td>The incidence of severe reaction induced by io...</td>\n",
       "    </tr>\n",
       "    <tr>\n",
       "      <th>16792590</th>\n",
       "      <td>HLA DRB1*15-DPB1*05 haplotype: a susceptible g...</td>\n",
       "      <td>Allergy</td>\n",
       "      <td>{'Volume': '61', 'Issue': '7', 'PubDate': {'Ye...</td>\n",
       "      <td>There has been no study for evaluating the ass...</td>\n",
       "    </tr>\n",
       "    <tr>\n",
       "      <th>12197571</th>\n",
       "      <td>Possible association between cockroach allergy...</td>\n",
       "      <td>Annals of allergy, asthma &amp; immunology : offic...</td>\n",
       "      <td>{'Volume': '89', 'Issue': '2', 'PubDate': {'Ye...</td>\n",
       "      <td>Susceptibility to the development of allergic ...</td>\n",
       "    </tr>\n",
       "    <tr>\n",
       "      <th>31449552</th>\n",
       "      <td>Protective HLA alleles are associated with red...</td>\n",
       "      <td>PLoS pathogens</td>\n",
       "      <td>{'Volume': '15', 'Issue': '8', 'PubDate': {'Ye...</td>\n",
       "      <td>Despite extensive research on the mechanisms o...</td>\n",
       "    </tr>\n",
       "    <tr>\n",
       "      <th>23407388</th>\n",
       "      <td>An association analysis of HLA-DRB1 with syste...</td>\n",
       "      <td>Rheumatology (Oxford, England)</td>\n",
       "      <td>{'Volume': '52', 'Issue': '7', 'PubDate': {'Ye...</td>\n",
       "      <td>Objective. To re-evaluate the roles of HLA-DRB...</td>\n",
       "    </tr>\n",
       "  </tbody>\n",
       "</table>\n",
       "<p>98 rows × 4 columns</p>\n",
       "</div>"
      ],
      "text/plain": [
       "                                                      Title  \\\n",
       "27166610  Protective Role of HLA-DRB1*13:02 against Micr...   \n",
       "30235330  Independent association of HLA-DPB1*02:01 with...   \n",
       "27116456  Human Leukocyte Antigen and Systemic Sclerosis...   \n",
       "30278218  Sequence-based HLA-A, B, C, DP, DQ, and DR typ...   \n",
       "31815739  Epitope-specific airway-resident CD4+ T cell d...   \n",
       "...                                                     ...   \n",
       "31985601  HLA-DRB1*15: 02 Is Associated With Iodinated C...   \n",
       "16792590  HLA DRB1*15-DPB1*05 haplotype: a susceptible g...   \n",
       "12197571  Possible association between cockroach allergy...   \n",
       "31449552  Protective HLA alleles are associated with red...   \n",
       "23407388  An association analysis of HLA-DRB1 with syste...   \n",
       "\n",
       "                                                JournalName  \\\n",
       "27166610                                           PloS one   \n",
       "30235330                                           PloS one   \n",
       "27116456                                           PloS one   \n",
       "30278218                                   Human immunology   \n",
       "31815739              The Journal of clinical investigation   \n",
       "...                                                     ...   \n",
       "31985601                            Investigative radiology   \n",
       "16792590                                            Allergy   \n",
       "12197571  Annals of allergy, asthma & immunology : offic...   \n",
       "31449552                                     PLoS pathogens   \n",
       "23407388                     Rheumatology (Oxford, England)   \n",
       "\n",
       "                                               JournalIssue  \\\n",
       "27166610  {'Volume': '11', 'Issue': '5', 'PubDate': {'Ye...   \n",
       "30235330  {'Volume': '13', 'Issue': '9', 'PubDate': {'Ye...   \n",
       "27116456  {'Volume': '11', 'Issue': '4', 'PubDate': {'Ye...   \n",
       "30278218  {'Volume': '79', 'Issue': '12', 'PubDate': {'Y...   \n",
       "31815739  {'Volume': '130', 'Issue': '1', 'PubDate': {'Y...   \n",
       "...                                                     ...   \n",
       "31985601  {'Volume': '55', 'Issue': '5', 'PubDate': {'Ye...   \n",
       "16792590  {'Volume': '61', 'Issue': '7', 'PubDate': {'Ye...   \n",
       "12197571  {'Volume': '89', 'Issue': '2', 'PubDate': {'Ye...   \n",
       "31449552  {'Volume': '15', 'Issue': '8', 'PubDate': {'Ye...   \n",
       "23407388  {'Volume': '52', 'Issue': '7', 'PubDate': {'Ye...   \n",
       "\n",
       "                                                   Abstract  \n",
       "27166610  Among antineutrophil cytoplasmic antibody (ANC...  \n",
       "30235330  Rheumatoid arthritis (RA) is a chronic autoimm...  \n",
       "27116456  Several studies on associations between human ...  \n",
       "30278218  DNA sequence-based typing at the HLA-A, -B, -C...  \n",
       "31815739  BACKGROUNDRespiratory syncytial virus (RSV) is...  \n",
       "...                                                     ...  \n",
       "31985601  The incidence of severe reaction induced by io...  \n",
       "16792590  There has been no study for evaluating the ass...  \n",
       "12197571  Susceptibility to the development of allergic ...  \n",
       "31449552  Despite extensive research on the mechanisms o...  \n",
       "23407388  Objective. To re-evaluate the roles of HLA-DRB...  \n",
       "\n",
       "[98 rows x 4 columns]"
      ]
     },
     "execution_count": 269,
     "metadata": {},
     "output_type": "execute_result"
    }
   ],
   "source": [
    "articleDetailDF_Allergy"
   ]
  },
  {
   "cell_type": "code",
   "execution_count": 275,
   "metadata": {},
   "outputs": [
    {
     "data": {
      "text/plain": [
       "'DPB1\\\\*04:02|DPB1\\\\*09:01|DPB1\\\\*17:01|DQB1\\\\*03:03|DRB1\\\\*08:04|DRB1\\\\*13:03|DRB1\\\\*15:03|DRB1\\\\*16:01|DQB1\\\\*06:03|DRB1\\\\*01:02|DRB1\\\\*11:04|DRB1\\\\*13:01|DQB1\\\\*05:01|DQB1\\\\*06:04|DRB1\\\\*10:01|DRB1\\\\*13:02|DPB1\\\\*13:01|DQB1\\\\*05:03|DRB1\\\\*11:01|DRB1\\\\*15:02'"
      ]
     },
     "execution_count": 275,
     "metadata": {},
     "output_type": "execute_result"
    }
   ],
   "source": [
    "qw = \"|\".join(sigAllele.dropna().index).replace(\"*\",\"\\*\")\n",
    "qw"
   ]
  },
  {
   "cell_type": "code",
   "execution_count": 277,
   "metadata": {},
   "outputs": [],
   "source": [
    "articleDetailDF_Allergy = pd.DataFrame(articleDetailDF_Allergy).T\n",
    "articleDetailDF_Allergy = articleDetailDF_Allergy.dropna()\n",
    "alleleArticle = []\n",
    "for k in sigAllele.index:\n",
    "    _pindex = articleDetailDF_Allergy[articleDetailDF_Allergy.Abstract.str.contains(k.replace(\"*\",\"\\*\"))].index\n",
    "    for p in _pindex:\n",
    "        alleleArticle.append([p,k])\n",
    "        \n",
    "allelArticleMap_Allergy = pd.DataFrame(alleleArticle,columns=['pubmedID','allele']).groupby(\"pubmedID\")['allele']\\\n",
    "                        .apply(list).to_frame().join(articleDetailDF_Allergy[articleDetailDF_Allergy.Abstract.str.contains(qx)])"
   ]
  },
  {
   "cell_type": "code",
   "execution_count": 280,
   "metadata": {},
   "outputs": [
    {
     "data": {
      "text/html": [
       "<div>\n",
       "<style scoped>\n",
       "    .dataframe tbody tr th:only-of-type {\n",
       "        vertical-align: middle;\n",
       "    }\n",
       "\n",
       "    .dataframe tbody tr th {\n",
       "        vertical-align: top;\n",
       "    }\n",
       "\n",
       "    .dataframe thead th {\n",
       "        text-align: right;\n",
       "    }\n",
       "</style>\n",
       "<table border=\"1\" class=\"dataframe\">\n",
       "  <thead>\n",
       "    <tr style=\"text-align: right;\">\n",
       "      <th></th>\n",
       "      <th>allele</th>\n",
       "      <th>Title</th>\n",
       "      <th>JournalName</th>\n",
       "      <th>JournalIssue</th>\n",
       "      <th>Abstract</th>\n",
       "      <th>Year</th>\n",
       "    </tr>\n",
       "    <tr>\n",
       "      <th>pubmedID</th>\n",
       "      <th></th>\n",
       "      <th></th>\n",
       "      <th></th>\n",
       "      <th></th>\n",
       "      <th></th>\n",
       "      <th></th>\n",
       "    </tr>\n",
       "  </thead>\n",
       "  <tbody>\n",
       "    <tr>\n",
       "      <th>21545408</th>\n",
       "      <td>[DRB1*13:02, DRB1*15:02]</td>\n",
       "      <td>A study of HLA class I and class II 4-digit al...</td>\n",
       "      <td>International journal of immunogenetics</td>\n",
       "      <td>{'Volume': '38', 'Issue': '4', 'PubDate': {'Ye...</td>\n",
       "      <td>Stevens-Johnson syndrome (SJS) and toxic epide...</td>\n",
       "      <td>2011</td>\n",
       "    </tr>\n",
       "    <tr>\n",
       "      <th>23278646</th>\n",
       "      <td>[DRB1*11:04, DRB1*11:01]</td>\n",
       "      <td>HLA-DRB1 and HLA-DQB1 genes on susceptibility ...</td>\n",
       "      <td>Microbiology and immunology</td>\n",
       "      <td>{'Volume': '57', 'Issue': '3', 'PubDate': {'Ye...</td>\n",
       "      <td>Allergic bronchopulmonary aspergillosis (ABPA)...</td>\n",
       "      <td>2013</td>\n",
       "    </tr>\n",
       "    <tr>\n",
       "      <th>23443026</th>\n",
       "      <td>[DQB1*06:03]</td>\n",
       "      <td>HLA-DQB1*02 and DQB1*06:03P are associated wit...</td>\n",
       "      <td>European journal of human genetics : EJHG</td>\n",
       "      <td>{'Volume': '21', 'Issue': '10', 'PubDate': {'Y...</td>\n",
       "      <td>Peanut allergy (PA) is a common and serious fo...</td>\n",
       "      <td>2013</td>\n",
       "    </tr>\n",
       "    <tr>\n",
       "      <th>24291122</th>\n",
       "      <td>[DRB1*13:01, DRB1*11:01]</td>\n",
       "      <td>Genetic susceptibility to multicase hypersensi...</td>\n",
       "      <td>Respiratory medicine</td>\n",
       "      <td>{'Volume': '108', 'Issue': '1', 'PubDate': {'Y...</td>\n",
       "      <td>Hypersensitivity Pneumonitis (HP) is a lung in...</td>\n",
       "      <td>2014</td>\n",
       "    </tr>\n",
       "    <tr>\n",
       "      <th>24498086</th>\n",
       "      <td>[DPB1*13:01]</td>\n",
       "      <td>Association of HLA-DPB1 with scleroderma and i...</td>\n",
       "      <td>PloS one</td>\n",
       "      <td>{'Volume': '9', 'Issue': '1', 'PubDate': {'Yea...</td>\n",
       "      <td>Human leukocyte antigen DPB1 was reported to c...</td>\n",
       "      <td>2014</td>\n",
       "    </tr>\n",
       "    <tr>\n",
       "      <th>24498373</th>\n",
       "      <td>[DRB1*13:02]</td>\n",
       "      <td>Human leukocyte antigens and systemic lupus er...</td>\n",
       "      <td>PloS one</td>\n",
       "      <td>{'Volume': '9', 'Issue': '2', 'PubDate': {'Yea...</td>\n",
       "      <td>Many studies on associations between human leu...</td>\n",
       "      <td>2014</td>\n",
       "    </tr>\n",
       "    <tr>\n",
       "      <th>24911054</th>\n",
       "      <td>[DRB1*13:02]</td>\n",
       "      <td>Protective effect of the HLA-DRB1*13:02 allele...</td>\n",
       "      <td>PloS one</td>\n",
       "      <td>{'Volume': '9', 'Issue': '6', 'PubDate': {'Yea...</td>\n",
       "      <td>Rheumatoid arthritis (RA) is a chronic systemi...</td>\n",
       "      <td>2014</td>\n",
       "    </tr>\n",
       "    <tr>\n",
       "      <th>27166610</th>\n",
       "      <td>[DQB1*03:03, DRB1*13:02]</td>\n",
       "      <td>Protective Role of HLA-DRB1*13:02 against Micr...</td>\n",
       "      <td>PloS one</td>\n",
       "      <td>{'Volume': '11', 'Issue': '5', 'PubDate': {'Ye...</td>\n",
       "      <td>Among antineutrophil cytoplasmic antibody (ANC...</td>\n",
       "      <td>2016</td>\n",
       "    </tr>\n",
       "    <tr>\n",
       "      <th>27331404</th>\n",
       "      <td>[DRB1*13:02]</td>\n",
       "      <td>Association of HLA-G 3' Untranslated Region Po...</td>\n",
       "      <td>PloS one</td>\n",
       "      <td>{'Volume': '11', 'Issue': '6', 'PubDate': {'Ye...</td>\n",
       "      <td>HLA-G plays a role in fetal-maternal tolerance...</td>\n",
       "      <td>2016</td>\n",
       "    </tr>\n",
       "    <tr>\n",
       "      <th>27829665</th>\n",
       "      <td>[DRB1*13:01, DRB1*13:02]</td>\n",
       "      <td>The role of common protective alleles HLA-DRB1...</td>\n",
       "      <td>Genes and immunity</td>\n",
       "      <td>{'Volume': '18', 'Issue': '1', 'PubDate': {'Ye...</td>\n",
       "      <td>Associations between human leukocyte antigen (...</td>\n",
       "      <td>2017</td>\n",
       "    </tr>\n",
       "    <tr>\n",
       "      <th>28506627</th>\n",
       "      <td>[DPB1*09:01]</td>\n",
       "      <td>RXRB Is an MHC-Encoded Susceptibility Gene Ass...</td>\n",
       "      <td>The Journal of investigative dermatology</td>\n",
       "      <td>{'Volume': '137', 'Issue': '9', 'PubDate': {'Y...</td>\n",
       "      <td>Systemic sclerosis is a systemic autoimmune an...</td>\n",
       "      <td>2017</td>\n",
       "    </tr>\n",
       "    <tr>\n",
       "      <th>29313220</th>\n",
       "      <td>[DQB1*05:03]</td>\n",
       "      <td>Pemphigus: a Comprehensive Review on Pathogene...</td>\n",
       "      <td>Clinical reviews in allergy &amp; immunology</td>\n",
       "      <td>{'Volume': '54', 'Issue': '1', 'PubDate': {'Ye...</td>\n",
       "      <td>Pemphigus is a group of rare, potentially deva...</td>\n",
       "      <td>2018</td>\n",
       "    </tr>\n",
       "    <tr>\n",
       "      <th>29348432</th>\n",
       "      <td>[DQB1*03:03]</td>\n",
       "      <td>Genome-wide association study of self-reported...</td>\n",
       "      <td>Scientific reports</td>\n",
       "      <td>{'Volume': '8', 'Issue': '1', 'PubDate': {'Yea...</td>\n",
       "      <td>Food allergy is an increasingly important heal...</td>\n",
       "      <td>2018</td>\n",
       "    </tr>\n",
       "    <tr>\n",
       "      <th>31810856</th>\n",
       "      <td>[DPB1*17:01]</td>\n",
       "      <td>Fine mapping of the MHC region identifies majo...</td>\n",
       "      <td>Journal of autoimmunity</td>\n",
       "      <td>{'Volume': '107', 'PubDate': {'Year': '2020', ...</td>\n",
       "      <td>The genetic association of primary biliary cho...</td>\n",
       "      <td>2020</td>\n",
       "    </tr>\n",
       "    <tr>\n",
       "      <th>32253422</th>\n",
       "      <td>[DRB1*11:01]</td>\n",
       "      <td>HLA loci predisposing to immune TTP in Japanes...</td>\n",
       "      <td>Blood</td>\n",
       "      <td>{'Volume': '135', 'Issue': '26', 'PubDate': {'...</td>\n",
       "      <td>Immune-mediated thrombotic thrombocytopenic pu...</td>\n",
       "      <td>2020</td>\n",
       "    </tr>\n",
       "    <tr>\n",
       "      <th>33509297</th>\n",
       "      <td>[DRB1*13:01]</td>\n",
       "      <td>Genetic risk factors for autoimmune hepatitis:...</td>\n",
       "      <td>Human genomics</td>\n",
       "      <td>{'Volume': '15', 'Issue': '1', 'PubDate': {'Ye...</td>\n",
       "      <td>Autoimmune hepatitis (AIH) is a rare chronic p...</td>\n",
       "      <td>2021</td>\n",
       "    </tr>\n",
       "    <tr>\n",
       "      <th>34880287</th>\n",
       "      <td>[DQB1*06:04]</td>\n",
       "      <td>Targeted analysis of genomic regions enriched ...</td>\n",
       "      <td>Scientific reports</td>\n",
       "      <td>{'Volume': '11', 'Issue': '1', 'PubDate': {'Ye...</td>\n",
       "      <td>Despite asthma has a considerable genetic comp...</td>\n",
       "      <td>2021</td>\n",
       "    </tr>\n",
       "  </tbody>\n",
       "</table>\n",
       "</div>"
      ],
      "text/plain": [
       "                            allele  \\\n",
       "pubmedID                             \n",
       "21545408  [DRB1*13:02, DRB1*15:02]   \n",
       "23278646  [DRB1*11:04, DRB1*11:01]   \n",
       "23443026              [DQB1*06:03]   \n",
       "24291122  [DRB1*13:01, DRB1*11:01]   \n",
       "24498086              [DPB1*13:01]   \n",
       "24498373              [DRB1*13:02]   \n",
       "24911054              [DRB1*13:02]   \n",
       "27166610  [DQB1*03:03, DRB1*13:02]   \n",
       "27331404              [DRB1*13:02]   \n",
       "27829665  [DRB1*13:01, DRB1*13:02]   \n",
       "28506627              [DPB1*09:01]   \n",
       "29313220              [DQB1*05:03]   \n",
       "29348432              [DQB1*03:03]   \n",
       "31810856              [DPB1*17:01]   \n",
       "32253422              [DRB1*11:01]   \n",
       "33509297              [DRB1*13:01]   \n",
       "34880287              [DQB1*06:04]   \n",
       "\n",
       "                                                      Title  \\\n",
       "pubmedID                                                      \n",
       "21545408  A study of HLA class I and class II 4-digit al...   \n",
       "23278646  HLA-DRB1 and HLA-DQB1 genes on susceptibility ...   \n",
       "23443026  HLA-DQB1*02 and DQB1*06:03P are associated wit...   \n",
       "24291122  Genetic susceptibility to multicase hypersensi...   \n",
       "24498086  Association of HLA-DPB1 with scleroderma and i...   \n",
       "24498373  Human leukocyte antigens and systemic lupus er...   \n",
       "24911054  Protective effect of the HLA-DRB1*13:02 allele...   \n",
       "27166610  Protective Role of HLA-DRB1*13:02 against Micr...   \n",
       "27331404  Association of HLA-G 3' Untranslated Region Po...   \n",
       "27829665  The role of common protective alleles HLA-DRB1...   \n",
       "28506627  RXRB Is an MHC-Encoded Susceptibility Gene Ass...   \n",
       "29313220  Pemphigus: a Comprehensive Review on Pathogene...   \n",
       "29348432  Genome-wide association study of self-reported...   \n",
       "31810856  Fine mapping of the MHC region identifies majo...   \n",
       "32253422  HLA loci predisposing to immune TTP in Japanes...   \n",
       "33509297  Genetic risk factors for autoimmune hepatitis:...   \n",
       "34880287  Targeted analysis of genomic regions enriched ...   \n",
       "\n",
       "                                        JournalName  \\\n",
       "pubmedID                                              \n",
       "21545408    International journal of immunogenetics   \n",
       "23278646                Microbiology and immunology   \n",
       "23443026  European journal of human genetics : EJHG   \n",
       "24291122                       Respiratory medicine   \n",
       "24498086                                   PloS one   \n",
       "24498373                                   PloS one   \n",
       "24911054                                   PloS one   \n",
       "27166610                                   PloS one   \n",
       "27331404                                   PloS one   \n",
       "27829665                         Genes and immunity   \n",
       "28506627   The Journal of investigative dermatology   \n",
       "29313220   Clinical reviews in allergy & immunology   \n",
       "29348432                         Scientific reports   \n",
       "31810856                    Journal of autoimmunity   \n",
       "32253422                                      Blood   \n",
       "33509297                             Human genomics   \n",
       "34880287                         Scientific reports   \n",
       "\n",
       "                                               JournalIssue  \\\n",
       "pubmedID                                                      \n",
       "21545408  {'Volume': '38', 'Issue': '4', 'PubDate': {'Ye...   \n",
       "23278646  {'Volume': '57', 'Issue': '3', 'PubDate': {'Ye...   \n",
       "23443026  {'Volume': '21', 'Issue': '10', 'PubDate': {'Y...   \n",
       "24291122  {'Volume': '108', 'Issue': '1', 'PubDate': {'Y...   \n",
       "24498086  {'Volume': '9', 'Issue': '1', 'PubDate': {'Yea...   \n",
       "24498373  {'Volume': '9', 'Issue': '2', 'PubDate': {'Yea...   \n",
       "24911054  {'Volume': '9', 'Issue': '6', 'PubDate': {'Yea...   \n",
       "27166610  {'Volume': '11', 'Issue': '5', 'PubDate': {'Ye...   \n",
       "27331404  {'Volume': '11', 'Issue': '6', 'PubDate': {'Ye...   \n",
       "27829665  {'Volume': '18', 'Issue': '1', 'PubDate': {'Ye...   \n",
       "28506627  {'Volume': '137', 'Issue': '9', 'PubDate': {'Y...   \n",
       "29313220  {'Volume': '54', 'Issue': '1', 'PubDate': {'Ye...   \n",
       "29348432  {'Volume': '8', 'Issue': '1', 'PubDate': {'Yea...   \n",
       "31810856  {'Volume': '107', 'PubDate': {'Year': '2020', ...   \n",
       "32253422  {'Volume': '135', 'Issue': '26', 'PubDate': {'...   \n",
       "33509297  {'Volume': '15', 'Issue': '1', 'PubDate': {'Ye...   \n",
       "34880287  {'Volume': '11', 'Issue': '1', 'PubDate': {'Ye...   \n",
       "\n",
       "                                                   Abstract  Year  \n",
       "pubmedID                                                           \n",
       "21545408  Stevens-Johnson syndrome (SJS) and toxic epide...  2011  \n",
       "23278646  Allergic bronchopulmonary aspergillosis (ABPA)...  2013  \n",
       "23443026  Peanut allergy (PA) is a common and serious fo...  2013  \n",
       "24291122  Hypersensitivity Pneumonitis (HP) is a lung in...  2014  \n",
       "24498086  Human leukocyte antigen DPB1 was reported to c...  2014  \n",
       "24498373  Many studies on associations between human leu...  2014  \n",
       "24911054  Rheumatoid arthritis (RA) is a chronic systemi...  2014  \n",
       "27166610  Among antineutrophil cytoplasmic antibody (ANC...  2016  \n",
       "27331404  HLA-G plays a role in fetal-maternal tolerance...  2016  \n",
       "27829665  Associations between human leukocyte antigen (...  2017  \n",
       "28506627  Systemic sclerosis is a systemic autoimmune an...  2017  \n",
       "29313220  Pemphigus is a group of rare, potentially deva...  2018  \n",
       "29348432  Food allergy is an increasingly important heal...  2018  \n",
       "31810856  The genetic association of primary biliary cho...  2020  \n",
       "32253422  Immune-mediated thrombotic thrombocytopenic pu...  2020  \n",
       "33509297  Autoimmune hepatitis (AIH) is a rare chronic p...  2021  \n",
       "34880287  Despite asthma has a considerable genetic comp...  2021  "
      ]
     },
     "execution_count": 280,
     "metadata": {},
     "output_type": "execute_result"
    }
   ],
   "source": [
    "allelArticleMap_Allergy['Year'] = [allelArticleMap_Allergy.loc[k,'JournalIssue']['PubDate']['Year'] for k in allelArticleMap_Allergy.index]\n",
    "allelArticleMap_Allergy"
   ]
  },
  {
   "cell_type": "markdown",
   "metadata": {},
   "source": [
    "## Irrespective OF alllergy"
   ]
  },
  {
   "cell_type": "code",
   "execution_count": 243,
   "metadata": {},
   "outputs": [],
   "source": [
    "searchIdx = pd.DataFrame(index=alleleList[alleleList.selectedForStudy==1].ProtRes.values)\n",
    "for k in alleleList[alleleList.selectedForStudy==1].ProtRes.values:\n",
    "    query = \"[{}] AND disease\".format(k.replace(\"*\",\"\\*\"))\n",
    "    results = search(query)\n",
    "    if int(results['Count'])>=1:\n",
    "        searchIdx.loc[k,'count'] = int(results['Count'])\n",
    "        searchIdx.loc[k,'pubmedID'] = \",\".join(results['IdList'])"
   ]
  },
  {
   "cell_type": "code",
   "execution_count": 244,
   "metadata": {},
   "outputs": [],
   "source": [
    "sigAlleleDisease = searchIdx.loc[tx.allele.unique()]"
   ]
  },
  {
   "cell_type": "code",
   "execution_count": 245,
   "metadata": {},
   "outputs": [
    {
     "data": {
      "text/html": [
       "<div>\n",
       "<style scoped>\n",
       "    .dataframe tbody tr th:only-of-type {\n",
       "        vertical-align: middle;\n",
       "    }\n",
       "\n",
       "    .dataframe tbody tr th {\n",
       "        vertical-align: top;\n",
       "    }\n",
       "\n",
       "    .dataframe thead th {\n",
       "        text-align: right;\n",
       "    }\n",
       "</style>\n",
       "<table border=\"1\" class=\"dataframe\">\n",
       "  <thead>\n",
       "    <tr style=\"text-align: right;\">\n",
       "      <th></th>\n",
       "      <th>count</th>\n",
       "      <th>pubmedID</th>\n",
       "    </tr>\n",
       "  </thead>\n",
       "  <tbody>\n",
       "    <tr>\n",
       "      <th>DPB1*04:02</th>\n",
       "      <td>29.0</td>\n",
       "      <td>32560041,26010309,23934009,33710355,27166610,3...</td>\n",
       "    </tr>\n",
       "    <tr>\n",
       "      <th>DPB1*09:01</th>\n",
       "      <td>11.0</td>\n",
       "      <td>27116456,33710355,31468541,35118816,24285682,2...</td>\n",
       "    </tr>\n",
       "    <tr>\n",
       "      <th>DPB1*10:01</th>\n",
       "      <td>1.0</td>\n",
       "      <td>32004448</td>\n",
       "    </tr>\n",
       "    <tr>\n",
       "      <th>DPB1*17:01</th>\n",
       "      <td>6.0</td>\n",
       "      <td>33421092,31310798,30906300,30952422,31810856,2...</td>\n",
       "    </tr>\n",
       "    <tr>\n",
       "      <th>DQB1*03:03</th>\n",
       "      <td>319.0</td>\n",
       "      <td>31993957,29667729,29222811,29513033,31254396,3...</td>\n",
       "    </tr>\n",
       "    <tr>\n",
       "      <th>DRB1*08:04</th>\n",
       "      <td>94.0</td>\n",
       "      <td>32240434,24055898,24899791,28894202,30175673,3...</td>\n",
       "    </tr>\n",
       "    <tr>\n",
       "      <th>DRB1*13:03</th>\n",
       "      <td>157.0</td>\n",
       "      <td>27759901,24498373,27166610,27116456,26605347,1...</td>\n",
       "    </tr>\n",
       "    <tr>\n",
       "      <th>DRB1*15:03</th>\n",
       "      <td>240.0</td>\n",
       "      <td>29362509,29691938,29683085,21833018,23793423,3...</td>\n",
       "    </tr>\n",
       "    <tr>\n",
       "      <th>DRB1*16:01</th>\n",
       "      <td>60.0</td>\n",
       "      <td>33221730,34186156,22862923,30095639,28083619,3...</td>\n",
       "    </tr>\n",
       "    <tr>\n",
       "      <th>DQB1*06:03</th>\n",
       "      <td>150.0</td>\n",
       "      <td>28894202,27013183,32439825,25940821,34655711,2...</td>\n",
       "    </tr>\n",
       "    <tr>\n",
       "      <th>DRB1*01:02</th>\n",
       "      <td>93.0</td>\n",
       "      <td>23376085,22448298,22523259,27143337,34186156,1...</td>\n",
       "    </tr>\n",
       "    <tr>\n",
       "      <th>DRB1*11:04</th>\n",
       "      <td>126.0</td>\n",
       "      <td>24806356,34294460,22803655,30175673,29174716,1...</td>\n",
       "    </tr>\n",
       "    <tr>\n",
       "      <th>DRB1*13:01</th>\n",
       "      <td>162.0</td>\n",
       "      <td>25346274,27166610,27116456,30352277,26605347,2...</td>\n",
       "    </tr>\n",
       "    <tr>\n",
       "      <th>DQB1*05:01</th>\n",
       "      <td>121.0</td>\n",
       "      <td>30741378,30092016,27485170,26951409,25070808,3...</td>\n",
       "    </tr>\n",
       "    <tr>\n",
       "      <th>DQB1*06:04</th>\n",
       "      <td>119.0</td>\n",
       "      <td>28894202,30352277,32410320,34655711,33502736,3...</td>\n",
       "    </tr>\n",
       "    <tr>\n",
       "      <th>DRB1*10:01</th>\n",
       "      <td>54.0</td>\n",
       "      <td>32183601,28637989,21214530,33929277,34655711,3...</td>\n",
       "    </tr>\n",
       "    <tr>\n",
       "      <th>DRB1*13:02</th>\n",
       "      <td>143.0</td>\n",
       "      <td>27166610,30352277,24911054,27116456,24498373,2...</td>\n",
       "    </tr>\n",
       "    <tr>\n",
       "      <th>DPB1*13:01</th>\n",
       "      <td>13.0</td>\n",
       "      <td>31871193,33710355,34096881,35118816,30906300,2...</td>\n",
       "    </tr>\n",
       "    <tr>\n",
       "      <th>DQB1*05:03</th>\n",
       "      <td>109.0</td>\n",
       "      <td>30092016,34655711,28624488,23993985,29182409,3...</td>\n",
       "    </tr>\n",
       "    <tr>\n",
       "      <th>DRB1*11:01</th>\n",
       "      <td>137.0</td>\n",
       "      <td>32183601,31254396,29691938,29942445,22422616,2...</td>\n",
       "    </tr>\n",
       "    <tr>\n",
       "      <th>DRB1*15:02</th>\n",
       "      <td>253.0</td>\n",
       "      <td>31985601,25911099,26822082,28028136,31573825,2...</td>\n",
       "    </tr>\n",
       "  </tbody>\n",
       "</table>\n",
       "</div>"
      ],
      "text/plain": [
       "            count                                           pubmedID\n",
       "DPB1*04:02   29.0  32560041,26010309,23934009,33710355,27166610,3...\n",
       "DPB1*09:01   11.0  27116456,33710355,31468541,35118816,24285682,2...\n",
       "DPB1*10:01    1.0                                           32004448\n",
       "DPB1*17:01    6.0  33421092,31310798,30906300,30952422,31810856,2...\n",
       "DQB1*03:03  319.0  31993957,29667729,29222811,29513033,31254396,3...\n",
       "DRB1*08:04   94.0  32240434,24055898,24899791,28894202,30175673,3...\n",
       "DRB1*13:03  157.0  27759901,24498373,27166610,27116456,26605347,1...\n",
       "DRB1*15:03  240.0  29362509,29691938,29683085,21833018,23793423,3...\n",
       "DRB1*16:01   60.0  33221730,34186156,22862923,30095639,28083619,3...\n",
       "DQB1*06:03  150.0  28894202,27013183,32439825,25940821,34655711,2...\n",
       "DRB1*01:02   93.0  23376085,22448298,22523259,27143337,34186156,1...\n",
       "DRB1*11:04  126.0  24806356,34294460,22803655,30175673,29174716,1...\n",
       "DRB1*13:01  162.0  25346274,27166610,27116456,30352277,26605347,2...\n",
       "DQB1*05:01  121.0  30741378,30092016,27485170,26951409,25070808,3...\n",
       "DQB1*06:04  119.0  28894202,30352277,32410320,34655711,33502736,3...\n",
       "DRB1*10:01   54.0  32183601,28637989,21214530,33929277,34655711,3...\n",
       "DRB1*13:02  143.0  27166610,30352277,24911054,27116456,24498373,2...\n",
       "DPB1*13:01   13.0  31871193,33710355,34096881,35118816,30906300,2...\n",
       "DQB1*05:03  109.0  30092016,34655711,28624488,23993985,29182409,3...\n",
       "DRB1*11:01  137.0  32183601,31254396,29691938,29942445,22422616,2...\n",
       "DRB1*15:02  253.0  31985601,25911099,26822082,28028136,31573825,2..."
      ]
     },
     "execution_count": 245,
     "metadata": {},
     "output_type": "execute_result"
    }
   ],
   "source": [
    "sigAlleleDisease"
   ]
  },
  {
   "cell_type": "code",
   "execution_count": 246,
   "metadata": {},
   "outputs": [
    {
     "name": "stdout",
     "output_type": "stream",
     "text": [
      "231 231\n"
     ]
    }
   ],
   "source": [
    "pubMedList = []\n",
    "pubMedListKeys = {}\n",
    "\n",
    "for i in sigAlleleDisease.dropna().index:\n",
    "    pubMedList.extend(sigAlleleDisease.loc[i,'pubmedID'].split(\",\"))\n",
    "    for x in sigAlleleDisease.loc[i,'pubmedID'].split(\",\"):\n",
    "        if x in list(pubMedListKeys.keys()):\n",
    "            pubMedListKeys[x].append(i)\n",
    "        else:\n",
    "            pubMedListKeys[x]= [i]\n",
    "            \n",
    "pubMedList = set(pubMedList)\n",
    "print (len(pubMedList),len(list(pubMedListKeys.keys())))"
   ]
  },
  {
   "cell_type": "code",
   "execution_count": 252,
   "metadata": {},
   "outputs": [],
   "source": [
    "articleDetail = {}\n",
    "\n",
    "for k in pubMedListKeys.keys():\n",
    "    \n",
    "    handle = Entrez.efetch(db='pubmed',\n",
    "                           retmode='xml',\n",
    "                           id=k)\n",
    "    results = Entrez.read(handle)\n",
    "    articleDetail[k] = {}\n",
    "    if len(list(results.keys()))>1:\n",
    "        rx = results['PubmedArticle'][0]['MedlineCitation']\n",
    "        articleDetail[k]['Title'] = rx['Article']['ArticleTitle']\n",
    "        articleDetail[k]['JournalName'] = rx['Article']['Journal']['Title']\n",
    "        articleDetail[k]['JournalIssue'] = rx['Article']['Journal']['JournalIssue']\n",
    "        try:\n",
    "            articleDetail[k]['Abstract'] = rx['Article']['Abstract']['AbstractText'][0]\n",
    "        except:\n",
    "            pass\n",
    "    else:\n",
    "        rx = results['MedlineCitation']\n",
    "        articleDetail[k]['Title'] = rx['Article']['ArticleTitle']\n",
    "        articleDetail[k]['JournalName'] = rx['Article']['Journal']['Title']\n",
    "        articleDetail[k]['JournalIssue'] = rx['Article']['Journal']['JournalIssue']\n",
    "        try:\n",
    "            articleDetail[k]['Abstract'] = rx['Article']['Abstract']['AbstractText'][0]\n",
    "        except:\n",
    "            pass\n",
    "        "
   ]
  },
  {
   "cell_type": "code",
   "execution_count": 250,
   "metadata": {},
   "outputs": [
    {
     "data": {
      "text/plain": [
       "'29076136'"
      ]
     },
     "execution_count": 250,
     "metadata": {},
     "output_type": "execute_result"
    }
   ],
   "source": [
    "k"
   ]
  },
  {
   "cell_type": "code",
   "execution_count": 257,
   "metadata": {},
   "outputs": [],
   "source": [
    "articleDetailDF = pd.DataFrame(articleDetail).T\n",
    "articleDetailDF = articleDetailDF.dropna()"
   ]
  },
  {
   "cell_type": "code",
   "execution_count": 258,
   "metadata": {},
   "outputs": [],
   "source": [
    "\n",
    "\n",
    "alleleArticle = []\n",
    "for k in sigAllele.index:\n",
    "    _pindex = articleDetailDF[articleDetailDF.Abstract.str.contains(k.replace(\"*\",\"\\*\"))].index\n",
    "    for p in _pindex:\n",
    "        alleleArticle.append([p,k])\n",
    "        \n",
    "allelArticleMap = pd.DataFrame(alleleArticle,columns=['pubmedID','allele']).groupby(\"pubmedID\")['allele'].apply(list).to_frame().join(articleDetailDF[articleDetailDF.Abstract.str.contains(qx)])"
   ]
  },
  {
   "cell_type": "code",
   "execution_count": 262,
   "metadata": {},
   "outputs": [
    {
     "data": {
      "text/plain": [
       "'2011'"
      ]
     },
     "execution_count": 262,
     "metadata": {},
     "output_type": "execute_result"
    }
   ],
   "source": [
    "allelArticleMap.loc['21214530','JournalIssue']['PubDate']['Year']"
   ]
  },
  {
   "cell_type": "code",
   "execution_count": 263,
   "metadata": {},
   "outputs": [],
   "source": [
    "allelArticleMap['Year'] = [allelArticleMap.loc[k,'JournalIssue']['PubDate']['Year'] for k in allelArticleMap.index]"
   ]
  },
  {
   "cell_type": "code",
   "execution_count": 284,
   "metadata": {},
   "outputs": [],
   "source": [
    "allelArticleMap.to_csv(\"../tables/alleleDisease_pubmed.csv\")"
   ]
  },
  {
   "cell_type": "code",
   "execution_count": 281,
   "metadata": {},
   "outputs": [],
   "source": [
    "from matplotlib_venn import venn2"
   ]
  },
  {
   "cell_type": "code",
   "execution_count": 283,
   "metadata": {},
   "outputs": [
    {
     "data": {
      "text/plain": [
       "<matplotlib_venn._common.VennDiagram at 0x123d0a160>"
      ]
     },
     "execution_count": 283,
     "metadata": {},
     "output_type": "execute_result"
    },
    {
     "data": {
      "image/png": "[encoded data removed]",
      "text/plain": [
       "<Figure size 432x288 with 1 Axes>"
      ]
     },
     "metadata": {},
     "output_type": "display_data"
    }
   ],
   "source": [
    "venn2([set(allelArticleMap.index),set(allelArticleMap_Allergy.index)],['Allele AND Disease', 'Allelel AND Allergy'])"
   ]
  },
  {
   "cell_type": "code",
   "execution_count": 286,
   "metadata": {},
   "outputs": [
    {
     "name": "stderr",
     "output_type": "stream",
     "text": [
      "/var/folders/v9/w_vjbp2j7qb395g17zpzcp180000gp/T/ipykernel_32210/765334126.py:1: FutureWarning: Passing a set as an indexer is deprecated and will raise in a future version. Use a list instead.\n",
      "  allelArticleMap_Allergy.loc[set(allelArticleMap_Allergy.index) - set(allelArticleMap.index)]\n"
     ]
    },
    {
     "data": {
      "text/html": [
       "<div>\n",
       "<style scoped>\n",
       "    .dataframe tbody tr th:only-of-type {\n",
       "        vertical-align: middle;\n",
       "    }\n",
       "\n",
       "    .dataframe tbody tr th {\n",
       "        vertical-align: top;\n",
       "    }\n",
       "\n",
       "    .dataframe thead th {\n",
       "        text-align: right;\n",
       "    }\n",
       "</style>\n",
       "<table border=\"1\" class=\"dataframe\">\n",
       "  <thead>\n",
       "    <tr style=\"text-align: right;\">\n",
       "      <th></th>\n",
       "      <th>allele</th>\n",
       "      <th>Title</th>\n",
       "      <th>JournalName</th>\n",
       "      <th>JournalIssue</th>\n",
       "      <th>Abstract</th>\n",
       "      <th>Year</th>\n",
       "    </tr>\n",
       "    <tr>\n",
       "      <th>pubmedID</th>\n",
       "      <th></th>\n",
       "      <th></th>\n",
       "      <th></th>\n",
       "      <th></th>\n",
       "      <th></th>\n",
       "      <th></th>\n",
       "    </tr>\n",
       "  </thead>\n",
       "  <tbody>\n",
       "    <tr>\n",
       "      <th>29348432</th>\n",
       "      <td>[DQB1*03:03]</td>\n",
       "      <td>Genome-wide association study of self-reported...</td>\n",
       "      <td>Scientific reports</td>\n",
       "      <td>{'Volume': '8', 'Issue': '1', 'PubDate': {'Yea...</td>\n",
       "      <td>Food allergy is an increasingly important heal...</td>\n",
       "      <td>2018</td>\n",
       "    </tr>\n",
       "    <tr>\n",
       "      <th>34880287</th>\n",
       "      <td>[DQB1*06:04]</td>\n",
       "      <td>Targeted analysis of genomic regions enriched ...</td>\n",
       "      <td>Scientific reports</td>\n",
       "      <td>{'Volume': '11', 'Issue': '1', 'PubDate': {'Ye...</td>\n",
       "      <td>Despite asthma has a considerable genetic comp...</td>\n",
       "      <td>2021</td>\n",
       "    </tr>\n",
       "    <tr>\n",
       "      <th>21545408</th>\n",
       "      <td>[DRB1*13:02, DRB1*15:02]</td>\n",
       "      <td>A study of HLA class I and class II 4-digit al...</td>\n",
       "      <td>International journal of immunogenetics</td>\n",
       "      <td>{'Volume': '38', 'Issue': '4', 'PubDate': {'Ye...</td>\n",
       "      <td>Stevens-Johnson syndrome (SJS) and toxic epide...</td>\n",
       "      <td>2011</td>\n",
       "    </tr>\n",
       "    <tr>\n",
       "      <th>33509297</th>\n",
       "      <td>[DRB1*13:01]</td>\n",
       "      <td>Genetic risk factors for autoimmune hepatitis:...</td>\n",
       "      <td>Human genomics</td>\n",
       "      <td>{'Volume': '15', 'Issue': '1', 'PubDate': {'Ye...</td>\n",
       "      <td>Autoimmune hepatitis (AIH) is a rare chronic p...</td>\n",
       "      <td>2021</td>\n",
       "    </tr>\n",
       "    <tr>\n",
       "      <th>27331404</th>\n",
       "      <td>[DRB1*13:02]</td>\n",
       "      <td>Association of HLA-G 3' Untranslated Region Po...</td>\n",
       "      <td>PloS one</td>\n",
       "      <td>{'Volume': '11', 'Issue': '6', 'PubDate': {'Ye...</td>\n",
       "      <td>HLA-G plays a role in fetal-maternal tolerance...</td>\n",
       "      <td>2016</td>\n",
       "    </tr>\n",
       "    <tr>\n",
       "      <th>27829665</th>\n",
       "      <td>[DRB1*13:01, DRB1*13:02]</td>\n",
       "      <td>The role of common protective alleles HLA-DRB1...</td>\n",
       "      <td>Genes and immunity</td>\n",
       "      <td>{'Volume': '18', 'Issue': '1', 'PubDate': {'Ye...</td>\n",
       "      <td>Associations between human leukocyte antigen (...</td>\n",
       "      <td>2017</td>\n",
       "    </tr>\n",
       "    <tr>\n",
       "      <th>29313220</th>\n",
       "      <td>[DQB1*05:03]</td>\n",
       "      <td>Pemphigus: a Comprehensive Review on Pathogene...</td>\n",
       "      <td>Clinical reviews in allergy &amp; immunology</td>\n",
       "      <td>{'Volume': '54', 'Issue': '1', 'PubDate': {'Ye...</td>\n",
       "      <td>Pemphigus is a group of rare, potentially deva...</td>\n",
       "      <td>2018</td>\n",
       "    </tr>\n",
       "  </tbody>\n",
       "</table>\n",
       "</div>"
      ],
      "text/plain": [
       "                            allele  \\\n",
       "pubmedID                             \n",
       "29348432              [DQB1*03:03]   \n",
       "34880287              [DQB1*06:04]   \n",
       "21545408  [DRB1*13:02, DRB1*15:02]   \n",
       "33509297              [DRB1*13:01]   \n",
       "27331404              [DRB1*13:02]   \n",
       "27829665  [DRB1*13:01, DRB1*13:02]   \n",
       "29313220              [DQB1*05:03]   \n",
       "\n",
       "                                                      Title  \\\n",
       "pubmedID                                                      \n",
       "29348432  Genome-wide association study of self-reported...   \n",
       "34880287  Targeted analysis of genomic regions enriched ...   \n",
       "21545408  A study of HLA class I and class II 4-digit al...   \n",
       "33509297  Genetic risk factors for autoimmune hepatitis:...   \n",
       "27331404  Association of HLA-G 3' Untranslated Region Po...   \n",
       "27829665  The role of common protective alleles HLA-DRB1...   \n",
       "29313220  Pemphigus: a Comprehensive Review on Pathogene...   \n",
       "\n",
       "                                       JournalName  \\\n",
       "pubmedID                                             \n",
       "29348432                        Scientific reports   \n",
       "34880287                        Scientific reports   \n",
       "21545408   International journal of immunogenetics   \n",
       "33509297                            Human genomics   \n",
       "27331404                                  PloS one   \n",
       "27829665                        Genes and immunity   \n",
       "29313220  Clinical reviews in allergy & immunology   \n",
       "\n",
       "                                               JournalIssue  \\\n",
       "pubmedID                                                      \n",
       "29348432  {'Volume': '8', 'Issue': '1', 'PubDate': {'Yea...   \n",
       "34880287  {'Volume': '11', 'Issue': '1', 'PubDate': {'Ye...   \n",
       "21545408  {'Volume': '38', 'Issue': '4', 'PubDate': {'Ye...   \n",
       "33509297  {'Volume': '15', 'Issue': '1', 'PubDate': {'Ye...   \n",
       "27331404  {'Volume': '11', 'Issue': '6', 'PubDate': {'Ye...   \n",
       "27829665  {'Volume': '18', 'Issue': '1', 'PubDate': {'Ye...   \n",
       "29313220  {'Volume': '54', 'Issue': '1', 'PubDate': {'Ye...   \n",
       "\n",
       "                                                   Abstract  Year  \n",
       "pubmedID                                                           \n",
       "29348432  Food allergy is an increasingly important heal...  2018  \n",
       "34880287  Despite asthma has a considerable genetic comp...  2021  \n",
       "21545408  Stevens-Johnson syndrome (SJS) and toxic epide...  2011  \n",
       "33509297  Autoimmune hepatitis (AIH) is a rare chronic p...  2021  \n",
       "27331404  HLA-G plays a role in fetal-maternal tolerance...  2016  \n",
       "27829665  Associations between human leukocyte antigen (...  2017  \n",
       "29313220  Pemphigus is a group of rare, potentially deva...  2018  "
      ]
     },
     "execution_count": 286,
     "metadata": {},
     "output_type": "execute_result"
    }
   ],
   "source": [
    "allelArticleMap_Allergy.loc[set(allelArticleMap_Allergy.index) - set(allelArticleMap.index)]"
   ]
  },
  {
   "cell_type": "code",
   "execution_count": 289,
   "metadata": {},
   "outputs": [],
   "source": [
    "fl = open(\"../data_curated/title.list\").readlines()"
   ]
  },
  {
   "cell_type": "code",
   "execution_count": 291,
   "metadata": {},
   "outputs": [],
   "source": [
    "fl=[i.strip().rstrip(\",\") for i in fl]"
   ]
  },
  {
   "cell_type": "code",
   "execution_count": 294,
   "metadata": {},
   "outputs": [
    {
     "data": {
      "text/plain": [
       "<matplotlib_venn._common.VennDiagram at 0x1239e2af0>"
      ]
     },
     "execution_count": 294,
     "metadata": {},
     "output_type": "execute_result"
    },
    {
     "data": {
      "image/png": "[encoded data removed]",
      "text/plain": [
       "<Figure size 432x288 with 1 Axes>"
      ]
     },
     "metadata": {},
     "output_type": "display_data"
    }
   ],
   "source": [
    "venn2([set(fl),set(allelArticleMap_Allergy.Title.values)],['Reffered', 'Allelel AND Allergy'])"
   ]
  },
  {
   "cell_type": "code",
   "execution_count": 295,
   "metadata": {},
   "outputs": [
    {
     "data": {
      "text/plain": [
       "<matplotlib_venn._common.VennDiagram at 0x124d6cee0>"
      ]
     },
     "execution_count": 295,
     "metadata": {},
     "output_type": "execute_result"
    },
    {
     "data": {
      "image/png": "[encoded data removed]",
      "text/plain": [
       "<Figure size 432x288 with 1 Axes>"
      ]
     },
     "metadata": {},
     "output_type": "display_data"
    }
   ],
   "source": [
    "venn2([set(fl),set(allelArticleMap.Title.values)],['Reffered', 'Allelel AND Allergy'])"
   ]
  },
  {
   "cell_type": "code",
   "execution_count": 296,
   "metadata": {},
   "outputs": [
    {
     "name": "stderr",
     "output_type": "stream",
     "text": [
      "/var/folders/v9/w_vjbp2j7qb395g17zpzcp180000gp/T/ipykernel_32210/2611590631.py:1: FutureWarning: Passing a set as an indexer is deprecated and will raise in a future version. Use a list instead.\n",
      "  allelArticleMap_Allergy.loc[set(allelArticleMap_Allergy.index)\n"
     ]
    }
   ],
   "source": [
    "allelArticleMap_Allergy.loc[set(allelArticleMap_Allergy.index) \n",
    "                            - set(allelArticleMap.index)].to_csv(\"../tables/onlyInallergy.csv\")"
   ]
  },
  {
   "cell_type": "code",
   "execution_count": null,
   "metadata": {},
   "outputs": [],
   "source": []
  }
 ],
 "metadata": {
  "kernelspec": {
   "display_name": "Python 3 (ipykernel)",
   "language": "python",
   "name": "python3"
  },
  "language_info": {
   "codemirror_mode": {
    "name": "ipython",
    "version": 3
   },
   "file_extension": ".py",
   "mimetype": "text/x-python",
   "name": "python",
   "nbconvert_exporter": "python",
   "pygments_lexer": "ipython3",
   "version": "3.9.9"
  }
 },
 "nbformat": 4,
 "nbformat_minor": 4
}

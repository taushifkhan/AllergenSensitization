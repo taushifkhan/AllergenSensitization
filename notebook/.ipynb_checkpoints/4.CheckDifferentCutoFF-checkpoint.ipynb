{
 "cells": [
  {
   "cell_type": "code",
   "execution_count": 2,
   "metadata": {},
   "outputs": [],
   "source": [
    "import pandas as pd\n",
    "import numpy as np\n",
    "import seaborn as sns\n",
    "import matplotlib.pyplot as plt\n",
    "sns.set(font_scale=1.4)\n",
    "import altair as alt"
   ]
  },
  {
   "cell_type": "code",
   "execution_count": 3,
   "metadata": {},
   "outputs": [],
   "source": [
    "igE_clinicRaw = pd.read_csv(\"../data_primary/clinicIgE_rawData.csv\").set_index(\"QBB_DUMMY_ID\")"
   ]
  },
  {
   "cell_type": "code",
   "execution_count": 4,
   "metadata": {},
   "outputs": [],
   "source": [
    "igECutoFF = igE_clinicRaw[igE_clinicRaw>0.3].fillna(0).astype(bool).sum().to_frame().rename({0:'IUg_0.3'},axis=1)\n",
    "igECutoFF['IUg_0.34'] = igE_clinicRaw[igE_clinicRaw>0.34].fillna(0).astype(bool).sum()\n",
    "igECutoFF = igECutoFF"
   ]
  },
  {
   "cell_type": "code",
   "execution_count": 5,
   "metadata": {},
   "outputs": [],
   "source": [
    "igECutoFF['pct_loss'] = [((igECutoFF.loc[i,'IUg_0.3']-igECutoFF.loc[i,'IUg_0.34'])/igECutoFF.loc[i,'IUg_0.3'])*100 for i in igECutoFF.index]"
   ]
  },
  {
   "cell_type": "code",
   "execution_count": 6,
   "metadata": {},
   "outputs": [
    {
     "data": {
      "text/html": [
       "<div>\n",
       "<style scoped>\n",
       "    .dataframe tbody tr th:only-of-type {\n",
       "        vertical-align: middle;\n",
       "    }\n",
       "\n",
       "    .dataframe tbody tr th {\n",
       "        vertical-align: top;\n",
       "    }\n",
       "\n",
       "    .dataframe thead th {\n",
       "        text-align: right;\n",
       "    }\n",
       "</style>\n",
       "<table border=\"1\" class=\"dataframe\">\n",
       "  <thead>\n",
       "    <tr style=\"text-align: right;\">\n",
       "      <th></th>\n",
       "      <th>IUg_0.3</th>\n",
       "      <th>IUg_0.34</th>\n",
       "      <th>pct_loss</th>\n",
       "    </tr>\n",
       "  </thead>\n",
       "  <tbody>\n",
       "    <tr>\n",
       "      <th>fx2</th>\n",
       "      <td>159</td>\n",
       "      <td>151</td>\n",
       "      <td>5.031447</td>\n",
       "    </tr>\n",
       "    <tr>\n",
       "      <th>wx1</th>\n",
       "      <td>211</td>\n",
       "      <td>200</td>\n",
       "      <td>5.213270</td>\n",
       "    </tr>\n",
       "    <tr>\n",
       "      <th>t20</th>\n",
       "      <td>77</td>\n",
       "      <td>72</td>\n",
       "      <td>6.493506</td>\n",
       "    </tr>\n",
       "    <tr>\n",
       "      <th>gx2</th>\n",
       "      <td>102</td>\n",
       "      <td>92</td>\n",
       "      <td>9.803922</td>\n",
       "    </tr>\n",
       "    <tr>\n",
       "      <th>phad</th>\n",
       "      <td>400</td>\n",
       "      <td>358</td>\n",
       "      <td>10.500000</td>\n",
       "    </tr>\n",
       "    <tr>\n",
       "      <th>fx5</th>\n",
       "      <td>101</td>\n",
       "      <td>84</td>\n",
       "      <td>16.831683</td>\n",
       "    </tr>\n",
       "    <tr>\n",
       "      <th>fx1</th>\n",
       "      <td>35</td>\n",
       "      <td>29</td>\n",
       "      <td>17.142857</td>\n",
       "    </tr>\n",
       "    <tr>\n",
       "      <th>fx22</th>\n",
       "      <td>65</td>\n",
       "      <td>51</td>\n",
       "      <td>21.538462</td>\n",
       "    </tr>\n",
       "  </tbody>\n",
       "</table>\n",
       "</div>"
      ],
      "text/plain": [
       "      IUg_0.3  IUg_0.34   pct_loss\n",
       "fx2       159       151   5.031447\n",
       "wx1       211       200   5.213270\n",
       "t20        77        72   6.493506\n",
       "gx2       102        92   9.803922\n",
       "phad      400       358  10.500000\n",
       "fx5       101        84  16.831683\n",
       "fx1        35        29  17.142857\n",
       "fx22       65        51  21.538462"
      ]
     },
     "execution_count": 6,
     "metadata": {},
     "output_type": "execute_result"
    }
   ],
   "source": [
    "igECutoFF.sort_values(by='pct_loss')"
   ]
  },
  {
   "cell_type": "code",
   "execution_count": null,
   "metadata": {},
   "outputs": [],
   "source": []
  },
  {
   "cell_type": "code",
   "execution_count": 10,
   "metadata": {},
   "outputs": [],
   "source": [
    "igE_clinicRaw_bool34 = igE_clinicRaw[igE_clinicRaw>0.34].fillna(0).astype(bool).astype(int)"
   ]
  },
  {
   "cell_type": "code",
   "execution_count": 11,
   "metadata": {},
   "outputs": [],
   "source": [
    "igE_clinicRaw_bool34.to_csv(\"../data_primary/clinicBool_34cutoff.csv\")"
   ]
  },
  {
   "cell_type": "code",
   "execution_count": 12,
   "metadata": {},
   "outputs": [],
   "source": [
    "igE_clinic = pd.read_csv(\"../data_primary/clinicBool_34cutoff.csv\")"
   ]
  },
  {
   "cell_type": "code",
   "execution_count": 13,
   "metadata": {},
   "outputs": [
    {
     "data": {
      "text/html": [
       "<div>\n",
       "<style scoped>\n",
       "    .dataframe tbody tr th:only-of-type {\n",
       "        vertical-align: middle;\n",
       "    }\n",
       "\n",
       "    .dataframe tbody tr th {\n",
       "        vertical-align: top;\n",
       "    }\n",
       "\n",
       "    .dataframe thead th {\n",
       "        text-align: right;\n",
       "    }\n",
       "</style>\n",
       "<table border=\"1\" class=\"dataframe\">\n",
       "  <thead>\n",
       "    <tr style=\"text-align: right;\">\n",
       "      <th></th>\n",
       "      <th>QBB_DUMMY_ID</th>\n",
       "      <th>fx1</th>\n",
       "      <th>fx2</th>\n",
       "      <th>fx22</th>\n",
       "      <th>fx5</th>\n",
       "      <th>gx2</th>\n",
       "      <th>phad</th>\n",
       "      <th>t20</th>\n",
       "      <th>wx1</th>\n",
       "    </tr>\n",
       "  </thead>\n",
       "  <tbody>\n",
       "    <tr>\n",
       "      <th>0</th>\n",
       "      <td>SIR000037000780</td>\n",
       "      <td>0</td>\n",
       "      <td>0</td>\n",
       "      <td>0</td>\n",
       "      <td>0</td>\n",
       "      <td>0</td>\n",
       "      <td>0</td>\n",
       "      <td>0</td>\n",
       "      <td>0</td>\n",
       "    </tr>\n",
       "    <tr>\n",
       "      <th>1</th>\n",
       "      <td>SIR000037000142</td>\n",
       "      <td>0</td>\n",
       "      <td>0</td>\n",
       "      <td>0</td>\n",
       "      <td>0</td>\n",
       "      <td>0</td>\n",
       "      <td>0</td>\n",
       "      <td>0</td>\n",
       "      <td>0</td>\n",
       "    </tr>\n",
       "    <tr>\n",
       "      <th>2</th>\n",
       "      <td>SIR000037000275</td>\n",
       "      <td>1</td>\n",
       "      <td>1</td>\n",
       "      <td>1</td>\n",
       "      <td>1</td>\n",
       "      <td>0</td>\n",
       "      <td>1</td>\n",
       "      <td>0</td>\n",
       "      <td>1</td>\n",
       "    </tr>\n",
       "    <tr>\n",
       "      <th>3</th>\n",
       "      <td>SIR000037000009</td>\n",
       "      <td>0</td>\n",
       "      <td>0</td>\n",
       "      <td>0</td>\n",
       "      <td>0</td>\n",
       "      <td>0</td>\n",
       "      <td>0</td>\n",
       "      <td>0</td>\n",
       "      <td>0</td>\n",
       "    </tr>\n",
       "    <tr>\n",
       "      <th>4</th>\n",
       "      <td>SIR000037000702</td>\n",
       "      <td>0</td>\n",
       "      <td>0</td>\n",
       "      <td>0</td>\n",
       "      <td>0</td>\n",
       "      <td>0</td>\n",
       "      <td>1</td>\n",
       "      <td>1</td>\n",
       "      <td>1</td>\n",
       "    </tr>\n",
       "    <tr>\n",
       "      <th>...</th>\n",
       "      <td>...</td>\n",
       "      <td>...</td>\n",
       "      <td>...</td>\n",
       "      <td>...</td>\n",
       "      <td>...</td>\n",
       "      <td>...</td>\n",
       "      <td>...</td>\n",
       "      <td>...</td>\n",
       "      <td>...</td>\n",
       "    </tr>\n",
       "    <tr>\n",
       "      <th>792</th>\n",
       "      <td>SIR000037000061</td>\n",
       "      <td>0</td>\n",
       "      <td>1</td>\n",
       "      <td>0</td>\n",
       "      <td>1</td>\n",
       "      <td>0</td>\n",
       "      <td>1</td>\n",
       "      <td>0</td>\n",
       "      <td>1</td>\n",
       "    </tr>\n",
       "    <tr>\n",
       "      <th>793</th>\n",
       "      <td>SIR000037000281</td>\n",
       "      <td>0</td>\n",
       "      <td>0</td>\n",
       "      <td>0</td>\n",
       "      <td>0</td>\n",
       "      <td>0</td>\n",
       "      <td>0</td>\n",
       "      <td>0</td>\n",
       "      <td>0</td>\n",
       "    </tr>\n",
       "    <tr>\n",
       "      <th>794</th>\n",
       "      <td>SIR000037000282</td>\n",
       "      <td>0</td>\n",
       "      <td>0</td>\n",
       "      <td>0</td>\n",
       "      <td>0</td>\n",
       "      <td>0</td>\n",
       "      <td>0</td>\n",
       "      <td>0</td>\n",
       "      <td>0</td>\n",
       "    </tr>\n",
       "    <tr>\n",
       "      <th>795</th>\n",
       "      <td>SIR000037000063</td>\n",
       "      <td>0</td>\n",
       "      <td>0</td>\n",
       "      <td>0</td>\n",
       "      <td>0</td>\n",
       "      <td>0</td>\n",
       "      <td>1</td>\n",
       "      <td>0</td>\n",
       "      <td>0</td>\n",
       "    </tr>\n",
       "    <tr>\n",
       "      <th>796</th>\n",
       "      <td>SIR000037000062</td>\n",
       "      <td>0</td>\n",
       "      <td>0</td>\n",
       "      <td>0</td>\n",
       "      <td>1</td>\n",
       "      <td>0</td>\n",
       "      <td>0</td>\n",
       "      <td>0</td>\n",
       "      <td>0</td>\n",
       "    </tr>\n",
       "  </tbody>\n",
       "</table>\n",
       "<p>797 rows × 9 columns</p>\n",
       "</div>"
      ],
      "text/plain": [
       "        QBB_DUMMY_ID  fx1  fx2  fx22  fx5  gx2  phad  t20  wx1\n",
       "0    SIR000037000780    0    0     0    0    0     0    0    0\n",
       "1    SIR000037000142    0    0     0    0    0     0    0    0\n",
       "2    SIR000037000275    1    1     1    1    0     1    0    1\n",
       "3    SIR000037000009    0    0     0    0    0     0    0    0\n",
       "4    SIR000037000702    0    0     0    0    0     1    1    1\n",
       "..               ...  ...  ...   ...  ...  ...   ...  ...  ...\n",
       "792  SIR000037000061    0    1     0    1    0     1    0    1\n",
       "793  SIR000037000281    0    0     0    0    0     0    0    0\n",
       "794  SIR000037000282    0    0     0    0    0     0    0    0\n",
       "795  SIR000037000063    0    0     0    0    0     1    0    0\n",
       "796  SIR000037000062    0    0     0    1    0     0    0    0\n",
       "\n",
       "[797 rows x 9 columns]"
      ]
     },
     "execution_count": 13,
     "metadata": {},
     "output_type": "execute_result"
    }
   ],
   "source": [
    "igE_clinic"
   ]
  },
  {
   "cell_type": "code",
   "execution_count": 14,
   "metadata": {},
   "outputs": [
    {
     "name": "stdout",
     "output_type": "stream",
     "text": [
      "Allele Selected for analysis = (45,)\n",
      "Genotype Matrix (800, 45) (800, 45)\n"
     ]
    }
   ],
   "source": [
    "alleleFrq = pd.read_csv(\"../data_primary/AlleleFrequency_protRes_2methods.csv\")\n",
    "alleleSelect = alleleFrq[alleleFrq.selectedForStudy==1].ProtRes.values\n",
    "print (\"Allele Selected for analysis =\", alleleSelect.shape)\n",
    "prgGT = pd.read_csv(\"../data_primary/HLA_LA_protGT.csv\").set_index(\"QBB_DUMMY_ID\")[alleleSelect]\n",
    "hdGT = pd.read_csv(\"../data_primary/HLA_HD_protGT.csv\").set_index(\"QBB_DUMMY_ID\")[alleleSelect]\n",
    "print (\"Genotype Matrix\", prgGT.shape, hdGT.shape)"
   ]
  },
  {
   "cell_type": "code",
   "execution_count": 16,
   "metadata": {},
   "outputs": [
    {
     "name": "stdout",
     "output_type": "stream",
     "text": [
      "797\n"
     ]
    }
   ],
   "source": [
    "igE_clinic = pd.read_csv(\"../data_primary/clinicBool_34cutoff.csv\").set_index(\"QBB_DUMMY_ID\")\n",
    "covar = pd.read_csv(\"../data_primary/covarExted.csv\").set_index(\"QBB_DUMMY_ID\")\n",
    "_commonIdx = set(igE_clinic.index).intersection(covar.index)\n",
    "print (len(_commonIdx))"
   ]
  },
  {
   "cell_type": "code",
   "execution_count": 17,
   "metadata": {},
   "outputs": [
    {
     "name": "stdout",
     "output_type": "stream",
     "text": [
      "Genotypes Matrix (797, 45) (797, 45)\n",
      "allergen phenotype (797, 8)\n",
      "Covariates (797, 7)\n"
     ]
    },
    {
     "name": "stderr",
     "output_type": "stream",
     "text": [
      "/var/folders/v9/w_vjbp2j7qb395g17zpzcp180000gp/T/ipykernel_57564/3962263042.py:1: FutureWarning: Passing a set as an indexer is deprecated and will raise in a future version. Use a list instead.\n",
      "  prgGT_bool = prgGT.astype(bool).astype(int).loc[_commonIdx].sort_index()\n",
      "/var/folders/v9/w_vjbp2j7qb395g17zpzcp180000gp/T/ipykernel_57564/3962263042.py:2: FutureWarning: Passing a set as an indexer is deprecated and will raise in a future version. Use a list instead.\n",
      "  hdGT_bool  = hdGT.astype(bool).astype(int).loc[_commonIdx].sort_index()\n",
      "/var/folders/v9/w_vjbp2j7qb395g17zpzcp180000gp/T/ipykernel_57564/3962263042.py:3: FutureWarning: Passing a set as an indexer is deprecated and will raise in a future version. Use a list instead.\n",
      "  igE_clinic = igE_clinic.loc[_commonIdx].sort_index()\n",
      "/var/folders/v9/w_vjbp2j7qb395g17zpzcp180000gp/T/ipykernel_57564/3962263042.py:4: FutureWarning: Passing a set as an indexer is deprecated and will raise in a future version. Use a list instead.\n",
      "  covarx = covar.loc[_commonIdx].sort_index()\n"
     ]
    }
   ],
   "source": [
    "prgGT_bool = prgGT.astype(bool).astype(int).loc[_commonIdx].sort_index()\n",
    "hdGT_bool  = hdGT.astype(bool).astype(int).loc[_commonIdx].sort_index()\n",
    "igE_clinic = igE_clinic.loc[_commonIdx].sort_index()\n",
    "covarx = covar.loc[_commonIdx].sort_index()\n",
    "\n",
    "print (\"Genotypes Matrix\", prgGT_bool.shape, hdGT_bool.shape)\n",
    "print (\"allergen phenotype\", igE_clinic.shape)\n",
    "print (\"Covariates\", covarx.shape)"
   ]
  },
  {
   "cell_type": "code",
   "execution_count": 18,
   "metadata": {},
   "outputs": [],
   "source": [
    "## LA_allergyFreq\n",
    "igE_clinic_allelePOS =pd.DataFrame(index=igE_clinic.columns)\n",
    "igE_clinic_alleleNEG =pd.DataFrame(index=igE_clinic.columns)\n",
    "\n",
    "for k in prgGT_bool.columns:\n",
    "    _pos = prgGT_bool[prgGT_bool[k]==1].index\n",
    "    _posFrac = igE_clinic.loc[_pos].sum(axis=0)/len(_pos)\n",
    "    igE_clinic_allelePOS[k] = _posFrac\n",
    "    \n",
    "    _neg = prgGT_bool[prgGT_bool[k]==0].index\n",
    "    _negFrac = igE_clinic.loc[_neg].sum(axis=0)/len(_neg)\n",
    "    igE_clinic_alleleNEG[k] = _negFrac\n",
    "\n",
    "igE_clinic_allelePOSx = igE_clinic_allelePOS.unstack().reset_index().rename({'level_0':'allele','level_1':'allergen',0:'posFrac_LA'},axis=1)\n",
    "igE_clinic_allelePOSx['allele_allergen'] = igE_clinic_allelePOSx.allergen+\"_\"+igE_clinic_allelePOSx.allele\n",
    "igE_clinic_allelePOSx = igE_clinic_allelePOSx.set_index(\"allele_allergen\")[['posFrac_LA']]\n",
    "\n",
    "igE_clinic_alleleNEGx = igE_clinic_alleleNEG.unstack().reset_index().rename({'level_0':'allele','level_1':'allergen',0:'negFrac_LA'},axis=1)\n",
    "igE_clinic_alleleNEGx['allele_allergen'] = igE_clinic_alleleNEGx.allergen+\"_\"+igE_clinic_alleleNEGx.allele\n",
    "igE_clinic_alleleNEGx = igE_clinic_alleleNEGx.set_index(\"allele_allergen\")[['negFrac_LA']]\n",
    "\n",
    "LA_allergyFreq = pd.concat([igE_clinic_allelePOSx,igE_clinic_alleleNEGx],axis=1)"
   ]
  },
  {
   "cell_type": "code",
   "execution_count": 19,
   "metadata": {},
   "outputs": [],
   "source": [
    "# HD_allergyFreq\n",
    "igE_clinic_allelePOS =pd.DataFrame(index=igE_clinic.columns)\n",
    "igE_clinic_alleleNEG =pd.DataFrame(index=igE_clinic.columns)\n",
    "\n",
    "for k in hdGT_bool.columns:\n",
    "    _pos = hdGT_bool[hdGT_bool[k]==1].index\n",
    "    _posFrac = igE_clinic.loc[_pos].sum(axis=0)/len(_pos)\n",
    "    igE_clinic_allelePOS[k] = _posFrac\n",
    "    \n",
    "    _neg = hdGT_bool[hdGT_bool[k]==0].index\n",
    "    _negFrac = igE_clinic.loc[_neg].sum(axis=0)/len(_neg)\n",
    "    igE_clinic_alleleNEG[k] = _negFrac\n",
    "    \n",
    "igE_clinic_allelePOSx = igE_clinic_allelePOS.unstack().reset_index().rename({'level_0':'allele','level_1':'allergen',0:'posFrac_HD'},axis=1)\n",
    "igE_clinic_allelePOSx['allele_allergen'] = igE_clinic_allelePOSx.allergen+\"_\"+igE_clinic_allelePOSx.allele\n",
    "igE_clinic_allelePOSx = igE_clinic_allelePOSx.set_index(\"allele_allergen\")[['posFrac_HD']]\n",
    "\n",
    "igE_clinic_alleleNEGx = igE_clinic_alleleNEG.unstack().reset_index().rename({'level_0':'allele','level_1':'allergen',0:'negFrac_HD'},axis=1)\n",
    "igE_clinic_alleleNEGx['allele_allergen'] = igE_clinic_alleleNEGx.allergen+\"_\"+igE_clinic_alleleNEGx.allele\n",
    "igE_clinic_alleleNEGx = igE_clinic_alleleNEGx.set_index(\"allele_allergen\")[['negFrac_HD']]\n",
    "HD_allergyFreq = pd.concat([igE_clinic_allelePOSx,igE_clinic_alleleNEGx],axis=1)"
   ]
  },
  {
   "cell_type": "code",
   "execution_count": 20,
   "metadata": {},
   "outputs": [
    {
     "data": {
      "text/html": [
       "<div>\n",
       "<style scoped>\n",
       "    .dataframe tbody tr th:only-of-type {\n",
       "        vertical-align: middle;\n",
       "    }\n",
       "\n",
       "    .dataframe tbody tr th {\n",
       "        vertical-align: top;\n",
       "    }\n",
       "\n",
       "    .dataframe thead th {\n",
       "        text-align: right;\n",
       "    }\n",
       "</style>\n",
       "<table border=\"1\" class=\"dataframe\">\n",
       "  <thead>\n",
       "    <tr style=\"text-align: right;\">\n",
       "      <th></th>\n",
       "      <th>posFrac_LA</th>\n",
       "      <th>negFrac_LA</th>\n",
       "      <th>posFrac_HD</th>\n",
       "      <th>negFrac_HD</th>\n",
       "      <th>allele</th>\n",
       "      <th>allergen</th>\n",
       "    </tr>\n",
       "    <tr>\n",
       "      <th>allele_allergen</th>\n",
       "      <th></th>\n",
       "      <th></th>\n",
       "      <th></th>\n",
       "      <th></th>\n",
       "      <th></th>\n",
       "      <th></th>\n",
       "    </tr>\n",
       "  </thead>\n",
       "  <tbody>\n",
       "    <tr>\n",
       "      <th>fx1_DPA1*02:02</th>\n",
       "      <td>0.041237</td>\n",
       "      <td>0.035714</td>\n",
       "      <td>0.046296</td>\n",
       "      <td>0.034833</td>\n",
       "      <td>fx1</td>\n",
       "      <td>DPA1*02:02</td>\n",
       "    </tr>\n",
       "    <tr>\n",
       "      <th>fx2_DPA1*02:02</th>\n",
       "      <td>0.185567</td>\n",
       "      <td>0.190000</td>\n",
       "      <td>0.175926</td>\n",
       "      <td>0.191582</td>\n",
       "      <td>fx2</td>\n",
       "      <td>DPA1*02:02</td>\n",
       "    </tr>\n",
       "    <tr>\n",
       "      <th>fx22_DPA1*02:02</th>\n",
       "      <td>0.092784</td>\n",
       "      <td>0.060000</td>\n",
       "      <td>0.092593</td>\n",
       "      <td>0.059507</td>\n",
       "      <td>fx22</td>\n",
       "      <td>DPA1*02:02</td>\n",
       "    </tr>\n",
       "    <tr>\n",
       "      <th>fx5_DPA1*02:02</th>\n",
       "      <td>0.134021</td>\n",
       "      <td>0.101429</td>\n",
       "      <td>0.138889</td>\n",
       "      <td>0.100145</td>\n",
       "      <td>fx5</td>\n",
       "      <td>DPA1*02:02</td>\n",
       "    </tr>\n",
       "    <tr>\n",
       "      <th>gx2_DPA1*02:02</th>\n",
       "      <td>0.164948</td>\n",
       "      <td>0.108571</td>\n",
       "      <td>0.166667</td>\n",
       "      <td>0.107402</td>\n",
       "      <td>gx2</td>\n",
       "      <td>DPA1*02:02</td>\n",
       "    </tr>\n",
       "  </tbody>\n",
       "</table>\n",
       "</div>"
      ],
      "text/plain": [
       "                 posFrac_LA  negFrac_LA  posFrac_HD  negFrac_HD allele  \\\n",
       "allele_allergen                                                          \n",
       "fx1_DPA1*02:02     0.041237    0.035714    0.046296    0.034833    fx1   \n",
       "fx2_DPA1*02:02     0.185567    0.190000    0.175926    0.191582    fx2   \n",
       "fx22_DPA1*02:02    0.092784    0.060000    0.092593    0.059507   fx22   \n",
       "fx5_DPA1*02:02     0.134021    0.101429    0.138889    0.100145    fx5   \n",
       "gx2_DPA1*02:02     0.164948    0.108571    0.166667    0.107402    gx2   \n",
       "\n",
       "                   allergen  \n",
       "allele_allergen              \n",
       "fx1_DPA1*02:02   DPA1*02:02  \n",
       "fx2_DPA1*02:02   DPA1*02:02  \n",
       "fx22_DPA1*02:02  DPA1*02:02  \n",
       "fx5_DPA1*02:02   DPA1*02:02  \n",
       "gx2_DPA1*02:02   DPA1*02:02  "
      ]
     },
     "execution_count": 20,
     "metadata": {},
     "output_type": "execute_result"
    }
   ],
   "source": [
    "alleleAllergy = pd.concat([LA_allergyFreq,HD_allergyFreq],axis=1)\n",
    "alleleAllergy['allele'] = [i.split(\"_\")[0] for i in alleleAllergy.index]\n",
    "alleleAllergy['allergen'] = [i.split(\"_\")[1] for i in alleleAllergy.index]\n",
    "alleleAllergy.head()"
   ]
  },
  {
   "cell_type": "code",
   "execution_count": 22,
   "metadata": {},
   "outputs": [
    {
     "data": {
      "text/plain": [
       "<AxesSubplot:xlabel='alleleStat', ylabel='fraction'>"
      ]
     },
     "execution_count": 22,
     "metadata": {},
     "output_type": "execute_result"
    },
    {
     "data": {
      "image/png": "[encoded data removed]",
      "text/plain": [
       "<Figure size 288x216 with 1 Axes>"
      ]
     },
     "metadata": {},
     "output_type": "display_data"
    }
   ],
   "source": [
    "alleleAllergy_us = alleleAllergy[['posFrac_LA','negFrac_LA','posFrac_HD','negFrac_HD']].unstack().reset_index().rename({'level_0':'alleleStat',0:'fraction'},axis=1)\n",
    "plt.figure(figsize=(4,3))\n",
    "sns.boxplot(x='alleleStat',y='fraction',data=alleleAllergy_us)"
   ]
  },
  {
   "cell_type": "code",
   "execution_count": 23,
   "metadata": {},
   "outputs": [],
   "source": [
    "alleleAllergy.to_csv(\"../data_curated/Allele-AllergenFrequency_cutoff34.csv\")"
   ]
  },
  {
   "cell_type": "code",
   "execution_count": 24,
   "metadata": {},
   "outputs": [
    {
     "data": {
      "text/plain": [
       "<AxesSubplot:ylabel='Frequency'>"
      ]
     },
     "execution_count": 24,
     "metadata": {},
     "output_type": "execute_result"
    },
    {
     "data": {
      "image/png": "[encoded data removed]",
      "text/plain": [
       "<Figure size 432x288 with 1 Axes>"
      ]
     },
     "metadata": {},
     "output_type": "display_data"
    }
   ],
   "source": [
    "HD_allergyFreq['repDiff'] = HD_allergyFreq.posFrac_HD-HD_allergyFreq.negFrac_HD\n",
    "HD_allergyFreq.repDiff.plot(kind=\"hist\")"
   ]
  },
  {
   "cell_type": "code",
   "execution_count": 83,
   "metadata": {},
   "outputs": [
    {
     "data": {
      "image/png": "[encoded data removed]",
      "text/plain": [
       "<Figure size 288x288 with 4 Axes>"
      ]
     },
     "metadata": {},
     "output_type": "display_data"
    }
   ],
   "source": [
    "cxRaw = sns.clustermap(igE_clinicRaw.corr(),figsize=(4,4),vmin=0.1,vmax=0.9,cmap='Purples',\\\n",
    "                       cbar_kws={'label':'pearson corr.'},cbar_pos=[1.001,0.3,0.05,0.5])"
   ]
  },
  {
   "cell_type": "code",
   "execution_count": 84,
   "metadata": {},
   "outputs": [],
   "source": [
    "cxRaw.savefig(\"../results_34cutoff/figures/Fig1B_rawCorr.pdf\",dpi=300)"
   ]
  },
  {
   "cell_type": "code",
   "execution_count": 26,
   "metadata": {},
   "outputs": [
    {
     "data": {
      "text/plain": [
       "fx1      29\n",
       "fx2     151\n",
       "fx22     51\n",
       "fx5      84\n",
       "gx2      92\n",
       "phad    358\n",
       "t20      72\n",
       "wx1     200\n",
       "dtype: int64"
      ]
     },
     "execution_count": 26,
     "metadata": {},
     "output_type": "execute_result"
    }
   ],
   "source": [
    "igE_clinicRaw_bool34.sum()"
   ]
  },
  {
   "cell_type": "code",
   "execution_count": 27,
   "metadata": {},
   "outputs": [],
   "source": [
    "pct_senz = pd.DataFrame((igE_clinicRaw_bool34.sum()/igE_clinicRaw_bool34.shape[0])*100,columns=['pct_sens'])\n",
    "pct_senz['posSamples'] = igE_clinicRaw_bool34.sum()\n",
    "pct_senz = pct_senz.reset_index()"
   ]
  },
  {
   "cell_type": "code",
   "execution_count": 28,
   "metadata": {},
   "outputs": [
    {
     "data": {
      "text/html": [
       "<div>\n",
       "<style scoped>\n",
       "    .dataframe tbody tr th:only-of-type {\n",
       "        vertical-align: middle;\n",
       "    }\n",
       "\n",
       "    .dataframe tbody tr th {\n",
       "        vertical-align: top;\n",
       "    }\n",
       "\n",
       "    .dataframe thead th {\n",
       "        text-align: right;\n",
       "    }\n",
       "</style>\n",
       "<table border=\"1\" class=\"dataframe\">\n",
       "  <thead>\n",
       "    <tr style=\"text-align: right;\">\n",
       "      <th></th>\n",
       "      <th>index</th>\n",
       "      <th>pct_sens</th>\n",
       "      <th>posSamples</th>\n",
       "    </tr>\n",
       "  </thead>\n",
       "  <tbody>\n",
       "    <tr>\n",
       "      <th>0</th>\n",
       "      <td>fx1</td>\n",
       "      <td>3.638645</td>\n",
       "      <td>29</td>\n",
       "    </tr>\n",
       "    <tr>\n",
       "      <th>1</th>\n",
       "      <td>fx2</td>\n",
       "      <td>18.946048</td>\n",
       "      <td>151</td>\n",
       "    </tr>\n",
       "    <tr>\n",
       "      <th>2</th>\n",
       "      <td>fx22</td>\n",
       "      <td>6.398996</td>\n",
       "      <td>51</td>\n",
       "    </tr>\n",
       "    <tr>\n",
       "      <th>3</th>\n",
       "      <td>fx5</td>\n",
       "      <td>10.539523</td>\n",
       "      <td>84</td>\n",
       "    </tr>\n",
       "    <tr>\n",
       "      <th>4</th>\n",
       "      <td>gx2</td>\n",
       "      <td>11.543287</td>\n",
       "      <td>92</td>\n",
       "    </tr>\n",
       "    <tr>\n",
       "      <th>5</th>\n",
       "      <td>phad</td>\n",
       "      <td>44.918444</td>\n",
       "      <td>358</td>\n",
       "    </tr>\n",
       "    <tr>\n",
       "      <th>6</th>\n",
       "      <td>t20</td>\n",
       "      <td>9.033877</td>\n",
       "      <td>72</td>\n",
       "    </tr>\n",
       "    <tr>\n",
       "      <th>7</th>\n",
       "      <td>wx1</td>\n",
       "      <td>25.094103</td>\n",
       "      <td>200</td>\n",
       "    </tr>\n",
       "  </tbody>\n",
       "</table>\n",
       "</div>"
      ],
      "text/plain": [
       "  index   pct_sens  posSamples\n",
       "0   fx1   3.638645          29\n",
       "1   fx2  18.946048         151\n",
       "2  fx22   6.398996          51\n",
       "3   fx5  10.539523          84\n",
       "4   gx2  11.543287          92\n",
       "5  phad  44.918444         358\n",
       "6   t20   9.033877          72\n",
       "7   wx1  25.094103         200"
      ]
     },
     "execution_count": 28,
     "metadata": {},
     "output_type": "execute_result"
    }
   ],
   "source": [
    "pct_senz"
   ]
  },
  {
   "cell_type": "code",
   "execution_count": 57,
   "metadata": {},
   "outputs": [
    {
     "data": {
      "text/html": [
       "\n",
       "<div id=\"altair-viz-c63c55144dce49cc919f4ba02c4666a6\"></div>\n",
       "<script type=\"text/javascript\">\n",
       "  (function(spec, embedOpt){\n",
       "    let outputDiv = document.currentScript.previousElementSibling;\n",
       "    if (outputDiv.id !== \"altair-viz-c63c55144dce49cc919f4ba02c4666a6\") {\n",
       "      outputDiv = document.getElementById(\"altair-viz-c63c55144dce49cc919f4ba02c4666a6\");\n",
       "    }\n",
       "    const paths = {\n",
       "      \"vega\": \"https://cdn.jsdelivr.net/npm//vega@5?noext\",\n",
       "      \"vega-lib\": \"https://cdn.jsdelivr.net/npm//vega-lib?noext\",\n",
       "      \"vega-lite\": \"https://cdn.jsdelivr.net/npm//vega-lite@4.8.1?noext\",\n",
       "      \"vega-embed\": \"https://cdn.jsdelivr.net/npm//vega-embed@6?noext\",\n",
       "    };\n",
       "\n",
       "    function loadScript(lib) {\n",
       "      return new Promise(function(resolve, reject) {\n",
       "        var s = document.createElement('script');\n",
       "        s.src = paths[lib];\n",
       "        s.async = true;\n",
       "        s.onload = () => resolve(paths[lib]);\n",
       "        s.onerror = () => reject(`Error loading script: ${paths[lib]}`);\n",
       "        document.getElementsByTagName(\"head\")[0].appendChild(s);\n",
       "      });\n",
       "    }\n",
       "\n",
       "    function showError(err) {\n",
       "      outputDiv.innerHTML = `<div class=\"error\" style=\"color:red;\">${err}</div>`;\n",
       "      throw err;\n",
       "    }\n",
       "\n",
       "    function displayChart(vegaEmbed) {\n",
       "      vegaEmbed(outputDiv, spec, embedOpt)\n",
       "        .catch(err => showError(`Javascript Error: ${err.message}<br>This usually means there's a typo in your chart specification. See the javascript console for the full traceback.`));\n",
       "    }\n",
       "\n",
       "    if(typeof define === \"function\" && define.amd) {\n",
       "      requirejs.config({paths});\n",
       "      require([\"vega-embed\"], displayChart, err => showError(`Error loading script: ${err.message}`));\n",
       "    } else if (typeof vegaEmbed === \"function\") {\n",
       "      displayChart(vegaEmbed);\n",
       "    } else {\n",
       "      loadScript(\"vega\")\n",
       "        .then(() => loadScript(\"vega-lite\"))\n",
       "        .then(() => loadScript(\"vega-embed\"))\n",
       "        .catch(showError)\n",
       "        .then(() => displayChart(vegaEmbed));\n",
       "    }\n",
       "  })({\"config\": {\"view\": {\"continuousWidth\": 400, \"continuousHeight\": 300}}, \"layer\": [{\"mark\": {\"type\": \"bar\", \"color\": \"#b2abd2\", \"width\": 25}, \"encoding\": {\"x\": {\"type\": \"nominal\", \"axis\": {\"labelFontSize\": 12, \"title\": \"Allergen Panel\", \"titleFontSize\": 12}, \"field\": \"index\", \"sort\": [\"fx1\", \"fx22\", \"t20\", \"fx5\", \"gx2\", \"fx2\", \"wx1\", \"phad\"]}, \"y\": {\"type\": \"quantitative\", \"axis\": {\"labelFontSize\": 12, \"title\": \"% sample\", \"titleFontSize\": 12}, \"field\": \"pct_sens\"}}, \"height\": 200, \"width\": 300}, {\"mark\": {\"type\": \"text\", \"align\": \"center\", \"baseline\": \"middle\", \"dy\": -4}, \"encoding\": {\"text\": {\"type\": \"quantitative\", \"field\": \"posSamples\"}, \"x\": {\"type\": \"nominal\", \"axis\": {\"labelFontSize\": 12, \"title\": \"Allergen Panel\", \"titleFontSize\": 12}, \"field\": \"index\", \"sort\": [\"fx1\", \"fx22\", \"t20\", \"fx5\", \"gx2\", \"fx2\", \"wx1\", \"phad\"]}, \"y\": {\"type\": \"quantitative\", \"axis\": {\"labelFontSize\": 12, \"title\": \"% sample\", \"titleFontSize\": 12}, \"field\": \"pct_sens\"}}, \"height\": 200, \"width\": 300}], \"data\": {\"name\": \"data-f191e49430cf9b5c50beaf207bc1c9a4\"}, \"$schema\": \"https://vega.github.io/schema/vega-lite/v4.8.1.json\", \"datasets\": {\"data-f191e49430cf9b5c50beaf207bc1c9a4\": [{\"index\": \"fx1\", \"pct_sens\": 3.638644918444166, \"posSamples\": 29}, {\"index\": \"fx22\", \"pct_sens\": 6.398996235884567, \"posSamples\": 51}, {\"index\": \"t20\", \"pct_sens\": 9.03387703889586, \"posSamples\": 72}, {\"index\": \"fx5\", \"pct_sens\": 10.53952321204517, \"posSamples\": 84}, {\"index\": \"gx2\", \"pct_sens\": 11.543287327478042, \"posSamples\": 92}, {\"index\": \"fx2\", \"pct_sens\": 18.946047678795484, \"posSamples\": 151}, {\"index\": \"wx1\", \"pct_sens\": 25.094102885821833, \"posSamples\": 200}, {\"index\": \"phad\", \"pct_sens\": 44.91844416562108, \"posSamples\": 358}]}}, {\"mode\": \"vega-lite\"});\n",
       "</script>"
      ],
      "text/plain": [
       "alt.LayerChart(...)"
      ]
     },
     "execution_count": 57,
     "metadata": {},
     "output_type": "execute_result"
    }
   ],
   "source": [
    "pct_senz = pct_senz.sort_values('pct_sens',ascending=True)\n",
    "bar2 = alt.Chart(pct_senz,height=200,width=300).mark_bar(width=25,color='#b2abd2').encode(\n",
    "    x=alt.X('index',sort=list(pct_senz['index'].values),axis=alt.Axis(title=\"Allergen Panel\",labelFontSize=12,titleFontSize=12)),\n",
    "    y=alt.Y('pct_sens',axis=alt.Axis(title=\"% sample\",labelFontSize=12,titleFontSize=12))\n",
    ")\n",
    "text2 =bar2.mark_text(\n",
    "    align='center',\n",
    "    baseline='middle',\n",
    "    dy=-4\n",
    ").encode(text='posSamples:Q')\n",
    "\n",
    "fig2Barx = bar2+text2\n",
    "fig2Barx"
   ]
  },
  {
   "cell_type": "code",
   "execution_count": null,
   "metadata": {},
   "outputs": [],
   "source": [
    "panelCount = sampleMdataX.groupby('PosAllergenPanels').size().to_frame().rename({0:'numberOfPanels'},axis=1)\n",
    "panelCount[\"pctSample\"] = (panelCount.numberOfPanels/panelCount.numberOfPanels.sum())*100"
   ]
  },
  {
   "cell_type": "code",
   "execution_count": 46,
   "metadata": {},
   "outputs": [],
   "source": [
    "samplePosPanels = igE_clinicRaw_bool34.sum(axis=1).to_frame().rename({0:'posPanles'},axis=1)\n",
    "sampleData = pd.read_csv(\"../data_primary/sampleMetaData.csv\").set_index(\"PROJECT_DUMMY_ID\")[['Gender','Age','Ethnicity']]"
   ]
  },
  {
   "cell_type": "code",
   "execution_count": 48,
   "metadata": {},
   "outputs": [],
   "source": [
    "sampleDataPosCount = sampleData.join(samplePosPanels)"
   ]
  },
  {
   "cell_type": "code",
   "execution_count": 55,
   "metadata": {},
   "outputs": [
    {
     "data": {
      "text/html": [
       "<div>\n",
       "<style scoped>\n",
       "    .dataframe tbody tr th:only-of-type {\n",
       "        vertical-align: middle;\n",
       "    }\n",
       "\n",
       "    .dataframe tbody tr th {\n",
       "        vertical-align: top;\n",
       "    }\n",
       "\n",
       "    .dataframe thead th {\n",
       "        text-align: right;\n",
       "    }\n",
       "</style>\n",
       "<table border=\"1\" class=\"dataframe\">\n",
       "  <thead>\n",
       "    <tr style=\"text-align: right;\">\n",
       "      <th></th>\n",
       "      <th>posPanels</th>\n",
       "      <th>pctSample</th>\n",
       "    </tr>\n",
       "    <tr>\n",
       "      <th>posPanles</th>\n",
       "      <th></th>\n",
       "      <th></th>\n",
       "    </tr>\n",
       "  </thead>\n",
       "  <tbody>\n",
       "    <tr>\n",
       "      <th>0</th>\n",
       "      <td>385</td>\n",
       "      <td>48.306148</td>\n",
       "    </tr>\n",
       "    <tr>\n",
       "      <th>1</th>\n",
       "      <td>158</td>\n",
       "      <td>19.824341</td>\n",
       "    </tr>\n",
       "    <tr>\n",
       "      <th>2</th>\n",
       "      <td>104</td>\n",
       "      <td>13.048934</td>\n",
       "    </tr>\n",
       "    <tr>\n",
       "      <th>3</th>\n",
       "      <td>55</td>\n",
       "      <td>6.900878</td>\n",
       "    </tr>\n",
       "    <tr>\n",
       "      <th>4</th>\n",
       "      <td>41</td>\n",
       "      <td>5.144291</td>\n",
       "    </tr>\n",
       "    <tr>\n",
       "      <th>5</th>\n",
       "      <td>20</td>\n",
       "      <td>2.509410</td>\n",
       "    </tr>\n",
       "    <tr>\n",
       "      <th>6</th>\n",
       "      <td>10</td>\n",
       "      <td>1.254705</td>\n",
       "    </tr>\n",
       "    <tr>\n",
       "      <th>7</th>\n",
       "      <td>10</td>\n",
       "      <td>1.254705</td>\n",
       "    </tr>\n",
       "    <tr>\n",
       "      <th>8</th>\n",
       "      <td>14</td>\n",
       "      <td>1.756587</td>\n",
       "    </tr>\n",
       "  </tbody>\n",
       "</table>\n",
       "</div>"
      ],
      "text/plain": [
       "           posPanels  pctSample\n",
       "posPanles                      \n",
       "0                385  48.306148\n",
       "1                158  19.824341\n",
       "2                104  13.048934\n",
       "3                 55   6.900878\n",
       "4                 41   5.144291\n",
       "5                 20   2.509410\n",
       "6                 10   1.254705\n",
       "7                 10   1.254705\n",
       "8                 14   1.756587"
      ]
     },
     "execution_count": 55,
     "metadata": {},
     "output_type": "execute_result"
    }
   ],
   "source": [
    "panelCount = sampleDataPosCount.groupby(\"posPanles\").size().to_frame().rename({0:'posPanels'},axis=1)\n",
    "panelCount[\"pctSample\"] = (panelCount.posPanels/panelCount.posPanels.sum())*100\n",
    "panelCount"
   ]
  },
  {
   "cell_type": "code",
   "execution_count": 61,
   "metadata": {},
   "outputs": [
    {
     "data": {
      "text/html": [
       "\n",
       "<div id=\"altair-viz-5a8e44529cd146d69363962db71e121c\"></div>\n",
       "<script type=\"text/javascript\">\n",
       "  (function(spec, embedOpt){\n",
       "    let outputDiv = document.currentScript.previousElementSibling;\n",
       "    if (outputDiv.id !== \"altair-viz-5a8e44529cd146d69363962db71e121c\") {\n",
       "      outputDiv = document.getElementById(\"altair-viz-5a8e44529cd146d69363962db71e121c\");\n",
       "    }\n",
       "    const paths = {\n",
       "      \"vega\": \"https://cdn.jsdelivr.net/npm//vega@5?noext\",\n",
       "      \"vega-lib\": \"https://cdn.jsdelivr.net/npm//vega-lib?noext\",\n",
       "      \"vega-lite\": \"https://cdn.jsdelivr.net/npm//vega-lite@4.8.1?noext\",\n",
       "      \"vega-embed\": \"https://cdn.jsdelivr.net/npm//vega-embed@6?noext\",\n",
       "    };\n",
       "\n",
       "    function loadScript(lib) {\n",
       "      return new Promise(function(resolve, reject) {\n",
       "        var s = document.createElement('script');\n",
       "        s.src = paths[lib];\n",
       "        s.async = true;\n",
       "        s.onload = () => resolve(paths[lib]);\n",
       "        s.onerror = () => reject(`Error loading script: ${paths[lib]}`);\n",
       "        document.getElementsByTagName(\"head\")[0].appendChild(s);\n",
       "      });\n",
       "    }\n",
       "\n",
       "    function showError(err) {\n",
       "      outputDiv.innerHTML = `<div class=\"error\" style=\"color:red;\">${err}</div>`;\n",
       "      throw err;\n",
       "    }\n",
       "\n",
       "    function displayChart(vegaEmbed) {\n",
       "      vegaEmbed(outputDiv, spec, embedOpt)\n",
       "        .catch(err => showError(`Javascript Error: ${err.message}<br>This usually means there's a typo in your chart specification. See the javascript console for the full traceback.`));\n",
       "    }\n",
       "\n",
       "    if(typeof define === \"function\" && define.amd) {\n",
       "      requirejs.config({paths});\n",
       "      require([\"vega-embed\"], displayChart, err => showError(`Error loading script: ${err.message}`));\n",
       "    } else if (typeof vegaEmbed === \"function\") {\n",
       "      displayChart(vegaEmbed);\n",
       "    } else {\n",
       "      loadScript(\"vega\")\n",
       "        .then(() => loadScript(\"vega-lite\"))\n",
       "        .then(() => loadScript(\"vega-embed\"))\n",
       "        .catch(showError)\n",
       "        .then(() => displayChart(vegaEmbed));\n",
       "    }\n",
       "  })({\"config\": {\"view\": {\"continuousWidth\": 400, \"continuousHeight\": 300}}, \"layer\": [{\"mark\": {\"type\": \"bar\", \"color\": \"#b2abd2\", \"width\": 25}, \"encoding\": {\"x\": {\"type\": \"ordinal\", \"axis\": {\"labelAngle\": 0, \"labelFontSize\": 12, \"title\": \"Number of allergen panel\", \"titleFontSize\": 12}, \"field\": \"posPanles\"}, \"y\": {\"type\": \"quantitative\", \"axis\": {\"labelFontSize\": 12, \"title\": \"% sample IgE sensitized (ISU>0.34)\", \"titleFontSize\": 12}, \"field\": \"pctSample\"}}, \"height\": 200, \"width\": 250}, {\"mark\": {\"type\": \"text\", \"align\": \"center\", \"baseline\": \"middle\", \"dy\": -4}, \"encoding\": {\"text\": {\"type\": \"quantitative\", \"field\": \"posPanels\"}, \"x\": {\"type\": \"ordinal\", \"axis\": {\"labelAngle\": 0, \"labelFontSize\": 12, \"title\": \"Number of allergen panel\", \"titleFontSize\": 12}, \"field\": \"posPanles\"}, \"y\": {\"type\": \"quantitative\", \"axis\": {\"labelFontSize\": 12, \"title\": \"% sample IgE sensitized (ISU>0.34)\", \"titleFontSize\": 12}, \"field\": \"pctSample\"}}, \"height\": 200, \"width\": 250}], \"data\": {\"name\": \"data-3ac0cfce028a836336c5457dd000a5f5\"}, \"$schema\": \"https://vega.github.io/schema/vega-lite/v4.8.1.json\", \"datasets\": {\"data-3ac0cfce028a836336c5457dd000a5f5\": [{\"posPanles\": 0, \"posPanels\": 385, \"pctSample\": 48.306148055207025}, {\"posPanles\": 1, \"posPanels\": 158, \"pctSample\": 19.82434127979925}, {\"posPanles\": 2, \"posPanels\": 104, \"pctSample\": 13.048933500627353}, {\"posPanles\": 3, \"posPanels\": 55, \"pctSample\": 6.900878293601004}, {\"posPanles\": 4, \"posPanels\": 41, \"pctSample\": 5.144291091593475}, {\"posPanles\": 5, \"posPanels\": 20, \"pctSample\": 2.5094102885821834}, {\"posPanles\": 6, \"posPanels\": 10, \"pctSample\": 1.2547051442910917}, {\"posPanles\": 7, \"posPanels\": 10, \"pctSample\": 1.2547051442910917}, {\"posPanles\": 8, \"posPanels\": 14, \"pctSample\": 1.7565872020075282}]}}, {\"mode\": \"vega-lite\"});\n",
       "</script>"
      ],
      "text/plain": [
       "alt.LayerChart(...)"
      ]
     },
     "execution_count": 61,
     "metadata": {},
     "output_type": "execute_result"
    }
   ],
   "source": [
    "bar1 = alt.Chart(panelCount.reset_index(),height=200,width=250,).mark_bar(width=25,color='#b2abd2').encode(\n",
    "    x=alt.X('posPanles:O',\n",
    "            axis=alt.Axis(title=\"Number of allergen panel\",labelFontSize=12,titleFontSize=12,labelAngle=0),\n",
    "           ),\n",
    "    y=alt.Y('pctSample',axis=alt.Axis(title=\"% sample IgE sensitized (ISU>0.34)\",labelFontSize=12,titleFontSize=12))\n",
    ")\n",
    "text =bar1.mark_text(\n",
    "    align='center',\n",
    "    baseline='middle',\n",
    "    dy=-4\n",
    ").encode(text='posPanels:Q')\n",
    "\n",
    "fig1Barx = bar1+text\n",
    "fig1Barx"
   ]
  },
  {
   "cell_type": "code",
   "execution_count": 62,
   "metadata": {},
   "outputs": [],
   "source": [
    "fig1Barx.save(\"../results_34cutoff/figures/Fig1B_barplot.html\")"
   ]
  },
  {
   "cell_type": "code",
   "execution_count": 87,
   "metadata": {},
   "outputs": [],
   "source": [
    "sampleData_igEbool34 = sampleData.join(igE_clinicRaw_bool34)"
   ]
  },
  {
   "cell_type": "code",
   "execution_count": 90,
   "metadata": {},
   "outputs": [],
   "source": [
    "TableS2_md = sampleData_igEbool34.groupby(['Ethnicity','Gender']).agg({'Age':['count','median','min','max','std'],'fx1':'sum','fx2':'sum','fx22':'sum','fx5':'sum','phad':'sum','t20':'sum','wx1':'sum'})"
   ]
  },
  {
   "cell_type": "code",
   "execution_count": 92,
   "metadata": {},
   "outputs": [],
   "source": [
    "TableS2_md.to_csv(\"../results_34cutoff/tables/TableS2_sampleMetaData.csv\")"
   ]
  },
  {
   "cell_type": "code",
   "execution_count": 94,
   "metadata": {},
   "outputs": [],
   "source": [
    "pct_senz.to_csv(\"../results_34cutoff/tables/Table1_info.csv\")"
   ]
  },
  {
   "cell_type": "code",
   "execution_count": null,
   "metadata": {},
   "outputs": [],
   "source": []
  },
  {
   "cell_type": "code",
   "execution_count": null,
   "metadata": {},
   "outputs": [],
   "source": []
  }
 ],
 "metadata": {
  "kernelspec": {
   "display_name": "Python 3 (ipykernel)",
   "language": "python",
   "name": "python3"
  },
  "language_info": {
   "codemirror_mode": {
    "name": "ipython",
    "version": 3
   },
   "file_extension": ".py",
   "mimetype": "text/x-python",
   "name": "python",
   "nbconvert_exporter": "python",
   "pygments_lexer": "ipython3",
   "version": "3.9.9"
  }
 },
 "nbformat": 4,
 "nbformat_minor": 4
}

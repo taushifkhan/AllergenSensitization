{
 "cells": [
  {
   "cell_type": "code",
   "execution_count": 1,
   "metadata": {},
   "outputs": [],
   "source": [
    "import pandas as pd\n",
    "import numpy as np\n",
    "import seaborn as sns\n",
    "import matplotlib.pyplot as plt\n",
    "%matplotlib inline"
   ]
  },
  {
   "cell_type": "code",
   "execution_count": 2,
   "metadata": {},
   "outputs": [],
   "source": [
    "cData = pd.read_pickle(\"../curtaedAllergenData/all_cliData_10032020.pkl\")\n",
    "mapDa = pd.read_csv(\"../Allergen data/QBB_sample_ID_mapping_Allergen-IgE_2019-12-12_MR.csv\")"
   ]
  },
  {
   "cell_type": "code",
   "execution_count": 17,
   "metadata": {},
   "outputs": [
    {
     "data": {
      "text/html": [
       "<div>\n",
       "<style scoped>\n",
       "    .dataframe tbody tr th:only-of-type {\n",
       "        vertical-align: middle;\n",
       "    }\n",
       "\n",
       "    .dataframe tbody tr th {\n",
       "        vertical-align: top;\n",
       "    }\n",
       "\n",
       "    .dataframe thead th {\n",
       "        text-align: right;\n",
       "    }\n",
       "</style>\n",
       "<table border=\"1\" class=\"dataframe\">\n",
       "  <thead>\n",
       "    <tr style=\"text-align: right;\">\n",
       "      <th></th>\n",
       "      <th>SampleType</th>\n",
       "      <th>Group</th>\n",
       "      <th>Sample</th>\n",
       "      <th>Test</th>\n",
       "      <th>Resp</th>\n",
       "      <th>Conc</th>\n",
       "      <th>%CVResp</th>\n",
       "      <th>%CVConc)</th>\n",
       "    </tr>\n",
       "  </thead>\n",
       "  <tbody>\n",
       "    <tr>\n",
       "      <th>0</th>\n",
       "      <td>1=CC</td>\n",
       "      <td>114083</td>\n",
       "      <td>CC-1</td>\n",
       "      <td>a_IgE</td>\n",
       "      <td>338.127200000000000</td>\n",
       "      <td>0.746358756010291</td>\n",
       "      <td>0.00000</td>\n",
       "      <td>0.00000</td>\n",
       "    </tr>\n",
       "    <tr>\n",
       "      <th>1</th>\n",
       "      <td>2=CC</td>\n",
       "      <td>114084</td>\n",
       "      <td>CC-2</td>\n",
       "      <td>a_IgE</td>\n",
       "      <td>6774.706500000000000</td>\n",
       "      <td>19.149101607404400</td>\n",
       "      <td>0.00000</td>\n",
       "      <td>0.00000</td>\n",
       "    </tr>\n",
       "    <tr>\n",
       "      <th>2</th>\n",
       "      <td>3=QC</td>\n",
       "      <td>114085</td>\n",
       "      <td>sIgE M</td>\n",
       "      <td>t3</td>\n",
       "      <td>3694.655000000000000</td>\n",
       "      <td>9.331232433021910</td>\n",
       "      <td>0.00000</td>\n",
       "      <td>0.00000</td>\n",
       "    </tr>\n",
       "    <tr>\n",
       "      <th>3</th>\n",
       "      <td>4=QC</td>\n",
       "      <td>114089</td>\n",
       "      <td>sIgE L</td>\n",
       "      <td>e1</td>\n",
       "      <td>1246.069900000000000</td>\n",
       "      <td>2.899104558561600</td>\n",
       "      <td>0.00000</td>\n",
       "      <td>0.00000</td>\n",
       "    </tr>\n",
       "    <tr>\n",
       "      <th>4</th>\n",
       "      <td>5=QC</td>\n",
       "      <td>114090</td>\n",
       "      <td>sIgE Neg</td>\n",
       "      <td>d1</td>\n",
       "      <td>20.013500000000000</td>\n",
       "      <td>0.007626248354671</td>\n",
       "      <td>0.00000</td>\n",
       "      <td>0.00000</td>\n",
       "    </tr>\n",
       "    <tr>\n",
       "      <th>5</th>\n",
       "      <td>6=QC</td>\n",
       "      <td>114091</td>\n",
       "      <td>IQC271119</td>\n",
       "      <td>d1</td>\n",
       "      <td>6338.754400000000000</td>\n",
       "      <td>17.618579559304100</td>\n",
       "      <td>0.00000</td>\n",
       "      <td>0.00000</td>\n",
       "    </tr>\n",
       "    <tr>\n",
       "      <th>6</th>\n",
       "      <td>7=SAM</td>\n",
       "      <td>113266</td>\n",
       "      <td>011990000646</td>\n",
       "      <td>fx5</td>\n",
       "      <td>34.426700000000000</td>\n",
       "      <td>0.208668481908193</td>\n",
       "      <td>0.00000</td>\n",
       "      <td>0.00000</td>\n",
       "    </tr>\n",
       "    <tr>\n",
       "      <th>7</th>\n",
       "      <td>8=SAM</td>\n",
       "      <td>113265</td>\n",
       "      <td>011990000646</td>\n",
       "      <td>phad</td>\n",
       "      <td>34.117500000000000</td>\n",
       "      <td>0.205033469003163</td>\n",
       "      <td>0.00000</td>\n",
       "      <td>0.00000</td>\n",
       "    </tr>\n",
       "    <tr>\n",
       "      <th>8</th>\n",
       "      <td>9=SAM</td>\n",
       "      <td>113267</td>\n",
       "      <td>011990000646</td>\n",
       "      <td>fx1</td>\n",
       "      <td>16.951300000000000</td>\n",
       "      <td>0.001104005729673</td>\n",
       "      <td>0.00000</td>\n",
       "      <td>0.00000</td>\n",
       "    </tr>\n",
       "    <tr>\n",
       "      <th>9</th>\n",
       "      <td>10=SAM</td>\n",
       "      <td>113268</td>\n",
       "      <td>011990000646</td>\n",
       "      <td>fx2</td>\n",
       "      <td>19.495700000000000</td>\n",
       "      <td>0.031926326632585</td>\n",
       "      <td>0.00000</td>\n",
       "      <td>0.00000</td>\n",
       "    </tr>\n",
       "  </tbody>\n",
       "</table>\n",
       "</div>"
      ],
      "text/plain": [
       "  SampleType   Group        Sample   Test                  Resp  \\\n",
       "0       1=CC  114083          CC-1  a_IgE   338.127200000000000   \n",
       "1       2=CC  114084          CC-2  a_IgE  6774.706500000000000   \n",
       "2       3=QC  114085        sIgE M     t3  3694.655000000000000   \n",
       "3       4=QC  114089        sIgE L     e1  1246.069900000000000   \n",
       "4       5=QC  114090      sIgE Neg     d1    20.013500000000000   \n",
       "5       6=QC  114091     IQC271119     d1  6338.754400000000000   \n",
       "6      7=SAM  113266  011990000646    fx5    34.426700000000000   \n",
       "7      8=SAM  113265  011990000646   phad    34.117500000000000   \n",
       "8      9=SAM  113267  011990000646    fx1    16.951300000000000   \n",
       "9     10=SAM  113268  011990000646    fx2    19.495700000000000   \n",
       "\n",
       "                 Conc  %CVResp %CVConc)\\n  \n",
       "0   0.746358756010291  0.00000    0.00000  \n",
       "1  19.149101607404400  0.00000    0.00000  \n",
       "2   9.331232433021910  0.00000    0.00000  \n",
       "3   2.899104558561600  0.00000    0.00000  \n",
       "4   0.007626248354671  0.00000    0.00000  \n",
       "5  17.618579559304100  0.00000    0.00000  \n",
       "6   0.208668481908193  0.00000    0.00000  \n",
       "7   0.205033469003163  0.00000    0.00000  \n",
       "8   0.001104005729673  0.00000    0.00000  \n",
       "9   0.031926326632585  0.00000    0.00000  "
      ]
     },
     "execution_count": 17,
     "metadata": {},
     "output_type": "execute_result"
    }
   ],
   "source": [
    "cData.head(10)"
   ]
  },
  {
   "cell_type": "code",
   "execution_count": 14,
   "metadata": {},
   "outputs": [],
   "source": [
    "# mapDa[['QBB_DUMMY_ID','PATH_SAMPLE_ID ']]\n",
    "for idx in mapDa.index:\n",
    "    mapDa.loc[idx,'Sample'] = ''.join(mapDa.loc[idx,'PATH_SAMPLE_ID '].split(\"-\"))"
   ]
  },
  {
   "cell_type": "code",
   "execution_count": 149,
   "metadata": {},
   "outputs": [
    {
     "data": {
      "text/html": [
       "<div>\n",
       "<style scoped>\n",
       "    .dataframe tbody tr th:only-of-type {\n",
       "        vertical-align: middle;\n",
       "    }\n",
       "\n",
       "    .dataframe tbody tr th {\n",
       "        vertical-align: top;\n",
       "    }\n",
       "\n",
       "    .dataframe thead th {\n",
       "        text-align: right;\n",
       "    }\n",
       "</style>\n",
       "<table border=\"1\" class=\"dataframe\">\n",
       "  <thead>\n",
       "    <tr style=\"text-align: right;\">\n",
       "      <th></th>\n",
       "      <th>QBB_DUMMY_ID</th>\n",
       "    </tr>\n",
       "    <tr>\n",
       "      <th>SIDRA-RES_3DIGIT_SAMPLE_NO</th>\n",
       "      <th></th>\n",
       "    </tr>\n",
       "  </thead>\n",
       "  <tbody>\n",
       "    <tr>\n",
       "      <th>101</th>\n",
       "      <td>SIR000037000780</td>\n",
       "    </tr>\n",
       "    <tr>\n",
       "      <th>102</th>\n",
       "      <td>SIR000037000142</td>\n",
       "    </tr>\n",
       "    <tr>\n",
       "      <th>103</th>\n",
       "      <td>SIR000037000275</td>\n",
       "    </tr>\n",
       "    <tr>\n",
       "      <th>104</th>\n",
       "      <td>SIR000037000009</td>\n",
       "    </tr>\n",
       "    <tr>\n",
       "      <th>105</th>\n",
       "      <td>SIR000037000702</td>\n",
       "    </tr>\n",
       "  </tbody>\n",
       "</table>\n",
       "</div>"
      ],
      "text/plain": [
       "                               QBB_DUMMY_ID\n",
       "SIDRA-RES_3DIGIT_SAMPLE_NO                 \n",
       "101                         SIR000037000780\n",
       "102                         SIR000037000142\n",
       "103                         SIR000037000275\n",
       "104                         SIR000037000009\n",
       "105                         SIR000037000702"
      ]
     },
     "execution_count": 149,
     "metadata": {},
     "output_type": "execute_result"
    }
   ],
   "source": [
    "mapDa_1 = mapDa[['QBB_DUMMY_ID','SIDRA-RES_3DIGIT_SAMPLE_NO']].set_index('SIDRA-RES_3DIGIT_SAMPLE_NO')\n",
    "mapDa_1.head()"
   ]
  },
  {
   "cell_type": "code",
   "execution_count": 21,
   "metadata": {},
   "outputs": [
    {
     "data": {
      "text/plain": [
       "(7342, 8)"
      ]
     },
     "execution_count": 21,
     "metadata": {},
     "output_type": "execute_result"
    }
   ],
   "source": [
    "cData[cData.SampleType.str.contains('SAM')].shape"
   ]
  },
  {
   "cell_type": "code",
   "execution_count": 23,
   "metadata": {},
   "outputs": [],
   "source": [
    "cData.Conc = cData.Conc.astype('float')"
   ]
  },
  {
   "cell_type": "code",
   "execution_count": 36,
   "metadata": {},
   "outputs": [
    {
     "data": {
      "text/plain": [
       "<matplotlib.axes._subplots.AxesSubplot at 0x1a1f8112e8>"
      ]
     },
     "execution_count": 36,
     "metadata": {},
     "output_type": "execute_result"
    },
    {
     "data": {
      "image/png": "[encoded data removed]",
      "text/plain": [
       "<Figure size 432x288 with 1 Axes>"
      ]
     },
     "metadata": {
      "needs_background": "light"
     },
     "output_type": "display_data"
    }
   ],
   "source": [
    "cData.Test.value_counts().plot(kind=\"hist\")"
   ]
  },
  {
   "cell_type": "code",
   "execution_count": 39,
   "metadata": {},
   "outputs": [],
   "source": [
    "cData.Test.value_counts()[cData.Test.value_counts()>700]\n",
    "test_t = cData.Test.value_counts()[cData.Test.value_counts()>700].keys()"
   ]
  },
  {
   "cell_type": "code",
   "execution_count": 50,
   "metadata": {},
   "outputs": [
    {
     "data": {
      "text/plain": [
       "<matplotlib.axes._subplots.AxesSubplot at 0x1a2ff8fe48>"
      ]
     },
     "execution_count": 50,
     "metadata": {},
     "output_type": "execute_result"
    },
    {
     "data": {
      "image/png": "[encoded data removed]",
      "text/plain": [
       "<Figure size 1152x216 with 1 Axes>"
      ]
     },
     "metadata": {
      "needs_background": "light"
     },
     "output_type": "display_data"
    }
   ],
   "source": [
    "cData.Test.value_counts().plot(kind=\"bar\",figsize=(16,3))"
   ]
  },
  {
   "cell_type": "code",
   "execution_count": 41,
   "metadata": {},
   "outputs": [],
   "source": [
    "tx = cData[cData.Test.isin(test_t)].groupby(['Sample','Test'])['Conc'].agg('mean').unstack()"
   ]
  },
  {
   "cell_type": "code",
   "execution_count": 67,
   "metadata": {},
   "outputs": [
    {
     "data": {
      "text/plain": [
       "Text(0.5, 0, 'Test Class')"
      ]
     },
     "execution_count": 67,
     "metadata": {},
     "output_type": "execute_result"
    },
    {
     "data": {
      "image/png": "[encoded data removed]",
      "text/plain": [
       "<Figure size 432x288 with 1 Axes>"
      ]
     },
     "metadata": {
      "needs_background": "light"
     },
     "output_type": "display_data"
    }
   ],
   "source": [
    "tx[tx>0.3].fillna(0).astype(bool).sum().plot(kind=\"bar\",color=\"blue\",alpha=0.3)\n",
    "plt.ylabel(\"# samples\",fontsize=14)\n",
    "plt.xlabel(\"Test Class\", fontsize=14)"
   ]
  },
  {
   "cell_type": "code",
   "execution_count": 62,
   "metadata": {},
   "outputs": [
    {
     "data": {
      "text/plain": [
       "<seaborn.matrix.ClusterGrid at 0x1a324e2470>"
      ]
     },
     "execution_count": 62,
     "metadata": {},
     "output_type": "execute_result"
    },
    {
     "data": {
      "image/png": "[encoded data removed]",
      "text/plain": [
       "<Figure size 720x720 with 4 Axes>"
      ]
     },
     "metadata": {
      "needs_background": "light"
     },
     "output_type": "display_data"
    }
   ],
   "source": [
    "sns.clustermap(tx[tx>0.3].fillna(0).astype(bool).corr(),vmin=0.2,vmax=0.9,cmap=\"Blues\")"
   ]
  },
  {
   "cell_type": "code",
   "execution_count": 66,
   "metadata": {},
   "outputs": [
    {
     "data": {
      "text/plain": [
       "<seaborn.matrix.ClusterGrid at 0x1a33e25ef0>"
      ]
     },
     "execution_count": 66,
     "metadata": {},
     "output_type": "execute_result"
    },
    {
     "data": {
      "image/png": "[encoded data removed]",
      "text/plain": [
       "<Figure size 720x720 with 4 Axes>"
      ]
     },
     "metadata": {
      "needs_background": "light"
     },
     "output_type": "display_data"
    }
   ],
   "source": [
    "sns.clustermap(tx.corr(),cmap=\"Blues\")"
   ]
  },
  {
   "cell_type": "code",
   "execution_count": 105,
   "metadata": {},
   "outputs": [
    {
     "data": {
      "text/plain": [
       "Text(0, 0.5, '# Sample ')"
      ]
     },
     "execution_count": 105,
     "metadata": {},
     "output_type": "execute_result"
    },
    {
     "data": {
      "image/png": "[encoded data removed]",
      "text/plain": [
       "<Figure size 432x288 with 1 Axes>"
      ]
     },
     "metadata": {
      "needs_background": "light"
     },
     "output_type": "display_data"
    }
   ],
   "source": [
    "tx[tx>=0.3].fillna(0).astype(bool).sum(axis=1).plot(kind=\"hist\",color=\"m\",alpha=0.4,bins=8)\n",
    "plt.xlabel(\"# Allergen Test\",fontsize=14)\n",
    "plt.ylabel(\"# Sample \",fontsize=14)"
   ]
  },
  {
   "cell_type": "code",
   "execution_count": 153,
   "metadata": {},
   "outputs": [],
   "source": [
    "tx['id3d'] = [i[-3:] for i in tx.reset_index()['Sample']]"
   ]
  },
  {
   "cell_type": "code",
   "execution_count": 157,
   "metadata": {},
   "outputs": [],
   "source": [
    "tx_r = tx.set_index('id3d').join(mapDa_1)"
   ]
  },
  {
   "cell_type": "code",
   "execution_count": 160,
   "metadata": {},
   "outputs": [
    {
     "data": {
      "text/plain": [
       "(797, 9)"
      ]
     },
     "execution_count": 160,
     "metadata": {},
     "output_type": "execute_result"
    }
   ],
   "source": [
    "tx_qbb = tx_r.drop(tx_r[tx_r.QBB_DUMMY_ID.isnull()].index)\n",
    "tx_qbb.shape"
   ]
  },
  {
   "cell_type": "code",
   "execution_count": 163,
   "metadata": {},
   "outputs": [],
   "source": [
    "tx_qbb = tx_qbb.set_index('QBB_DUMMY_ID')"
   ]
  },
  {
   "cell_type": "code",
   "execution_count": 164,
   "metadata": {},
   "outputs": [
    {
     "data": {
      "text/html": [
       "<div>\n",
       "<style scoped>\n",
       "    .dataframe tbody tr th:only-of-type {\n",
       "        vertical-align: middle;\n",
       "    }\n",
       "\n",
       "    .dataframe tbody tr th {\n",
       "        vertical-align: top;\n",
       "    }\n",
       "\n",
       "    .dataframe thead th {\n",
       "        text-align: right;\n",
       "    }\n",
       "</style>\n",
       "<table border=\"1\" class=\"dataframe\">\n",
       "  <thead>\n",
       "    <tr style=\"text-align: right;\">\n",
       "      <th></th>\n",
       "      <th>fx1</th>\n",
       "      <th>fx2</th>\n",
       "      <th>fx22</th>\n",
       "      <th>fx5</th>\n",
       "      <th>gx2</th>\n",
       "      <th>phad</th>\n",
       "      <th>t20</th>\n",
       "      <th>wx1</th>\n",
       "    </tr>\n",
       "    <tr>\n",
       "      <th>QBB_DUMMY_ID</th>\n",
       "      <th></th>\n",
       "      <th></th>\n",
       "      <th></th>\n",
       "      <th></th>\n",
       "      <th></th>\n",
       "      <th></th>\n",
       "      <th></th>\n",
       "      <th></th>\n",
       "    </tr>\n",
       "  </thead>\n",
       "  <tbody>\n",
       "    <tr>\n",
       "      <th>SIR000037000780</th>\n",
       "      <td>0.004688</td>\n",
       "      <td>0.030764</td>\n",
       "      <td>0.158547</td>\n",
       "      <td>0.040405</td>\n",
       "      <td>0.061567</td>\n",
       "      <td>0.182508</td>\n",
       "      <td>0.029467</td>\n",
       "      <td>0.142290</td>\n",
       "    </tr>\n",
       "    <tr>\n",
       "      <th>SIR000037000142</th>\n",
       "      <td>0.000000</td>\n",
       "      <td>0.070241</td>\n",
       "      <td>0.129783</td>\n",
       "      <td>0.089441</td>\n",
       "      <td>0.063238</td>\n",
       "      <td>0.320504</td>\n",
       "      <td>0.016894</td>\n",
       "      <td>0.205851</td>\n",
       "    </tr>\n",
       "    <tr>\n",
       "      <th>SIR000037000275</th>\n",
       "      <td>0.355763</td>\n",
       "      <td>1.596741</td>\n",
       "      <td>0.403655</td>\n",
       "      <td>0.533030</td>\n",
       "      <td>0.283591</td>\n",
       "      <td>1.395833</td>\n",
       "      <td>0.129739</td>\n",
       "      <td>0.503114</td>\n",
       "    </tr>\n",
       "    <tr>\n",
       "      <th>SIR000037000009</th>\n",
       "      <td>0.038830</td>\n",
       "      <td>0.000000</td>\n",
       "      <td>0.147813</td>\n",
       "      <td>0.122652</td>\n",
       "      <td>0.094520</td>\n",
       "      <td>0.209529</td>\n",
       "      <td>0.000000</td>\n",
       "      <td>0.155590</td>\n",
       "    </tr>\n",
       "    <tr>\n",
       "      <th>SIR000037000702</th>\n",
       "      <td>0.068248</td>\n",
       "      <td>0.000000</td>\n",
       "      <td>0.166260</td>\n",
       "      <td>0.134755</td>\n",
       "      <td>0.073208</td>\n",
       "      <td>1.589408</td>\n",
       "      <td>0.391426</td>\n",
       "      <td>0.457234</td>\n",
       "    </tr>\n",
       "  </tbody>\n",
       "</table>\n",
       "</div>"
      ],
      "text/plain": [
       "                      fx1       fx2      fx22       fx5       gx2      phad  \\\n",
       "QBB_DUMMY_ID                                                                  \n",
       "SIR000037000780  0.004688  0.030764  0.158547  0.040405  0.061567  0.182508   \n",
       "SIR000037000142  0.000000  0.070241  0.129783  0.089441  0.063238  0.320504   \n",
       "SIR000037000275  0.355763  1.596741  0.403655  0.533030  0.283591  1.395833   \n",
       "SIR000037000009  0.038830  0.000000  0.147813  0.122652  0.094520  0.209529   \n",
       "SIR000037000702  0.068248  0.000000  0.166260  0.134755  0.073208  1.589408   \n",
       "\n",
       "                      t20       wx1  \n",
       "QBB_DUMMY_ID                         \n",
       "SIR000037000780  0.029467  0.142290  \n",
       "SIR000037000142  0.016894  0.205851  \n",
       "SIR000037000275  0.129739  0.503114  \n",
       "SIR000037000009  0.000000  0.155590  \n",
       "SIR000037000702  0.391426  0.457234  "
      ]
     },
     "execution_count": 164,
     "metadata": {},
     "output_type": "execute_result"
    }
   ],
   "source": [
    "tx_qbb.head()"
   ]
  },
  {
   "cell_type": "code",
   "execution_count": 168,
   "metadata": {},
   "outputs": [],
   "source": [
    "tx_qbb = tx_qbb.astype(float)"
   ]
  },
  {
   "cell_type": "code",
   "execution_count": 170,
   "metadata": {},
   "outputs": [],
   "source": [
    "tx_qbb_pos1 = tx_qbb[tx_qbb[tx_qbb>=0.3].fillna(0).astype(bool).sum(axis=1)>0]"
   ]
  },
  {
   "cell_type": "code",
   "execution_count": 171,
   "metadata": {},
   "outputs": [
    {
     "data": {
      "text/plain": [
       "(447, 8)"
      ]
     },
     "execution_count": 171,
     "metadata": {},
     "output_type": "execute_result"
    }
   ],
   "source": [
    "tx_qbb_pos1.shape"
   ]
  },
  {
   "cell_type": "code",
   "execution_count": 172,
   "metadata": {},
   "outputs": [
    {
     "data": {
      "text/plain": [
       "<seaborn.matrix.ClusterGrid at 0x1a284ad470>"
      ]
     },
     "execution_count": 172,
     "metadata": {},
     "output_type": "execute_result"
    },
    {
     "data": {
      "image/png": "[encoded data removed]",
      "text/plain": [
       "<Figure size 360x864 with 4 Axes>"
      ]
     },
     "metadata": {
      "needs_background": "light"
     },
     "output_type": "display_data"
    }
   ],
   "source": [
    "sns.clustermap(tx_pos1[tx_pos1>=0.3].fillna(0).astype(bool),cmap=\"Blues\",\\\n",
    "               vmin=0,vmax=1,figsize=(5,12),yticklabels='')"
   ]
  },
  {
   "cell_type": "code",
   "execution_count": 173,
   "metadata": {},
   "outputs": [
    {
     "data": {
      "text/html": [
       "<div>\n",
       "<style scoped>\n",
       "    .dataframe tbody tr th:only-of-type {\n",
       "        vertical-align: middle;\n",
       "    }\n",
       "\n",
       "    .dataframe tbody tr th {\n",
       "        vertical-align: top;\n",
       "    }\n",
       "\n",
       "    .dataframe thead th {\n",
       "        text-align: right;\n",
       "    }\n",
       "</style>\n",
       "<table border=\"1\" class=\"dataframe\">\n",
       "  <thead>\n",
       "    <tr style=\"text-align: right;\">\n",
       "      <th></th>\n",
       "      <th>fx1</th>\n",
       "      <th>fx2</th>\n",
       "      <th>fx22</th>\n",
       "      <th>fx5</th>\n",
       "      <th>gx2</th>\n",
       "      <th>phad</th>\n",
       "      <th>t20</th>\n",
       "      <th>wx1</th>\n",
       "    </tr>\n",
       "    <tr>\n",
       "      <th>QBB_DUMMY_ID</th>\n",
       "      <th></th>\n",
       "      <th></th>\n",
       "      <th></th>\n",
       "      <th></th>\n",
       "      <th></th>\n",
       "      <th></th>\n",
       "      <th></th>\n",
       "      <th></th>\n",
       "    </tr>\n",
       "  </thead>\n",
       "  <tbody>\n",
       "    <tr>\n",
       "      <th>SIR000037000142</th>\n",
       "      <td>0.000000</td>\n",
       "      <td>0.070241</td>\n",
       "      <td>0.129783</td>\n",
       "      <td>0.089441</td>\n",
       "      <td>0.063238</td>\n",
       "      <td>0.320504</td>\n",
       "      <td>0.016894</td>\n",
       "      <td>0.205851</td>\n",
       "    </tr>\n",
       "    <tr>\n",
       "      <th>SIR000037000275</th>\n",
       "      <td>0.355763</td>\n",
       "      <td>1.596741</td>\n",
       "      <td>0.403655</td>\n",
       "      <td>0.533030</td>\n",
       "      <td>0.283591</td>\n",
       "      <td>1.395833</td>\n",
       "      <td>0.129739</td>\n",
       "      <td>0.503114</td>\n",
       "    </tr>\n",
       "    <tr>\n",
       "      <th>SIR000037000702</th>\n",
       "      <td>0.068248</td>\n",
       "      <td>0.000000</td>\n",
       "      <td>0.166260</td>\n",
       "      <td>0.134755</td>\n",
       "      <td>0.073208</td>\n",
       "      <td>1.589408</td>\n",
       "      <td>0.391426</td>\n",
       "      <td>0.457234</td>\n",
       "    </tr>\n",
       "    <tr>\n",
       "      <th>SIR000037000006</th>\n",
       "      <td>0.003941</td>\n",
       "      <td>0.000000</td>\n",
       "      <td>0.199718</td>\n",
       "      <td>0.052406</td>\n",
       "      <td>0.080378</td>\n",
       "      <td>0.534766</td>\n",
       "      <td>0.001875</td>\n",
       "      <td>0.179422</td>\n",
       "    </tr>\n",
       "    <tr>\n",
       "      <th>SIR000037000157</th>\n",
       "      <td>0.020086</td>\n",
       "      <td>3.641496</td>\n",
       "      <td>0.235219</td>\n",
       "      <td>0.130267</td>\n",
       "      <td>0.140340</td>\n",
       "      <td>1.283758</td>\n",
       "      <td>0.035573</td>\n",
       "      <td>0.241123</td>\n",
       "    </tr>\n",
       "  </tbody>\n",
       "</table>\n",
       "</div>"
      ],
      "text/plain": [
       "                      fx1       fx2      fx22       fx5       gx2      phad  \\\n",
       "QBB_DUMMY_ID                                                                  \n",
       "SIR000037000142  0.000000  0.070241  0.129783  0.089441  0.063238  0.320504   \n",
       "SIR000037000275  0.355763  1.596741  0.403655  0.533030  0.283591  1.395833   \n",
       "SIR000037000702  0.068248  0.000000  0.166260  0.134755  0.073208  1.589408   \n",
       "SIR000037000006  0.003941  0.000000  0.199718  0.052406  0.080378  0.534766   \n",
       "SIR000037000157  0.020086  3.641496  0.235219  0.130267  0.140340  1.283758   \n",
       "\n",
       "                      t20       wx1  \n",
       "QBB_DUMMY_ID                         \n",
       "SIR000037000142  0.016894  0.205851  \n",
       "SIR000037000275  0.129739  0.503114  \n",
       "SIR000037000702  0.391426  0.457234  \n",
       "SIR000037000006  0.001875  0.179422  \n",
       "SIR000037000157  0.035573  0.241123  "
      ]
     },
     "execution_count": 173,
     "metadata": {},
     "output_type": "execute_result"
    }
   ],
   "source": [
    "tx_qbb_pos1.head()"
   ]
  },
  {
   "cell_type": "code",
   "execution_count": null,
   "metadata": {},
   "outputs": [],
   "source": []
  },
  {
   "cell_type": "code",
   "execution_count": 184,
   "metadata": {},
   "outputs": [],
   "source": [
    "qbb_spp = pd.read_pickle(\"../../QBBData/Data_PhipSeq_BWH/merge_800_10Feb2020/species_score.pkl\",compression='gzip')\n",
    "virCut = pd.read_csv(\"../../QbbBMI_Project/curatedData/VirscanThreshold_3Feb2020.csv\")\n",
    "qbbmData = pd.read_csv(\"../../QBBData/MetaData/MAPPING_DUMMYID_BamID_age_gender_eth.csv\").set_index('PROJECT_DUMMY_ID')"
   ]
  },
  {
   "cell_type": "code",
   "execution_count": 189,
   "metadata": {},
   "outputs": [],
   "source": [
    "igE = pd.read_csv(\"../../AllergenAutiAb_IgE_Sep2019/QBBIgE_IU_MR_July182019.csv\")"
   ]
  },
  {
   "cell_type": "code",
   "execution_count": 190,
   "metadata": {},
   "outputs": [
    {
     "data": {
      "text/plain": [
       "(803, 4)"
      ]
     },
     "execution_count": 190,
     "metadata": {},
     "output_type": "execute_result"
    }
   ],
   "source": [
    "igE."
   ]
  },
  {
   "cell_type": "code",
   "execution_count": 185,
   "metadata": {},
   "outputs": [
    {
     "data": {
      "text/plain": [
       "797"
      ]
     },
     "execution_count": 185,
     "metadata": {},
     "output_type": "execute_result"
    }
   ],
   "source": [
    "len(set(tx_qbb.index).intersection(set(qbbmData.index)))"
   ]
  },
  {
   "cell_type": "code",
   "execution_count": 188,
   "metadata": {},
   "outputs": [
    {
     "data": {
      "text/html": [
       "<div>\n",
       "<style scoped>\n",
       "    .dataframe tbody tr th:only-of-type {\n",
       "        vertical-align: middle;\n",
       "    }\n",
       "\n",
       "    .dataframe tbody tr th {\n",
       "        vertical-align: top;\n",
       "    }\n",
       "\n",
       "    .dataframe thead th {\n",
       "        text-align: right;\n",
       "    }\n",
       "</style>\n",
       "<table border=\"1\" class=\"dataframe\">\n",
       "  <thead>\n",
       "    <tr style=\"text-align: right;\">\n",
       "      <th></th>\n",
       "      <th>BodyFat - BMI</th>\n",
       "      <th>Gender</th>\n",
       "      <th>Age</th>\n",
       "    </tr>\n",
       "    <tr>\n",
       "      <th>QBB_DUMMY_ID</th>\n",
       "      <th></th>\n",
       "      <th></th>\n",
       "      <th></th>\n",
       "    </tr>\n",
       "  </thead>\n",
       "  <tbody>\n",
       "    <tr>\n",
       "      <th>SIR000037000142</th>\n",
       "      <td>24.3</td>\n",
       "      <td>Female</td>\n",
       "      <td>29</td>\n",
       "    </tr>\n",
       "    <tr>\n",
       "      <th>SIR000037000275</th>\n",
       "      <td>25.3</td>\n",
       "      <td>Female</td>\n",
       "      <td>23</td>\n",
       "    </tr>\n",
       "    <tr>\n",
       "      <th>SIR000037000702</th>\n",
       "      <td>26.7</td>\n",
       "      <td>Female</td>\n",
       "      <td>42</td>\n",
       "    </tr>\n",
       "    <tr>\n",
       "      <th>SIR000037000006</th>\n",
       "      <td>23.3</td>\n",
       "      <td>Male</td>\n",
       "      <td>23</td>\n",
       "    </tr>\n",
       "    <tr>\n",
       "      <th>SIR000037000157</th>\n",
       "      <td>25.9</td>\n",
       "      <td>Male</td>\n",
       "      <td>40</td>\n",
       "    </tr>\n",
       "    <tr>\n",
       "      <th>SIR000037000128</th>\n",
       "      <td>20.8</td>\n",
       "      <td>Female</td>\n",
       "      <td>25</td>\n",
       "    </tr>\n",
       "    <tr>\n",
       "      <th>SIR000037000137</th>\n",
       "      <td>26.7</td>\n",
       "      <td>Male</td>\n",
       "      <td>20</td>\n",
       "    </tr>\n",
       "    <tr>\n",
       "      <th>SIR000037000025</th>\n",
       "      <td>31.6</td>\n",
       "      <td>Male</td>\n",
       "      <td>38</td>\n",
       "    </tr>\n",
       "    <tr>\n",
       "      <th>SIR000037000127</th>\n",
       "      <td>22.4</td>\n",
       "      <td>Female</td>\n",
       "      <td>49</td>\n",
       "    </tr>\n",
       "    <tr>\n",
       "      <th>SIR000037000222</th>\n",
       "      <td>25.4</td>\n",
       "      <td>Male</td>\n",
       "      <td>53</td>\n",
       "    </tr>\n",
       "    <tr>\n",
       "      <th>SIR000037000703</th>\n",
       "      <td>26.6</td>\n",
       "      <td>Female</td>\n",
       "      <td>34</td>\n",
       "    </tr>\n",
       "    <tr>\n",
       "      <th>SIR000037000679</th>\n",
       "      <td>15.8</td>\n",
       "      <td>Female</td>\n",
       "      <td>23</td>\n",
       "    </tr>\n",
       "    <tr>\n",
       "      <th>SIR000037000223</th>\n",
       "      <td>29.9</td>\n",
       "      <td>Male</td>\n",
       "      <td>52</td>\n",
       "    </tr>\n",
       "    <tr>\n",
       "      <th>SIR000037000008</th>\n",
       "      <td>26.5</td>\n",
       "      <td>Male</td>\n",
       "      <td>24</td>\n",
       "    </tr>\n",
       "    <tr>\n",
       "      <th>SIR000037000667</th>\n",
       "      <td>22.7</td>\n",
       "      <td>Male</td>\n",
       "      <td>37</td>\n",
       "    </tr>\n",
       "    <tr>\n",
       "      <th>SIR000037000015</th>\n",
       "      <td>25.2</td>\n",
       "      <td>Female</td>\n",
       "      <td>45</td>\n",
       "    </tr>\n",
       "    <tr>\n",
       "      <th>SIR000037000160</th>\n",
       "      <td>32.7</td>\n",
       "      <td>Male</td>\n",
       "      <td>68</td>\n",
       "    </tr>\n",
       "    <tr>\n",
       "      <th>SIR000037000369</th>\n",
       "      <td>30.1</td>\n",
       "      <td>Male</td>\n",
       "      <td>28</td>\n",
       "    </tr>\n",
       "    <tr>\n",
       "      <th>SIR000037000674</th>\n",
       "      <td>22</td>\n",
       "      <td>Female</td>\n",
       "      <td>41</td>\n",
       "    </tr>\n",
       "    <tr>\n",
       "      <th>SIR000037000685</th>\n",
       "      <td>40.8</td>\n",
       "      <td>Female</td>\n",
       "      <td>29</td>\n",
       "    </tr>\n",
       "    <tr>\n",
       "      <th>SIR000037000123</th>\n",
       "      <td>27.9</td>\n",
       "      <td>Female</td>\n",
       "      <td>61</td>\n",
       "    </tr>\n",
       "    <tr>\n",
       "      <th>SIR000037000767</th>\n",
       "      <td>18.9</td>\n",
       "      <td>Female</td>\n",
       "      <td>28</td>\n",
       "    </tr>\n",
       "    <tr>\n",
       "      <th>SIR000037000016</th>\n",
       "      <td>55.5</td>\n",
       "      <td>Female</td>\n",
       "      <td>34</td>\n",
       "    </tr>\n",
       "    <tr>\n",
       "      <th>SIR000037000235</th>\n",
       "      <td>19</td>\n",
       "      <td>Female</td>\n",
       "      <td>23</td>\n",
       "    </tr>\n",
       "    <tr>\n",
       "      <th>SIR000037000354</th>\n",
       "      <td>15.9</td>\n",
       "      <td>Female</td>\n",
       "      <td>19</td>\n",
       "    </tr>\n",
       "    <tr>\n",
       "      <th>SIR000037000352</th>\n",
       "      <td>32.4</td>\n",
       "      <td>Male</td>\n",
       "      <td>44</td>\n",
       "    </tr>\n",
       "    <tr>\n",
       "      <th>SIR000037000233</th>\n",
       "      <td>NAV</td>\n",
       "      <td>Male</td>\n",
       "      <td>35</td>\n",
       "    </tr>\n",
       "    <tr>\n",
       "      <th>SIR000037000296</th>\n",
       "      <td>28.8</td>\n",
       "      <td>Female</td>\n",
       "      <td>55</td>\n",
       "    </tr>\n",
       "    <tr>\n",
       "      <th>SIR000037000766</th>\n",
       "      <td>35.2</td>\n",
       "      <td>Male</td>\n",
       "      <td>54</td>\n",
       "    </tr>\n",
       "    <tr>\n",
       "      <th>SIR000037000306</th>\n",
       "      <td>29.8</td>\n",
       "      <td>Male</td>\n",
       "      <td>65</td>\n",
       "    </tr>\n",
       "    <tr>\n",
       "      <th>...</th>\n",
       "      <td>...</td>\n",
       "      <td>...</td>\n",
       "      <td>...</td>\n",
       "    </tr>\n",
       "    <tr>\n",
       "      <th>SIR000037000080</th>\n",
       "      <td>30.4</td>\n",
       "      <td>Female</td>\n",
       "      <td>36</td>\n",
       "    </tr>\n",
       "    <tr>\n",
       "      <th>SIR000037000100</th>\n",
       "      <td>19.8</td>\n",
       "      <td>Female</td>\n",
       "      <td>25</td>\n",
       "    </tr>\n",
       "    <tr>\n",
       "      <th>SIR000037000089</th>\n",
       "      <td>22.8</td>\n",
       "      <td>Female</td>\n",
       "      <td>28</td>\n",
       "    </tr>\n",
       "    <tr>\n",
       "      <th>SIR000037000060</th>\n",
       "      <td>NAV</td>\n",
       "      <td>Male</td>\n",
       "      <td>70</td>\n",
       "    </tr>\n",
       "    <tr>\n",
       "      <th>SIR000037000077</th>\n",
       "      <td>35.6</td>\n",
       "      <td>Male</td>\n",
       "      <td>53</td>\n",
       "    </tr>\n",
       "    <tr>\n",
       "      <th>SIR000037000002</th>\n",
       "      <td>30.6</td>\n",
       "      <td>Female</td>\n",
       "      <td>26</td>\n",
       "    </tr>\n",
       "    <tr>\n",
       "      <th>SIR000037000090</th>\n",
       "      <td>27.1</td>\n",
       "      <td>Female</td>\n",
       "      <td>54</td>\n",
       "    </tr>\n",
       "    <tr>\n",
       "      <th>SIR000037000082</th>\n",
       "      <td>26.7</td>\n",
       "      <td>Female</td>\n",
       "      <td>47</td>\n",
       "    </tr>\n",
       "    <tr>\n",
       "      <th>SIR000037000107</th>\n",
       "      <td>43.9</td>\n",
       "      <td>Female</td>\n",
       "      <td>54</td>\n",
       "    </tr>\n",
       "    <tr>\n",
       "      <th>SIR000037000097</th>\n",
       "      <td>NAV</td>\n",
       "      <td>Male</td>\n",
       "      <td>48</td>\n",
       "    </tr>\n",
       "    <tr>\n",
       "      <th>SIR000037000087</th>\n",
       "      <td>31.4</td>\n",
       "      <td>Male</td>\n",
       "      <td>30</td>\n",
       "    </tr>\n",
       "    <tr>\n",
       "      <th>SIR000037000073</th>\n",
       "      <td>NAV</td>\n",
       "      <td>Male</td>\n",
       "      <td>28</td>\n",
       "    </tr>\n",
       "    <tr>\n",
       "      <th>SIR000037000332</th>\n",
       "      <td>NAV</td>\n",
       "      <td>Male</td>\n",
       "      <td>20</td>\n",
       "    </tr>\n",
       "    <tr>\n",
       "      <th>SIR000037000526</th>\n",
       "      <td>26.9</td>\n",
       "      <td>Male</td>\n",
       "      <td>32</td>\n",
       "    </tr>\n",
       "    <tr>\n",
       "      <th>SIR000037000610</th>\n",
       "      <td>38.6</td>\n",
       "      <td>Female</td>\n",
       "      <td>58</td>\n",
       "    </tr>\n",
       "    <tr>\n",
       "      <th>SIR000037000139</th>\n",
       "      <td>26.6</td>\n",
       "      <td>Female</td>\n",
       "      <td>57</td>\n",
       "    </tr>\n",
       "    <tr>\n",
       "      <th>SIR000037000298</th>\n",
       "      <td>31</td>\n",
       "      <td>Male</td>\n",
       "      <td>25</td>\n",
       "    </tr>\n",
       "    <tr>\n",
       "      <th>SIR000037000494</th>\n",
       "      <td>28.4</td>\n",
       "      <td>Female</td>\n",
       "      <td>54</td>\n",
       "    </tr>\n",
       "    <tr>\n",
       "      <th>SIR000037000448</th>\n",
       "      <td>27.4</td>\n",
       "      <td>Male</td>\n",
       "      <td>28</td>\n",
       "    </tr>\n",
       "    <tr>\n",
       "      <th>SIR000037000072</th>\n",
       "      <td>20.6</td>\n",
       "      <td>Female</td>\n",
       "      <td>23</td>\n",
       "    </tr>\n",
       "    <tr>\n",
       "      <th>SIR000037000428</th>\n",
       "      <td>27.4</td>\n",
       "      <td>Female</td>\n",
       "      <td>57</td>\n",
       "    </tr>\n",
       "    <tr>\n",
       "      <th>SIR000037000437</th>\n",
       "      <td>33.8</td>\n",
       "      <td>Female</td>\n",
       "      <td>35</td>\n",
       "    </tr>\n",
       "    <tr>\n",
       "      <th>SIR000037000316</th>\n",
       "      <td>28.9</td>\n",
       "      <td>Female</td>\n",
       "      <td>52</td>\n",
       "    </tr>\n",
       "    <tr>\n",
       "      <th>SIR000037000699</th>\n",
       "      <td>18.7</td>\n",
       "      <td>Female</td>\n",
       "      <td>21</td>\n",
       "    </tr>\n",
       "    <tr>\n",
       "      <th>SIR000037000065</th>\n",
       "      <td>37.4</td>\n",
       "      <td>Male</td>\n",
       "      <td>23</td>\n",
       "    </tr>\n",
       "    <tr>\n",
       "      <th>SIR000037000283</th>\n",
       "      <td>25.6</td>\n",
       "      <td>Female</td>\n",
       "      <td>29</td>\n",
       "    </tr>\n",
       "    <tr>\n",
       "      <th>SIR000037000795</th>\n",
       "      <td>29.8</td>\n",
       "      <td>Male</td>\n",
       "      <td>52</td>\n",
       "    </tr>\n",
       "    <tr>\n",
       "      <th>SIR000037000061</th>\n",
       "      <td>27.3</td>\n",
       "      <td>Female</td>\n",
       "      <td>34</td>\n",
       "    </tr>\n",
       "    <tr>\n",
       "      <th>SIR000037000063</th>\n",
       "      <td>26.8</td>\n",
       "      <td>Female</td>\n",
       "      <td>50</td>\n",
       "    </tr>\n",
       "    <tr>\n",
       "      <th>SIR000037000062</th>\n",
       "      <td>NAV</td>\n",
       "      <td>Male</td>\n",
       "      <td>37</td>\n",
       "    </tr>\n",
       "  </tbody>\n",
       "</table>\n",
       "<p>447 rows × 3 columns</p>\n",
       "</div>"
      ],
      "text/plain": [
       "                BodyFat - BMI  Gender  Age\n",
       "QBB_DUMMY_ID                              \n",
       "SIR000037000142          24.3  Female   29\n",
       "SIR000037000275          25.3  Female   23\n",
       "SIR000037000702          26.7  Female   42\n",
       "SIR000037000006          23.3    Male   23\n",
       "SIR000037000157          25.9    Male   40\n",
       "SIR000037000128          20.8  Female   25\n",
       "SIR000037000137          26.7    Male   20\n",
       "SIR000037000025          31.6    Male   38\n",
       "SIR000037000127          22.4  Female   49\n",
       "SIR000037000222          25.4    Male   53\n",
       "SIR000037000703          26.6  Female   34\n",
       "SIR000037000679          15.8  Female   23\n",
       "SIR000037000223          29.9    Male   52\n",
       "SIR000037000008          26.5    Male   24\n",
       "SIR000037000667          22.7    Male   37\n",
       "SIR000037000015          25.2  Female   45\n",
       "SIR000037000160          32.7    Male   68\n",
       "SIR000037000369          30.1    Male   28\n",
       "SIR000037000674            22  Female   41\n",
       "SIR000037000685          40.8  Female   29\n",
       "SIR000037000123          27.9  Female   61\n",
       "SIR000037000767          18.9  Female   28\n",
       "SIR000037000016          55.5  Female   34\n",
       "SIR000037000235            19  Female   23\n",
       "SIR000037000354          15.9  Female   19\n",
       "SIR000037000352          32.4    Male   44\n",
       "SIR000037000233           NAV    Male   35\n",
       "SIR000037000296          28.8  Female   55\n",
       "SIR000037000766          35.2    Male   54\n",
       "SIR000037000306          29.8    Male   65\n",
       "...                       ...     ...  ...\n",
       "SIR000037000080          30.4  Female   36\n",
       "SIR000037000100          19.8  Female   25\n",
       "SIR000037000089          22.8  Female   28\n",
       "SIR000037000060           NAV    Male   70\n",
       "SIR000037000077          35.6    Male   53\n",
       "SIR000037000002          30.6  Female   26\n",
       "SIR000037000090          27.1  Female   54\n",
       "SIR000037000082          26.7  Female   47\n",
       "SIR000037000107          43.9  Female   54\n",
       "SIR000037000097           NAV    Male   48\n",
       "SIR000037000087          31.4    Male   30\n",
       "SIR000037000073           NAV    Male   28\n",
       "SIR000037000332           NAV    Male   20\n",
       "SIR000037000526          26.9    Male   32\n",
       "SIR000037000610          38.6  Female   58\n",
       "SIR000037000139          26.6  Female   57\n",
       "SIR000037000298            31    Male   25\n",
       "SIR000037000494          28.4  Female   54\n",
       "SIR000037000448          27.4    Male   28\n",
       "SIR000037000072          20.6  Female   23\n",
       "SIR000037000428          27.4  Female   57\n",
       "SIR000037000437          33.8  Female   35\n",
       "SIR000037000316          28.9  Female   52\n",
       "SIR000037000699          18.7  Female   21\n",
       "SIR000037000065          37.4    Male   23\n",
       "SIR000037000283          25.6  Female   29\n",
       "SIR000037000795          29.8    Male   52\n",
       "SIR000037000061          27.3  Female   34\n",
       "SIR000037000063          26.8  Female   50\n",
       "SIR000037000062           NAV    Male   37\n",
       "\n",
       "[447 rows x 3 columns]"
      ]
     },
     "execution_count": 188,
     "metadata": {},
     "output_type": "execute_result"
    }
   ],
   "source": [
    "qbbmData.loc[tx_qbb_pos1.index][['BodyFat - BMI','Gender','Age']]"
   ]
  },
  {
   "cell_type": "code",
   "execution_count": null,
   "metadata": {},
   "outputs": [],
   "source": []
  }
 ],
 "metadata": {
  "kernelspec": {
   "display_name": "Python 3",
   "language": "python",
   "name": "python3"
  },
  "language_info": {
   "codemirror_mode": {
    "name": "ipython",
    "version": 3
   },
   "file_extension": ".py",
   "mimetype": "text/x-python",
   "name": "python",
   "nbconvert_exporter": "python",
   "pygments_lexer": "ipython3",
   "version": "3.7.3"
  }
 },
 "nbformat": 4,
 "nbformat_minor": 2
}

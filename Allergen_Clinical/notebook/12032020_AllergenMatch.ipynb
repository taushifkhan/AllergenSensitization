{
 "cells": [
  {
   "cell_type": "code",
   "execution_count": 3,
   "metadata": {},
   "outputs": [],
   "source": [
    "import pandas as pd\n",
    "import numpy as np\n",
    "import seaborn as sns\n",
    "import matplotlib.pyplot as plt\n",
    "%matplotlib inline"
   ]
  },
  {
   "cell_type": "code",
   "execution_count": 4,
   "metadata": {},
   "outputs": [],
   "source": [
    "cData = pd.read_pickle(\"../curtaedAllergenData/all_cliData_10032020.pkl\")\n",
    "mapDa = pd.read_csv(\"../Allergen data/QBB_sample_ID_mapping_Allergen-IgE_2019-12-12_MR.csv\")"
   ]
  },
  {
   "cell_type": "code",
   "execution_count": 5,
   "metadata": {},
   "outputs": [
    {
     "data": {
      "text/html": [
       "<div>\n",
       "<style scoped>\n",
       "    .dataframe tbody tr th:only-of-type {\n",
       "        vertical-align: middle;\n",
       "    }\n",
       "\n",
       "    .dataframe tbody tr th {\n",
       "        vertical-align: top;\n",
       "    }\n",
       "\n",
       "    .dataframe thead th {\n",
       "        text-align: right;\n",
       "    }\n",
       "</style>\n",
       "<table border=\"1\" class=\"dataframe\">\n",
       "  <thead>\n",
       "    <tr style=\"text-align: right;\">\n",
       "      <th></th>\n",
       "      <th>SampleType</th>\n",
       "      <th>Group</th>\n",
       "      <th>Sample</th>\n",
       "      <th>Test</th>\n",
       "      <th>Resp</th>\n",
       "      <th>Conc</th>\n",
       "      <th>%CVResp</th>\n",
       "      <th>%CVConc)</th>\n",
       "    </tr>\n",
       "  </thead>\n",
       "  <tbody>\n",
       "    <tr>\n",
       "      <th>0</th>\n",
       "      <td>1=CC</td>\n",
       "      <td>114083</td>\n",
       "      <td>CC-1</td>\n",
       "      <td>a_IgE</td>\n",
       "      <td>338.127200000000000</td>\n",
       "      <td>0.746358756010291</td>\n",
       "      <td>0.00000</td>\n",
       "      <td>0.00000</td>\n",
       "    </tr>\n",
       "    <tr>\n",
       "      <th>1</th>\n",
       "      <td>2=CC</td>\n",
       "      <td>114084</td>\n",
       "      <td>CC-2</td>\n",
       "      <td>a_IgE</td>\n",
       "      <td>6774.706500000000000</td>\n",
       "      <td>19.149101607404400</td>\n",
       "      <td>0.00000</td>\n",
       "      <td>0.00000</td>\n",
       "    </tr>\n",
       "    <tr>\n",
       "      <th>2</th>\n",
       "      <td>3=QC</td>\n",
       "      <td>114085</td>\n",
       "      <td>sIgE M</td>\n",
       "      <td>t3</td>\n",
       "      <td>3694.655000000000000</td>\n",
       "      <td>9.331232433021910</td>\n",
       "      <td>0.00000</td>\n",
       "      <td>0.00000</td>\n",
       "    </tr>\n",
       "    <tr>\n",
       "      <th>3</th>\n",
       "      <td>4=QC</td>\n",
       "      <td>114089</td>\n",
       "      <td>sIgE L</td>\n",
       "      <td>e1</td>\n",
       "      <td>1246.069900000000000</td>\n",
       "      <td>2.899104558561600</td>\n",
       "      <td>0.00000</td>\n",
       "      <td>0.00000</td>\n",
       "    </tr>\n",
       "    <tr>\n",
       "      <th>4</th>\n",
       "      <td>5=QC</td>\n",
       "      <td>114090</td>\n",
       "      <td>sIgE Neg</td>\n",
       "      <td>d1</td>\n",
       "      <td>20.013500000000000</td>\n",
       "      <td>0.007626248354671</td>\n",
       "      <td>0.00000</td>\n",
       "      <td>0.00000</td>\n",
       "    </tr>\n",
       "    <tr>\n",
       "      <th>5</th>\n",
       "      <td>6=QC</td>\n",
       "      <td>114091</td>\n",
       "      <td>IQC271119</td>\n",
       "      <td>d1</td>\n",
       "      <td>6338.754400000000000</td>\n",
       "      <td>17.618579559304100</td>\n",
       "      <td>0.00000</td>\n",
       "      <td>0.00000</td>\n",
       "    </tr>\n",
       "    <tr>\n",
       "      <th>6</th>\n",
       "      <td>7=SAM</td>\n",
       "      <td>113266</td>\n",
       "      <td>011990000646</td>\n",
       "      <td>fx5</td>\n",
       "      <td>34.426700000000000</td>\n",
       "      <td>0.208668481908193</td>\n",
       "      <td>0.00000</td>\n",
       "      <td>0.00000</td>\n",
       "    </tr>\n",
       "    <tr>\n",
       "      <th>7</th>\n",
       "      <td>8=SAM</td>\n",
       "      <td>113265</td>\n",
       "      <td>011990000646</td>\n",
       "      <td>phad</td>\n",
       "      <td>34.117500000000000</td>\n",
       "      <td>0.205033469003163</td>\n",
       "      <td>0.00000</td>\n",
       "      <td>0.00000</td>\n",
       "    </tr>\n",
       "    <tr>\n",
       "      <th>8</th>\n",
       "      <td>9=SAM</td>\n",
       "      <td>113267</td>\n",
       "      <td>011990000646</td>\n",
       "      <td>fx1</td>\n",
       "      <td>16.951300000000000</td>\n",
       "      <td>0.001104005729673</td>\n",
       "      <td>0.00000</td>\n",
       "      <td>0.00000</td>\n",
       "    </tr>\n",
       "    <tr>\n",
       "      <th>9</th>\n",
       "      <td>10=SAM</td>\n",
       "      <td>113268</td>\n",
       "      <td>011990000646</td>\n",
       "      <td>fx2</td>\n",
       "      <td>19.495700000000000</td>\n",
       "      <td>0.031926326632585</td>\n",
       "      <td>0.00000</td>\n",
       "      <td>0.00000</td>\n",
       "    </tr>\n",
       "  </tbody>\n",
       "</table>\n",
       "</div>"
      ],
      "text/plain": [
       "  SampleType   Group        Sample   Test                  Resp  \\\n",
       "0       1=CC  114083          CC-1  a_IgE   338.127200000000000   \n",
       "1       2=CC  114084          CC-2  a_IgE  6774.706500000000000   \n",
       "2       3=QC  114085        sIgE M     t3  3694.655000000000000   \n",
       "3       4=QC  114089        sIgE L     e1  1246.069900000000000   \n",
       "4       5=QC  114090      sIgE Neg     d1    20.013500000000000   \n",
       "5       6=QC  114091     IQC271119     d1  6338.754400000000000   \n",
       "6      7=SAM  113266  011990000646    fx5    34.426700000000000   \n",
       "7      8=SAM  113265  011990000646   phad    34.117500000000000   \n",
       "8      9=SAM  113267  011990000646    fx1    16.951300000000000   \n",
       "9     10=SAM  113268  011990000646    fx2    19.495700000000000   \n",
       "\n",
       "                 Conc  %CVResp %CVConc)\\n  \n",
       "0   0.746358756010291  0.00000    0.00000  \n",
       "1  19.149101607404400  0.00000    0.00000  \n",
       "2   9.331232433021910  0.00000    0.00000  \n",
       "3   2.899104558561600  0.00000    0.00000  \n",
       "4   0.007626248354671  0.00000    0.00000  \n",
       "5  17.618579559304100  0.00000    0.00000  \n",
       "6   0.208668481908193  0.00000    0.00000  \n",
       "7   0.205033469003163  0.00000    0.00000  \n",
       "8   0.001104005729673  0.00000    0.00000  \n",
       "9   0.031926326632585  0.00000    0.00000  "
      ]
     },
     "execution_count": 5,
     "metadata": {},
     "output_type": "execute_result"
    }
   ],
   "source": [
    "cData.head(10)"
   ]
  },
  {
   "cell_type": "code",
   "execution_count": 6,
   "metadata": {},
   "outputs": [],
   "source": [
    "# mapDa[['QBB_DUMMY_ID','PATH_SAMPLE_ID ']]\n",
    "for idx in mapDa.index:\n",
    "    mapDa.loc[idx,'Sample'] = ''.join(mapDa.loc[idx,'PATH_SAMPLE_ID '].split(\"-\"))"
   ]
  },
  {
   "cell_type": "code",
   "execution_count": 7,
   "metadata": {},
   "outputs": [
    {
     "data": {
      "text/html": [
       "<div>\n",
       "<style scoped>\n",
       "    .dataframe tbody tr th:only-of-type {\n",
       "        vertical-align: middle;\n",
       "    }\n",
       "\n",
       "    .dataframe tbody tr th {\n",
       "        vertical-align: top;\n",
       "    }\n",
       "\n",
       "    .dataframe thead th {\n",
       "        text-align: right;\n",
       "    }\n",
       "</style>\n",
       "<table border=\"1\" class=\"dataframe\">\n",
       "  <thead>\n",
       "    <tr style=\"text-align: right;\">\n",
       "      <th></th>\n",
       "      <th>QBB_DUMMY_ID</th>\n",
       "    </tr>\n",
       "    <tr>\n",
       "      <th>SIDRA-RES_3DIGIT_SAMPLE_NO</th>\n",
       "      <th></th>\n",
       "    </tr>\n",
       "  </thead>\n",
       "  <tbody>\n",
       "    <tr>\n",
       "      <th>101</th>\n",
       "      <td>SIR000037000780</td>\n",
       "    </tr>\n",
       "    <tr>\n",
       "      <th>102</th>\n",
       "      <td>SIR000037000142</td>\n",
       "    </tr>\n",
       "    <tr>\n",
       "      <th>103</th>\n",
       "      <td>SIR000037000275</td>\n",
       "    </tr>\n",
       "    <tr>\n",
       "      <th>104</th>\n",
       "      <td>SIR000037000009</td>\n",
       "    </tr>\n",
       "    <tr>\n",
       "      <th>105</th>\n",
       "      <td>SIR000037000702</td>\n",
       "    </tr>\n",
       "  </tbody>\n",
       "</table>\n",
       "</div>"
      ],
      "text/plain": [
       "                               QBB_DUMMY_ID\n",
       "SIDRA-RES_3DIGIT_SAMPLE_NO                 \n",
       "101                         SIR000037000780\n",
       "102                         SIR000037000142\n",
       "103                         SIR000037000275\n",
       "104                         SIR000037000009\n",
       "105                         SIR000037000702"
      ]
     },
     "execution_count": 7,
     "metadata": {},
     "output_type": "execute_result"
    }
   ],
   "source": [
    "mapDa_1 = mapDa[['QBB_DUMMY_ID','SIDRA-RES_3DIGIT_SAMPLE_NO']].set_index('SIDRA-RES_3DIGIT_SAMPLE_NO')\n",
    "mapDa_1.head()"
   ]
  },
  {
   "cell_type": "code",
   "execution_count": 8,
   "metadata": {},
   "outputs": [
    {
     "data": {
      "text/plain": [
       "(7342, 8)"
      ]
     },
     "execution_count": 8,
     "metadata": {},
     "output_type": "execute_result"
    }
   ],
   "source": [
    "cData[cData.SampleType.str.contains('SAM')].shape"
   ]
  },
  {
   "cell_type": "code",
   "execution_count": 9,
   "metadata": {},
   "outputs": [],
   "source": [
    "cData.Conc = cData.Conc.astype('float')"
   ]
  },
  {
   "cell_type": "code",
   "execution_count": 10,
   "metadata": {},
   "outputs": [
    {
     "data": {
      "text/plain": [
       "<matplotlib.axes._subplots.AxesSubplot at 0x10b4ae7f0>"
      ]
     },
     "execution_count": 10,
     "metadata": {},
     "output_type": "execute_result"
    },
    {
     "data": {
      "image/png": "[encoded data removed]",
      "text/plain": [
       "<Figure size 432x288 with 1 Axes>"
      ]
     },
     "metadata": {
      "needs_background": "light"
     },
     "output_type": "display_data"
    }
   ],
   "source": [
    "cData.Test.value_counts().plot(kind=\"hist\")"
   ]
  },
  {
   "cell_type": "code",
   "execution_count": 11,
   "metadata": {},
   "outputs": [],
   "source": [
    "cData.Test.value_counts()[cData.Test.value_counts()>700]\n",
    "test_t = cData.Test.value_counts()[cData.Test.value_counts()>700].keys()"
   ]
  },
  {
   "cell_type": "code",
   "execution_count": 12,
   "metadata": {},
   "outputs": [
    {
     "data": {
      "text/plain": [
       "<matplotlib.axes._subplots.AxesSubplot at 0x10df11550>"
      ]
     },
     "execution_count": 12,
     "metadata": {},
     "output_type": "execute_result"
    },
    {
     "data": {
      "image/png": "[encoded data removed]",
      "text/plain": [
       "<Figure size 1152x216 with 1 Axes>"
      ]
     },
     "metadata": {
      "needs_background": "light"
     },
     "output_type": "display_data"
    }
   ],
   "source": [
    "cData.Test.value_counts().plot(kind=\"bar\",figsize=(16,3))"
   ]
  },
  {
   "cell_type": "code",
   "execution_count": 13,
   "metadata": {},
   "outputs": [],
   "source": [
    "tx = cData[cData.Test.isin(test_t)].groupby(['Sample','Test'])['Conc'].agg('mean').unstack()"
   ]
  },
  {
   "cell_type": "code",
   "execution_count": 14,
   "metadata": {},
   "outputs": [
    {
     "data": {
      "text/plain": [
       "Text(0.5, 0, 'Test Class')"
      ]
     },
     "execution_count": 14,
     "metadata": {},
     "output_type": "execute_result"
    },
    {
     "data": {
      "image/png": "[encoded data removed]",
      "text/plain": [
       "<Figure size 432x288 with 1 Axes>"
      ]
     },
     "metadata": {
      "needs_background": "light"
     },
     "output_type": "display_data"
    }
   ],
   "source": [
    "tx[tx>0.3].fillna(0).astype(bool).sum().plot(kind=\"bar\",color=\"blue\",alpha=0.3)\n",
    "plt.ylabel(\"# samples\",fontsize=14)\n",
    "plt.xlabel(\"Test Class\", fontsize=14)"
   ]
  },
  {
   "cell_type": "code",
   "execution_count": 15,
   "metadata": {},
   "outputs": [
    {
     "data": {
      "text/plain": [
       "<seaborn.matrix.ClusterGrid at 0x1a2296e668>"
      ]
     },
     "execution_count": 15,
     "metadata": {},
     "output_type": "execute_result"
    },
    {
     "data": {
      "image/png": "[encoded data removed]",
      "text/plain": [
       "<Figure size 720x720 with 4 Axes>"
      ]
     },
     "metadata": {
      "needs_background": "light"
     },
     "output_type": "display_data"
    }
   ],
   "source": [
    "sns.clustermap(tx[tx>0.3].fillna(0).astype(bool).corr(),vmin=0.2,vmax=0.9,cmap=\"Blues\")"
   ]
  },
  {
   "cell_type": "code",
   "execution_count": 16,
   "metadata": {},
   "outputs": [
    {
     "data": {
      "text/plain": [
       "<seaborn.matrix.ClusterGrid at 0x1a21590da0>"
      ]
     },
     "execution_count": 16,
     "metadata": {},
     "output_type": "execute_result"
    },
    {
     "data": {
      "image/png": "[encoded data removed]",
      "text/plain": [
       "<Figure size 720x720 with 4 Axes>"
      ]
     },
     "metadata": {
      "needs_background": "light"
     },
     "output_type": "display_data"
    }
   ],
   "source": [
    "sns.clustermap(tx.corr(),cmap=\"Blues\")"
   ]
  },
  {
   "cell_type": "code",
   "execution_count": 17,
   "metadata": {},
   "outputs": [
    {
     "data": {
      "text/plain": [
       "Text(0, 0.5, '# Sample ')"
      ]
     },
     "execution_count": 17,
     "metadata": {},
     "output_type": "execute_result"
    },
    {
     "data": {
      "image/png": "[encoded data removed]",
      "text/plain": [
       "<Figure size 432x288 with 1 Axes>"
      ]
     },
     "metadata": {
      "needs_background": "light"
     },
     "output_type": "display_data"
    }
   ],
   "source": [
    "tx[tx>=0.3].fillna(0).astype(bool).sum(axis=1).plot(kind=\"hist\",color=\"m\",alpha=0.4,bins=8)\n",
    "plt.xlabel(\"# Allergen Test\",fontsize=14)\n",
    "plt.ylabel(\"# Sample \",fontsize=14)"
   ]
  },
  {
   "cell_type": "code",
   "execution_count": 18,
   "metadata": {},
   "outputs": [],
   "source": [
    "tx['id3d'] = [i[-3:] for i in tx.reset_index()['Sample']]"
   ]
  },
  {
   "cell_type": "code",
   "execution_count": 19,
   "metadata": {},
   "outputs": [],
   "source": [
    "tx_r = tx.set_index('id3d').join(mapDa_1)"
   ]
  },
  {
   "cell_type": "code",
   "execution_count": 20,
   "metadata": {},
   "outputs": [
    {
     "data": {
      "text/plain": [
       "(797, 9)"
      ]
     },
     "execution_count": 20,
     "metadata": {},
     "output_type": "execute_result"
    }
   ],
   "source": [
    "tx_qbb = tx_r.drop(tx_r[tx_r.QBB_DUMMY_ID.isnull()].index)\n",
    "tx_qbb.shape"
   ]
  },
  {
   "cell_type": "code",
   "execution_count": 21,
   "metadata": {},
   "outputs": [],
   "source": [
    "tx_qbb = tx_qbb.set_index('QBB_DUMMY_ID')"
   ]
  },
  {
   "cell_type": "code",
   "execution_count": 22,
   "metadata": {},
   "outputs": [
    {
     "data": {
      "text/html": [
       "<div>\n",
       "<style scoped>\n",
       "    .dataframe tbody tr th:only-of-type {\n",
       "        vertical-align: middle;\n",
       "    }\n",
       "\n",
       "    .dataframe tbody tr th {\n",
       "        vertical-align: top;\n",
       "    }\n",
       "\n",
       "    .dataframe thead th {\n",
       "        text-align: right;\n",
       "    }\n",
       "</style>\n",
       "<table border=\"1\" class=\"dataframe\">\n",
       "  <thead>\n",
       "    <tr style=\"text-align: right;\">\n",
       "      <th></th>\n",
       "      <th>fx1</th>\n",
       "      <th>fx2</th>\n",
       "      <th>fx22</th>\n",
       "      <th>fx5</th>\n",
       "      <th>gx2</th>\n",
       "      <th>phad</th>\n",
       "      <th>t20</th>\n",
       "      <th>wx1</th>\n",
       "    </tr>\n",
       "    <tr>\n",
       "      <th>QBB_DUMMY_ID</th>\n",
       "      <th></th>\n",
       "      <th></th>\n",
       "      <th></th>\n",
       "      <th></th>\n",
       "      <th></th>\n",
       "      <th></th>\n",
       "      <th></th>\n",
       "      <th></th>\n",
       "    </tr>\n",
       "  </thead>\n",
       "  <tbody>\n",
       "    <tr>\n",
       "      <th>SIR000037000780</th>\n",
       "      <td>0.004688</td>\n",
       "      <td>0.030764</td>\n",
       "      <td>0.158547</td>\n",
       "      <td>0.040405</td>\n",
       "      <td>0.061567</td>\n",
       "      <td>0.182508</td>\n",
       "      <td>0.029467</td>\n",
       "      <td>0.142290</td>\n",
       "    </tr>\n",
       "    <tr>\n",
       "      <th>SIR000037000142</th>\n",
       "      <td>0.000000</td>\n",
       "      <td>0.070241</td>\n",
       "      <td>0.129783</td>\n",
       "      <td>0.089441</td>\n",
       "      <td>0.063238</td>\n",
       "      <td>0.320504</td>\n",
       "      <td>0.016894</td>\n",
       "      <td>0.205851</td>\n",
       "    </tr>\n",
       "    <tr>\n",
       "      <th>SIR000037000275</th>\n",
       "      <td>0.355763</td>\n",
       "      <td>1.596741</td>\n",
       "      <td>0.403655</td>\n",
       "      <td>0.533030</td>\n",
       "      <td>0.283591</td>\n",
       "      <td>1.395833</td>\n",
       "      <td>0.129739</td>\n",
       "      <td>0.503114</td>\n",
       "    </tr>\n",
       "    <tr>\n",
       "      <th>SIR000037000009</th>\n",
       "      <td>0.038830</td>\n",
       "      <td>0.000000</td>\n",
       "      <td>0.147813</td>\n",
       "      <td>0.122652</td>\n",
       "      <td>0.094520</td>\n",
       "      <td>0.209529</td>\n",
       "      <td>0.000000</td>\n",
       "      <td>0.155590</td>\n",
       "    </tr>\n",
       "    <tr>\n",
       "      <th>SIR000037000702</th>\n",
       "      <td>0.068248</td>\n",
       "      <td>0.000000</td>\n",
       "      <td>0.166260</td>\n",
       "      <td>0.134755</td>\n",
       "      <td>0.073208</td>\n",
       "      <td>1.589408</td>\n",
       "      <td>0.391426</td>\n",
       "      <td>0.457234</td>\n",
       "    </tr>\n",
       "  </tbody>\n",
       "</table>\n",
       "</div>"
      ],
      "text/plain": [
       "                      fx1       fx2      fx22       fx5       gx2      phad  \\\n",
       "QBB_DUMMY_ID                                                                  \n",
       "SIR000037000780  0.004688  0.030764  0.158547  0.040405  0.061567  0.182508   \n",
       "SIR000037000142  0.000000  0.070241  0.129783  0.089441  0.063238  0.320504   \n",
       "SIR000037000275  0.355763  1.596741  0.403655  0.533030  0.283591  1.395833   \n",
       "SIR000037000009  0.038830  0.000000  0.147813  0.122652  0.094520  0.209529   \n",
       "SIR000037000702  0.068248  0.000000  0.166260  0.134755  0.073208  1.589408   \n",
       "\n",
       "                      t20       wx1  \n",
       "QBB_DUMMY_ID                         \n",
       "SIR000037000780  0.029467  0.142290  \n",
       "SIR000037000142  0.016894  0.205851  \n",
       "SIR000037000275  0.129739  0.503114  \n",
       "SIR000037000009  0.000000  0.155590  \n",
       "SIR000037000702  0.391426  0.457234  "
      ]
     },
     "execution_count": 22,
     "metadata": {},
     "output_type": "execute_result"
    }
   ],
   "source": [
    "tx_qbb.head()"
   ]
  },
  {
   "cell_type": "code",
   "execution_count": 23,
   "metadata": {},
   "outputs": [],
   "source": [
    "tx_qbb = tx_qbb.astype(float)"
   ]
  },
  {
   "cell_type": "code",
   "execution_count": 24,
   "metadata": {},
   "outputs": [],
   "source": [
    "tx_qbb.to_pickle(\"../curtaedAllergenData/AllergenType_QBB.pkl\")"
   ]
  },
  {
   "cell_type": "code",
   "execution_count": 170,
   "metadata": {},
   "outputs": [],
   "source": [
    "tx_qbb_pos1 = tx_qbb[tx_qbb[tx_qbb>=0.3].fillna(0).astype(bool).sum(axis=1)>0]"
   ]
  },
  {
   "cell_type": "code",
   "execution_count": 171,
   "metadata": {},
   "outputs": [
    {
     "data": {
      "text/plain": [
       "(447, 8)"
      ]
     },
     "execution_count": 171,
     "metadata": {},
     "output_type": "execute_result"
    }
   ],
   "source": [
    "tx_qbb_pos1.shape"
   ]
  },
  {
   "cell_type": "code",
   "execution_count": 172,
   "metadata": {},
   "outputs": [
    {
     "data": {
      "text/plain": [
       "<seaborn.matrix.ClusterGrid at 0x1a284ad470>"
      ]
     },
     "execution_count": 172,
     "metadata": {},
     "output_type": "execute_result"
    },
    {
     "data": {
      "image/png": "[encoded data removed]",
      "text/plain": [
       "<Figure size 360x864 with 4 Axes>"
      ]
     },
     "metadata": {
      "needs_background": "light"
     },
     "output_type": "display_data"
    }
   ],
   "source": [
    "sns.clustermap(tx_pos1[tx_pos1>=0.3].fillna(0).astype(bool),cmap=\"Blues\",\\\n",
    "               vmin=0,vmax=1,figsize=(5,12),yticklabels='')"
   ]
  },
  {
   "cell_type": "code",
   "execution_count": 173,
   "metadata": {},
   "outputs": [
    {
     "data": {
      "text/html": [
       "<div>\n",
       "<style scoped>\n",
       "    .dataframe tbody tr th:only-of-type {\n",
       "        vertical-align: middle;\n",
       "    }\n",
       "\n",
       "    .dataframe tbody tr th {\n",
       "        vertical-align: top;\n",
       "    }\n",
       "\n",
       "    .dataframe thead th {\n",
       "        text-align: right;\n",
       "    }\n",
       "</style>\n",
       "<table border=\"1\" class=\"dataframe\">\n",
       "  <thead>\n",
       "    <tr style=\"text-align: right;\">\n",
       "      <th></th>\n",
       "      <th>fx1</th>\n",
       "      <th>fx2</th>\n",
       "      <th>fx22</th>\n",
       "      <th>fx5</th>\n",
       "      <th>gx2</th>\n",
       "      <th>phad</th>\n",
       "      <th>t20</th>\n",
       "      <th>wx1</th>\n",
       "    </tr>\n",
       "    <tr>\n",
       "      <th>QBB_DUMMY_ID</th>\n",
       "      <th></th>\n",
       "      <th></th>\n",
       "      <th></th>\n",
       "      <th></th>\n",
       "      <th></th>\n",
       "      <th></th>\n",
       "      <th></th>\n",
       "      <th></th>\n",
       "    </tr>\n",
       "  </thead>\n",
       "  <tbody>\n",
       "    <tr>\n",
       "      <th>SIR000037000142</th>\n",
       "      <td>0.000000</td>\n",
       "      <td>0.070241</td>\n",
       "      <td>0.129783</td>\n",
       "      <td>0.089441</td>\n",
       "      <td>0.063238</td>\n",
       "      <td>0.320504</td>\n",
       "      <td>0.016894</td>\n",
       "      <td>0.205851</td>\n",
       "    </tr>\n",
       "    <tr>\n",
       "      <th>SIR000037000275</th>\n",
       "      <td>0.355763</td>\n",
       "      <td>1.596741</td>\n",
       "      <td>0.403655</td>\n",
       "      <td>0.533030</td>\n",
       "      <td>0.283591</td>\n",
       "      <td>1.395833</td>\n",
       "      <td>0.129739</td>\n",
       "      <td>0.503114</td>\n",
       "    </tr>\n",
       "    <tr>\n",
       "      <th>SIR000037000702</th>\n",
       "      <td>0.068248</td>\n",
       "      <td>0.000000</td>\n",
       "      <td>0.166260</td>\n",
       "      <td>0.134755</td>\n",
       "      <td>0.073208</td>\n",
       "      <td>1.589408</td>\n",
       "      <td>0.391426</td>\n",
       "      <td>0.457234</td>\n",
       "    </tr>\n",
       "    <tr>\n",
       "      <th>SIR000037000006</th>\n",
       "      <td>0.003941</td>\n",
       "      <td>0.000000</td>\n",
       "      <td>0.199718</td>\n",
       "      <td>0.052406</td>\n",
       "      <td>0.080378</td>\n",
       "      <td>0.534766</td>\n",
       "      <td>0.001875</td>\n",
       "      <td>0.179422</td>\n",
       "    </tr>\n",
       "    <tr>\n",
       "      <th>SIR000037000157</th>\n",
       "      <td>0.020086</td>\n",
       "      <td>3.641496</td>\n",
       "      <td>0.235219</td>\n",
       "      <td>0.130267</td>\n",
       "      <td>0.140340</td>\n",
       "      <td>1.283758</td>\n",
       "      <td>0.035573</td>\n",
       "      <td>0.241123</td>\n",
       "    </tr>\n",
       "  </tbody>\n",
       "</table>\n",
       "</div>"
      ],
      "text/plain": [
       "                      fx1       fx2      fx22       fx5       gx2      phad  \\\n",
       "QBB_DUMMY_ID                                                                  \n",
       "SIR000037000142  0.000000  0.070241  0.129783  0.089441  0.063238  0.320504   \n",
       "SIR000037000275  0.355763  1.596741  0.403655  0.533030  0.283591  1.395833   \n",
       "SIR000037000702  0.068248  0.000000  0.166260  0.134755  0.073208  1.589408   \n",
       "SIR000037000006  0.003941  0.000000  0.199718  0.052406  0.080378  0.534766   \n",
       "SIR000037000157  0.020086  3.641496  0.235219  0.130267  0.140340  1.283758   \n",
       "\n",
       "                      t20       wx1  \n",
       "QBB_DUMMY_ID                         \n",
       "SIR000037000142  0.016894  0.205851  \n",
       "SIR000037000275  0.129739  0.503114  \n",
       "SIR000037000702  0.391426  0.457234  \n",
       "SIR000037000006  0.001875  0.179422  \n",
       "SIR000037000157  0.035573  0.241123  "
      ]
     },
     "execution_count": 173,
     "metadata": {},
     "output_type": "execute_result"
    }
   ],
   "source": [
    "tx_qbb_pos1.head()"
   ]
  },
  {
   "cell_type": "code",
   "execution_count": null,
   "metadata": {},
   "outputs": [],
   "source": []
  },
  {
   "cell_type": "code",
   "execution_count": 184,
   "metadata": {},
   "outputs": [],
   "source": [
    "qbb_spp = pd.read_pickle(\"../../QBBData/Data_PhipSeq_BWH/merge_800_10Feb2020/species_score.pkl\",compression='gzip')\n",
    "virCut = pd.read_csv(\"../../QbbBMI_Project/curatedData/VirscanThreshold_3Feb2020.csv\")\n",
    "qbbmData = pd.read_csv(\"../../QBBData/MetaData/MAPPING_DUMMYID_BamID_age_gender_eth.csv\").set_index('PROJECT_DUMMY_ID')"
   ]
  },
  {
   "cell_type": "code",
   "execution_count": 189,
   "metadata": {},
   "outputs": [],
   "source": [
    "igE = pd.read_csv(\"../../AllergenAutiAb_IgE_Sep2019/QBBIgE_IU_MR_July182019.csv\")"
   ]
  },
  {
   "cell_type": "code",
   "execution_count": 190,
   "metadata": {},
   "outputs": [
    {
     "data": {
      "text/plain": [
       "(803, 4)"
      ]
     },
     "execution_count": 190,
     "metadata": {},
     "output_type": "execute_result"
    }
   ],
   "source": [
    "igE."
   ]
  },
  {
   "cell_type": "code",
   "execution_count": 185,
   "metadata": {},
   "outputs": [
    {
     "data": {
      "text/plain": [
       "797"
      ]
     },
     "execution_count": 185,
     "metadata": {},
     "output_type": "execute_result"
    }
   ],
   "source": [
    "len(set(tx_qbb.index).intersection(set(qbbmData.index)))"
   ]
  },
  {
   "cell_type": "code",
   "execution_count": 1,
   "metadata": {},
   "outputs": [
    {
     "ename": "NameError",
     "evalue": "name 'qbbmData' is not defined",
     "output_type": "error",
     "traceback": [
      "\u001b[0;31m---------------------------------------------------------------------------\u001b[0m",
      "\u001b[0;31mNameError\u001b[0m                                 Traceback (most recent call last)",
      "\u001b[0;32m<ipython-input-1-867ca78b1171>\u001b[0m in \u001b[0;36m<module>\u001b[0;34m\u001b[0m\n\u001b[0;32m----> 1\u001b[0;31m \u001b[0mqbbmData\u001b[0m\u001b[0;34m.\u001b[0m\u001b[0mloc\u001b[0m\u001b[0;34m[\u001b[0m\u001b[0mtx_qbb_pos1\u001b[0m\u001b[0;34m.\u001b[0m\u001b[0mindex\u001b[0m\u001b[0;34m]\u001b[0m\u001b[0;34m[\u001b[0m\u001b[0;34m[\u001b[0m\u001b[0;34m'BodyFat - BMI'\u001b[0m\u001b[0;34m,\u001b[0m\u001b[0;34m'Gender'\u001b[0m\u001b[0;34m,\u001b[0m\u001b[0;34m'Age'\u001b[0m\u001b[0;34m]\u001b[0m\u001b[0;34m]\u001b[0m\u001b[0;34m\u001b[0m\u001b[0;34m\u001b[0m\u001b[0m\n\u001b[0m",
      "\u001b[0;31mNameError\u001b[0m: name 'qbbmData' is not defined"
     ]
    }
   ],
   "source": [
    "qbbmData.loc[tx_qbb_pos1.index][['BodyFat - BMI','Gender','Age']]"
   ]
  },
  {
   "cell_type": "code",
   "execution_count": null,
   "metadata": {},
   "outputs": [],
   "source": [
    "hlsc = pd.read_cs"
   ]
  }
 ],
 "metadata": {
  "kernelspec": {
   "display_name": "Python 3",
   "language": "python",
   "name": "python3"
  },
  "language_info": {
   "codemirror_mode": {
    "name": "ipython",
    "version": 3
   },
   "file_extension": ".py",
   "mimetype": "text/x-python",
   "name": "python",
   "nbconvert_exporter": "python",
   "pygments_lexer": "ipython3",
   "version": "3.8.3"
  }
 },
 "nbformat": 4,
 "nbformat_minor": 4
}

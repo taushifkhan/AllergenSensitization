{
 "cells": [
  {
   "cell_type": "code",
   "execution_count": 1,
   "metadata": {},
   "outputs": [],
   "source": [
    "import pandas as pd\n",
    "import numpy as np\n",
    "import seaborn as sns\n",
    "import matplotlib.pyplot as plt\n"
   ]
  },
  {
   "cell_type": "code",
   "execution_count": 108,
   "metadata": {},
   "outputs": [],
   "source": [
    "\n",
    "qbb_spp = pd.read_pickle(\"../../QBBData/Data_PhipSeq_BWH/merge_800_10Feb2020/species_score.pkl\",compression='gzip')\n",
    "virCut = pd.read_csv(\"../../QbbBMI_Project/curatedData/VirscanThreshold_3Feb2020.csv\").set_index('Species')\n",
    "qbbmData = pd.read_pickle(\"../../QBBData/MetaData/QBB_GAIBNE_16032020_cluster.pkl\")#.set_index('PROJECT_DUMMY_ID')\n",
    "qbbPval = pd.read_pickle(\"../../QBBData/Data_PhipSeq_BWH/merge_800_10Feb2020/pval_peptide_Agg.pkl\",compression='gzip')"
   ]
  },
  {
   "cell_type": "code",
   "execution_count": 109,
   "metadata": {},
   "outputs": [],
   "source": [
    "qbbBead = qbbPval[qbbPval.columns[qbbPval.columns.str.contains('Bead|bead')]]"
   ]
  },
  {
   "cell_type": "code",
   "execution_count": 116,
   "metadata": {},
   "outputs": [],
   "source": [
    "qbbPval_nb = qbbPval.drop(qbbBead[qbbBead[qbbBead>=2.3].fillna(0).astype(bool).sum(axis=1)>=2].index)"
   ]
  },
  {
   "cell_type": "code",
   "execution_count": 117,
   "metadata": {},
   "outputs": [],
   "source": [
    "virMdata = pd.read_pickle(\"../../virViz3/datasets/vir3_metaSubset.pkl\").set_index(\"id\")"
   ]
  },
  {
   "cell_type": "code",
   "execution_count": 118,
   "metadata": {},
   "outputs": [
    {
     "data": {
      "text/html": [
       "<div>\n",
       "<style scoped>\n",
       "    .dataframe tbody tr th:only-of-type {\n",
       "        vertical-align: middle;\n",
       "    }\n",
       "\n",
       "    .dataframe tbody tr th {\n",
       "        vertical-align: top;\n",
       "    }\n",
       "\n",
       "    .dataframe thead th {\n",
       "        text-align: right;\n",
       "    }\n",
       "</style>\n",
       "<table border=\"1\" class=\"dataframe\">\n",
       "  <thead>\n",
       "    <tr style=\"text-align: right;\">\n",
       "      <th></th>\n",
       "      <th>fx1</th>\n",
       "      <th>fx2</th>\n",
       "      <th>fx22</th>\n",
       "      <th>fx5</th>\n",
       "      <th>gx2</th>\n",
       "      <th>phad</th>\n",
       "      <th>t20</th>\n",
       "      <th>wx1</th>\n",
       "    </tr>\n",
       "    <tr>\n",
       "      <th>QBB_DUMMY_ID</th>\n",
       "      <th></th>\n",
       "      <th></th>\n",
       "      <th></th>\n",
       "      <th></th>\n",
       "      <th></th>\n",
       "      <th></th>\n",
       "      <th></th>\n",
       "      <th></th>\n",
       "    </tr>\n",
       "  </thead>\n",
       "  <tbody>\n",
       "    <tr>\n",
       "      <th>SIR000037000780</th>\n",
       "      <td>0.004688</td>\n",
       "      <td>0.030764</td>\n",
       "      <td>0.158547</td>\n",
       "      <td>0.040405</td>\n",
       "      <td>0.061567</td>\n",
       "      <td>0.182508</td>\n",
       "      <td>0.029467</td>\n",
       "      <td>0.142290</td>\n",
       "    </tr>\n",
       "    <tr>\n",
       "      <th>SIR000037000142</th>\n",
       "      <td>0.000000</td>\n",
       "      <td>0.070241</td>\n",
       "      <td>0.129783</td>\n",
       "      <td>0.089441</td>\n",
       "      <td>0.063238</td>\n",
       "      <td>0.320504</td>\n",
       "      <td>0.016894</td>\n",
       "      <td>0.205851</td>\n",
       "    </tr>\n",
       "    <tr>\n",
       "      <th>SIR000037000275</th>\n",
       "      <td>0.355763</td>\n",
       "      <td>1.596741</td>\n",
       "      <td>0.403655</td>\n",
       "      <td>0.533030</td>\n",
       "      <td>0.283591</td>\n",
       "      <td>1.395833</td>\n",
       "      <td>0.129739</td>\n",
       "      <td>0.503114</td>\n",
       "    </tr>\n",
       "    <tr>\n",
       "      <th>SIR000037000009</th>\n",
       "      <td>0.038830</td>\n",
       "      <td>0.000000</td>\n",
       "      <td>0.147813</td>\n",
       "      <td>0.122652</td>\n",
       "      <td>0.094520</td>\n",
       "      <td>0.209529</td>\n",
       "      <td>0.000000</td>\n",
       "      <td>0.155590</td>\n",
       "    </tr>\n",
       "    <tr>\n",
       "      <th>SIR000037000702</th>\n",
       "      <td>0.068248</td>\n",
       "      <td>0.000000</td>\n",
       "      <td>0.166260</td>\n",
       "      <td>0.134755</td>\n",
       "      <td>0.073208</td>\n",
       "      <td>1.589408</td>\n",
       "      <td>0.391426</td>\n",
       "      <td>0.457234</td>\n",
       "    </tr>\n",
       "    <tr>\n",
       "      <th>...</th>\n",
       "      <td>...</td>\n",
       "      <td>...</td>\n",
       "      <td>...</td>\n",
       "      <td>...</td>\n",
       "      <td>...</td>\n",
       "      <td>...</td>\n",
       "      <td>...</td>\n",
       "      <td>...</td>\n",
       "    </tr>\n",
       "    <tr>\n",
       "      <th>SIR000037000061</th>\n",
       "      <td>0.047589</td>\n",
       "      <td>4.065160</td>\n",
       "      <td>0.269296</td>\n",
       "      <td>0.441743</td>\n",
       "      <td>0.240977</td>\n",
       "      <td>3.636251</td>\n",
       "      <td>0.259336</td>\n",
       "      <td>0.986090</td>\n",
       "    </tr>\n",
       "    <tr>\n",
       "      <th>SIR000037000281</th>\n",
       "      <td>0.010382</td>\n",
       "      <td>0.044473</td>\n",
       "      <td>0.191027</td>\n",
       "      <td>0.174846</td>\n",
       "      <td>0.213236</td>\n",
       "      <td>0.278512</td>\n",
       "      <td>0.010518</td>\n",
       "      <td>0.231748</td>\n",
       "    </tr>\n",
       "    <tr>\n",
       "      <th>SIR000037000282</th>\n",
       "      <td>0.010833</td>\n",
       "      <td>0.000000</td>\n",
       "      <td>0.173047</td>\n",
       "      <td>0.041801</td>\n",
       "      <td>0.081115</td>\n",
       "      <td>0.213718</td>\n",
       "      <td>0.003010</td>\n",
       "      <td>0.157595</td>\n",
       "    </tr>\n",
       "    <tr>\n",
       "      <th>SIR000037000063</th>\n",
       "      <td>0.000000</td>\n",
       "      <td>0.033281</td>\n",
       "      <td>0.139403</td>\n",
       "      <td>0.044340</td>\n",
       "      <td>0.043850</td>\n",
       "      <td>0.482163</td>\n",
       "      <td>0.002872</td>\n",
       "      <td>0.148941</td>\n",
       "    </tr>\n",
       "    <tr>\n",
       "      <th>SIR000037000062</th>\n",
       "      <td>0.248584</td>\n",
       "      <td>0.000000</td>\n",
       "      <td>0.183180</td>\n",
       "      <td>0.365462</td>\n",
       "      <td>0.057455</td>\n",
       "      <td>0.295186</td>\n",
       "      <td>0.032254</td>\n",
       "      <td>0.178136</td>\n",
       "    </tr>\n",
       "  </tbody>\n",
       "</table>\n",
       "<p>797 rows × 8 columns</p>\n",
       "</div>"
      ],
      "text/plain": [
       "                      fx1       fx2      fx22       fx5       gx2      phad  \\\n",
       "QBB_DUMMY_ID                                                                  \n",
       "SIR000037000780  0.004688  0.030764  0.158547  0.040405  0.061567  0.182508   \n",
       "SIR000037000142  0.000000  0.070241  0.129783  0.089441  0.063238  0.320504   \n",
       "SIR000037000275  0.355763  1.596741  0.403655  0.533030  0.283591  1.395833   \n",
       "SIR000037000009  0.038830  0.000000  0.147813  0.122652  0.094520  0.209529   \n",
       "SIR000037000702  0.068248  0.000000  0.166260  0.134755  0.073208  1.589408   \n",
       "...                   ...       ...       ...       ...       ...       ...   \n",
       "SIR000037000061  0.047589  4.065160  0.269296  0.441743  0.240977  3.636251   \n",
       "SIR000037000281  0.010382  0.044473  0.191027  0.174846  0.213236  0.278512   \n",
       "SIR000037000282  0.010833  0.000000  0.173047  0.041801  0.081115  0.213718   \n",
       "SIR000037000063  0.000000  0.033281  0.139403  0.044340  0.043850  0.482163   \n",
       "SIR000037000062  0.248584  0.000000  0.183180  0.365462  0.057455  0.295186   \n",
       "\n",
       "                      t20       wx1  \n",
       "QBB_DUMMY_ID                         \n",
       "SIR000037000780  0.029467  0.142290  \n",
       "SIR000037000142  0.016894  0.205851  \n",
       "SIR000037000275  0.129739  0.503114  \n",
       "SIR000037000009  0.000000  0.155590  \n",
       "SIR000037000702  0.391426  0.457234  \n",
       "...                   ...       ...  \n",
       "SIR000037000061  0.259336  0.986090  \n",
       "SIR000037000281  0.010518  0.231748  \n",
       "SIR000037000282  0.003010  0.157595  \n",
       "SIR000037000063  0.002872  0.148941  \n",
       "SIR000037000062  0.032254  0.178136  \n",
       "\n",
       "[797 rows x 8 columns]"
      ]
     },
     "execution_count": 118,
     "metadata": {},
     "output_type": "execute_result"
    }
   ],
   "source": [
    "alerData= pd.read_pickle(\"../curtaedAllergenData/AllergenType_QBB.pkl\")\n",
    "alerData"
   ]
  },
  {
   "cell_type": "code",
   "execution_count": null,
   "metadata": {},
   "outputs": [],
   "source": []
  },
  {
   "cell_type": "code",
   "execution_count": 119,
   "metadata": {},
   "outputs": [
    {
     "name": "stdout",
     "output_type": "stream",
     "text": [
      "795\n"
     ]
    }
   ],
   "source": [
    "qbbIds = set(qbbmData.index).intersection(set(qbbPval.columns)).intersection(alerData.index)\n",
    "print (len(qbbIds))\n",
    "qbbPval = qbbPval_nb[qbbIds]\n",
    "qbb_spp = qbb_spp[qbbIds]\n",
    "alerData = alerData.loc[qbbIds]\n"
   ]
  },
  {
   "cell_type": "code",
   "execution_count": 96,
   "metadata": {},
   "outputs": [
    {
     "data": {
      "text/plain": [
       "fx1      35\n",
       "fx2     158\n",
       "fx22     65\n",
       "fx5     100\n",
       "gx2     102\n",
       "phad    399\n",
       "t20      77\n",
       "wx1     211\n",
       "dtype: int64"
      ]
     },
     "execution_count": 96,
     "metadata": {},
     "output_type": "execute_result"
    }
   ],
   "source": [
    "# threshold for clinically allergy ornot\n",
    "clinicalThreshold= 0.3\n",
    "alerData_norm = alerData/clinicalThreshold\n",
    "alerData_norm[alerData_norm>=1].fillna(0).astype(bool).sum(axis=0)"
   ]
  },
  {
   "cell_type": "code",
   "execution_count": 142,
   "metadata": {},
   "outputs": [
    {
     "data": {
      "text/plain": [
       "<AxesSubplot:>"
      ]
     },
     "execution_count": 142,
     "metadata": {},
     "output_type": "execute_result"
    },
    {
     "data": {
      "image/png": "[encoded data removed]",
      "text/plain": [
       "<Figure size 432x288 with 1 Axes>"
      ]
     },
     "metadata": {
      "needs_background": "light"
     },
     "output_type": "display_data"
    }
   ],
   "source": [
    "alerData_norm.plot(kind='box')"
   ]
  },
  {
   "cell_type": "code",
   "execution_count": 143,
   "metadata": {},
   "outputs": [
    {
     "data": {
      "text/plain": [
       "<AxesSubplot:>"
      ]
     },
     "execution_count": 143,
     "metadata": {},
     "output_type": "execute_result"
    },
    {
     "data": {
      "image/png": "[encoded data removed]",
      "text/plain": [
       "<Figure size 432x288 with 1 Axes>"
      ]
     },
     "metadata": {
      "needs_background": "light"
     },
     "output_type": "display_data"
    }
   ],
   "source": [
    "alerData_norm[alerData_norm>1] = 1+np.log10(alerData_norm[alerData_norm>1])\n",
    "alerData_norm.plot(kind='box')"
   ]
  },
  {
   "cell_type": "code",
   "execution_count": 150,
   "metadata": {},
   "outputs": [
    {
     "data": {
      "text/plain": [
       "<AxesSubplot:xlabel='AllergenTest', ylabel='normScore'>"
      ]
     },
     "execution_count": 150,
     "metadata": {},
     "output_type": "execute_result"
    },
    {
     "data": {
      "image/png": "[encoded data removed]",
      "text/plain": [
       "<Figure size 432x288 with 1 Axes>"
      ]
     },
     "metadata": {
      "needs_background": "light"
     },
     "output_type": "display_data"
    }
   ],
   "source": [
    "alerData_norm_x=alerData_norm.unstack().reset_index().rename({'level_0':'AllergenTest',0:'normScore'},axis=1)\n",
    "sns.boxplot(x='AllergenTest',y='normScore',data= alerData_norm_x,color='white')\n",
    "sns.stripplot(x='AllergenTest',y='normScore',data= alerData_norm_x,color='k')"
   ]
  },
  {
   "cell_type": "code",
   "execution_count": 19,
   "metadata": {},
   "outputs": [
    {
     "data": {
      "text/plain": [
       "(115753, 795)"
      ]
     },
     "execution_count": 19,
     "metadata": {},
     "output_type": "execute_result"
    }
   ],
   "source": [
    "qbbPval.shape"
   ]
  },
  {
   "cell_type": "code",
   "execution_count": 10,
   "metadata": {},
   "outputs": [
    {
     "data": {
      "text/html": [
       "<div>\n",
       "<style scoped>\n",
       "    .dataframe tbody tr th:only-of-type {\n",
       "        vertical-align: middle;\n",
       "    }\n",
       "\n",
       "    .dataframe tbody tr th {\n",
       "        vertical-align: top;\n",
       "    }\n",
       "\n",
       "    .dataframe thead th {\n",
       "        text-align: right;\n",
       "    }\n",
       "</style>\n",
       "<table border=\"1\" class=\"dataframe\">\n",
       "  <thead>\n",
       "    <tr style=\"text-align: right;\">\n",
       "      <th></th>\n",
       "      <th>Aclstr50</th>\n",
       "      <th>Bclstr50</th>\n",
       "      <th>Entry</th>\n",
       "      <th>goId</th>\n",
       "      <th>Organism</th>\n",
       "      <th>Protein.names</th>\n",
       "      <th>Sequence</th>\n",
       "      <th>Species</th>\n",
       "      <th>Subcellular.location</th>\n",
       "      <th>end</th>\n",
       "      <th>oligo</th>\n",
       "      <th>source</th>\n",
       "      <th>start</th>\n",
       "      <th>peptide</th>\n",
       "    </tr>\n",
       "    <tr>\n",
       "      <th>id</th>\n",
       "      <th></th>\n",
       "      <th></th>\n",
       "      <th></th>\n",
       "      <th></th>\n",
       "      <th></th>\n",
       "      <th></th>\n",
       "      <th></th>\n",
       "      <th></th>\n",
       "      <th></th>\n",
       "      <th></th>\n",
       "      <th></th>\n",
       "      <th></th>\n",
       "      <th></th>\n",
       "      <th></th>\n",
       "    </tr>\n",
       "  </thead>\n",
       "  <tbody>\n",
       "    <tr>\n",
       "      <th>125802</th>\n",
       "      <td>NaN</td>\n",
       "      <td>NaN</td>\n",
       "      <td>Q9T0P1</td>\n",
       "      <td>GO:0006952</td>\n",
       "      <td>Triticum aestivum (Wheat)</td>\n",
       "      <td>Alpha purothionin (Uncharacterized protein)</td>\n",
       "      <td>MGSKGFKGVIVCLLILGLVLEQLQVEGKSCCRSTLGRNCYNLCRAR...</td>\n",
       "      <td>Triticum aestivum (Wheat)</td>\n",
       "      <td>NaN</td>\n",
       "      <td>56</td>\n",
       "      <td>GGAATTCCGCTGCGTATGGGTTCAAAGGGGTTTAAGGGTGTCATTG...</td>\n",
       "      <td>IEDB</td>\n",
       "      <td>1</td>\n",
       "      <td>MGSKGFKGVIVCLLILGLVLEQLQVEGKSCCRSTLGRNCYNLCRAR...</td>\n",
       "    </tr>\n",
       "    <tr>\n",
       "      <th>125803</th>\n",
       "      <td>NaN</td>\n",
       "      <td>NaN</td>\n",
       "      <td>Q9T0P1</td>\n",
       "      <td>GO:0006952</td>\n",
       "      <td>Triticum aestivum (Wheat)</td>\n",
       "      <td>Alpha purothionin (Uncharacterized protein)</td>\n",
       "      <td>SCCRSTLGRNCYNLCRARGAQKLCAGVCRCKISSGLSCPKGFPKLA...</td>\n",
       "      <td>Triticum aestivum (Wheat)</td>\n",
       "      <td>NaN</td>\n",
       "      <td>84</td>\n",
       "      <td>GGAATTCCGCTGCGTTCATGTTGCCGTTCAACACTTGGGCGTAACT...</td>\n",
       "      <td>IEDB</td>\n",
       "      <td>29</td>\n",
       "      <td>SCCRSTLGRNCYNLCRARGAQKLCAGVCRCKISSGLSCPKGFPKLA...</td>\n",
       "    </tr>\n",
       "    <tr>\n",
       "      <th>125804</th>\n",
       "      <td>NaN</td>\n",
       "      <td>NaN</td>\n",
       "      <td>Q9T0P1</td>\n",
       "      <td>GO:0006952</td>\n",
       "      <td>Triticum aestivum (Wheat)</td>\n",
       "      <td>Alpha purothionin (Uncharacterized protein)</td>\n",
       "      <td>RCKISSGLSCPKGFPKLALESNSDEPDTIEYCNLGCRSSVCDYMVN...</td>\n",
       "      <td>Triticum aestivum (Wheat)</td>\n",
       "      <td>NaN</td>\n",
       "      <td>112</td>\n",
       "      <td>GGAATTCCGCTGCGTCGTTGCAAAATCTCTAGTGGGCTCAGTTGTC...</td>\n",
       "      <td>IEDB</td>\n",
       "      <td>57</td>\n",
       "      <td>RCKISSGLSCPKGFPKLALESNSDEPDTIEYCNLGCRSSVCDYMVN...</td>\n",
       "    </tr>\n",
       "    <tr>\n",
       "      <th>125805</th>\n",
       "      <td>NaN</td>\n",
       "      <td>NaN</td>\n",
       "      <td>Q9T0P1</td>\n",
       "      <td>GO:0006952</td>\n",
       "      <td>Triticum aestivum (Wheat)</td>\n",
       "      <td>Alpha purothionin (Uncharacterized protein)</td>\n",
       "      <td>IEYCNLGCRSSVCDYMVNAAADDEEMKLYVENCADACVSFCNGDAG...</td>\n",
       "      <td>Triticum aestivum (Wheat)</td>\n",
       "      <td>NaN</td>\n",
       "      <td>137</td>\n",
       "      <td>GGAATTCCGCTGCGTATTGAATATTGTAACCTGGGTTGCCGTTCGT...</td>\n",
       "      <td>IEDB</td>\n",
       "      <td>85</td>\n",
       "      <td>IEYCNLGCRSSVCDYMVNAAADDEEMKLYVENCADACVSFCNGDAG...</td>\n",
       "    </tr>\n",
       "  </tbody>\n",
       "</table>\n",
       "</div>"
      ],
      "text/plain": [
       "        Aclstr50  Bclstr50   Entry        goId                   Organism  \\\n",
       "id                                                                          \n",
       "125802       NaN       NaN  Q9T0P1  GO:0006952  Triticum aestivum (Wheat)   \n",
       "125803       NaN       NaN  Q9T0P1  GO:0006952  Triticum aestivum (Wheat)   \n",
       "125804       NaN       NaN  Q9T0P1  GO:0006952  Triticum aestivum (Wheat)   \n",
       "125805       NaN       NaN  Q9T0P1  GO:0006952  Triticum aestivum (Wheat)   \n",
       "\n",
       "                                      Protein.names  \\\n",
       "id                                                    \n",
       "125802  Alpha purothionin (Uncharacterized protein)   \n",
       "125803  Alpha purothionin (Uncharacterized protein)   \n",
       "125804  Alpha purothionin (Uncharacterized protein)   \n",
       "125805  Alpha purothionin (Uncharacterized protein)   \n",
       "\n",
       "                                                 Sequence  \\\n",
       "id                                                          \n",
       "125802  MGSKGFKGVIVCLLILGLVLEQLQVEGKSCCRSTLGRNCYNLCRAR...   \n",
       "125803  SCCRSTLGRNCYNLCRARGAQKLCAGVCRCKISSGLSCPKGFPKLA...   \n",
       "125804  RCKISSGLSCPKGFPKLALESNSDEPDTIEYCNLGCRSSVCDYMVN...   \n",
       "125805  IEYCNLGCRSSVCDYMVNAAADDEEMKLYVENCADACVSFCNGDAG...   \n",
       "\n",
       "                          Species Subcellular.location  end  \\\n",
       "id                                                            \n",
       "125802  Triticum aestivum (Wheat)                  NaN   56   \n",
       "125803  Triticum aestivum (Wheat)                  NaN   84   \n",
       "125804  Triticum aestivum (Wheat)                  NaN  112   \n",
       "125805  Triticum aestivum (Wheat)                  NaN  137   \n",
       "\n",
       "                                                    oligo source  start  \\\n",
       "id                                                                        \n",
       "125802  GGAATTCCGCTGCGTATGGGTTCAAAGGGGTTTAAGGGTGTCATTG...   IEDB      1   \n",
       "125803  GGAATTCCGCTGCGTTCATGTTGCCGTTCAACACTTGGGCGTAACT...   IEDB     29   \n",
       "125804  GGAATTCCGCTGCGTCGTTGCAAAATCTCTAGTGGGCTCAGTTGTC...   IEDB     57   \n",
       "125805  GGAATTCCGCTGCGTATTGAATATTGTAACCTGGGTTGCCGTTCGT...   IEDB     85   \n",
       "\n",
       "                                                  peptide  \n",
       "id                                                         \n",
       "125802  MGSKGFKGVIVCLLILGLVLEQLQVEGKSCCRSTLGRNCYNLCRAR...  \n",
       "125803  SCCRSTLGRNCYNLCRARGAQKLCAGVCRCKISSGLSCPKGFPKLA...  \n",
       "125804  RCKISSGLSCPKGFPKLALESNSDEPDTIEYCNLGCRSSVCDYMVN...  \n",
       "125805  IEYCNLGCRSSVCDYMVNAAADDEEMKLYVENCADACVSFCNGDAG...  "
      ]
     },
     "execution_count": 10,
     "metadata": {},
     "output_type": "execute_result"
    }
   ],
   "source": [
    "virMdata[virMdata['Protein.names'].str.contains(\"purothion\")]"
   ]
  },
  {
   "cell_type": "code",
   "execution_count": 139,
   "metadata": {},
   "outputs": [
    {
     "data": {
      "text/plain": [
       "<seaborn.matrix.ClusterGrid at 0x11df53b20>"
      ]
     },
     "execution_count": 139,
     "metadata": {},
     "output_type": "execute_result"
    },
    {
     "data": {
      "image/png": "[encoded data removed]",
      "text/plain": [
       "<Figure size 1008x288 with 4 Axes>"
      ]
     },
     "metadata": {
      "needs_background": "light"
     },
     "output_type": "display_data"
    }
   ],
   "source": [
    "sns.clustermap(qbbPval.loc[virMdata[virMdata['Protein.names'].str.contains(\"purothion\")].index],vmin=0,vmax=5,figsize=(14,4),row_cluster=False)"
   ]
  },
  {
   "cell_type": "code",
   "execution_count": 122,
   "metadata": {},
   "outputs": [
    {
     "data": {
      "text/plain": [
       "(114526, 795)"
      ]
     },
     "execution_count": 122,
     "metadata": {},
     "output_type": "execute_result"
    }
   ],
   "source": [
    "qbbPval.shape"
   ]
  },
  {
   "cell_type": "code",
   "execution_count": 120,
   "metadata": {},
   "outputs": [],
   "source": [
    "purothionRes = qbbPval.loc[virMdata[virMdata['Protein.names'].str.contains(\"purothion\")].index]"
   ]
  },
  {
   "cell_type": "code",
   "execution_count": 121,
   "metadata": {},
   "outputs": [
    {
     "data": {
      "text/plain": [
       "id\n",
       "125802      0\n",
       "125803    134\n",
       "125804      3\n",
       "125805      3\n",
       "dtype: int64"
      ]
     },
     "execution_count": 121,
     "metadata": {},
     "output_type": "execute_result"
    }
   ],
   "source": [
    "purothionRes_norm = purothionRes/2.3\n",
    "purothionRes_norm[purothionRes_norm>=1].fillna(0).astype(bool).sum(axis=1)"
   ]
  },
  {
   "cell_type": "code",
   "execution_count": 123,
   "metadata": {},
   "outputs": [
    {
     "data": {
      "text/plain": [
       "Protein.names\n",
       "Alpha purothionin (Uncharacterized protein)                                                                                                                                                                                4\n",
       "Alpha/beta gliadin (Fragment)                                                                                                                                                                                             10\n",
       "Gamma-gliadin                                                                                                                                                                                                             11\n",
       "Gliadin/avenin-like seed protein (Uncharacterized protein)                                                                                                                                                                 7\n",
       "Glutenin, high molecular weight subunit DX5                                                                                                                                                                               30\n",
       "LMW-glutenin P3-6 (LMW-m glutenin subunit 0099E23-M) (Low molecular weight glutenin subunit) (Low-molecular-weight glutenin subunit) (Low-molecular-weight glutenin subunit group 8 type IV) (Uncharacterized protein)    10\n",
       "Non-specific lipid-transfer protein                                                                                                                                                                                        4\n",
       "Putative alpha-amylase inhibitor 0.28 (Fragment)                                                                                                                                                                           4\n",
       "Serpin-N3.2 (Uncharacterized protein)                                                                                                                                                                                     14\n",
       "dtype: int64"
      ]
     },
     "execution_count": 123,
     "metadata": {},
     "output_type": "execute_result"
    }
   ],
   "source": [
    "virMdata[virMdata['Species'] == \"Triticum aestivum (Wheat)\"].groupby(['Protein.names']).size()"
   ]
  },
  {
   "cell_type": "code",
   "execution_count": 125,
   "metadata": {},
   "outputs": [
    {
     "data": {
      "text/plain": [
       "(126982, 14)"
      ]
     },
     "execution_count": 125,
     "metadata": {},
     "output_type": "execute_result"
    }
   ],
   "source": [
    "virMdata.loc[qbbPval_nb.index]"
   ]
  },
  {
   "cell_type": "code",
   "execution_count": 124,
   "metadata": {},
   "outputs": [
    {
     "ename": "KeyError",
     "evalue": "\"Passing list-likes to .loc or [] with any missing labels is no longer supported. The following labels were missing: Int64Index([125853, 125854, 125855], dtype='int64', name='id'). See https://pandas.pydata.org/pandas-docs/stable/user_guide/indexing.html#deprecate-loc-reindex-listlike\"",
     "output_type": "error",
     "traceback": [
      "\u001b[0;31m---------------------------------------------------------------------------\u001b[0m",
      "\u001b[0;31mKeyError\u001b[0m                                  Traceback (most recent call last)",
      "\u001b[0;32m<ipython-input-124-0032ec7ff06b>\u001b[0m in \u001b[0;36m<module>\u001b[0;34m\u001b[0m\n\u001b[0;32m----> 1\u001b[0;31m \u001b[0mwheatRes\u001b[0m \u001b[0;34m=\u001b[0m \u001b[0mqbbPval\u001b[0m\u001b[0;34m.\u001b[0m\u001b[0mloc\u001b[0m\u001b[0;34m[\u001b[0m\u001b[0mvirMdata\u001b[0m\u001b[0;34m[\u001b[0m\u001b[0mvirMdata\u001b[0m\u001b[0;34m[\u001b[0m\u001b[0;34m'Species'\u001b[0m\u001b[0;34m]\u001b[0m \u001b[0;34m==\u001b[0m \u001b[0;34m\"Triticum aestivum (Wheat)\"\u001b[0m\u001b[0;34m]\u001b[0m\u001b[0;34m.\u001b[0m\u001b[0mindex\u001b[0m\u001b[0;34m]\u001b[0m\u001b[0;34m\u001b[0m\u001b[0;34m\u001b[0m\u001b[0m\n\u001b[0m\u001b[1;32m      2\u001b[0m \u001b[0mwheatRes_norm\u001b[0m \u001b[0;34m=\u001b[0m \u001b[0mwheatRes\u001b[0m\u001b[0;34m/\u001b[0m\u001b[0;36m2.3\u001b[0m\u001b[0;34m\u001b[0m\u001b[0;34m\u001b[0m\u001b[0m\n\u001b[1;32m      3\u001b[0m \u001b[0mwheatRes_norm_at3\u001b[0m \u001b[0;34m=\u001b[0m \u001b[0mwheatRes_norm\u001b[0m\u001b[0;34m.\u001b[0m\u001b[0mloc\u001b[0m\u001b[0;34m[\u001b[0m\u001b[0mwheatRes_norm\u001b[0m\u001b[0;34m[\u001b[0m\u001b[0mwheatRes_norm\u001b[0m\u001b[0;34m>=\u001b[0m\u001b[0;36m1\u001b[0m\u001b[0;34m]\u001b[0m\u001b[0;34m.\u001b[0m\u001b[0mfillna\u001b[0m\u001b[0;34m(\u001b[0m\u001b[0;36m0\u001b[0m\u001b[0;34m)\u001b[0m\u001b[0;34m.\u001b[0m\u001b[0mastype\u001b[0m\u001b[0;34m(\u001b[0m\u001b[0mbool\u001b[0m\u001b[0;34m)\u001b[0m\u001b[0;34m.\u001b[0m\u001b[0msum\u001b[0m\u001b[0;34m(\u001b[0m\u001b[0maxis\u001b[0m\u001b[0;34m=\u001b[0m\u001b[0;36m1\u001b[0m\u001b[0;34m)\u001b[0m\u001b[0;34m>=\u001b[0m\u001b[0;36m3\u001b[0m\u001b[0;34m]\u001b[0m\u001b[0;34m\u001b[0m\u001b[0;34m\u001b[0m\u001b[0m\n",
      "\u001b[0;32m~/opt/anaconda3/lib/python3.8/site-packages/pandas/core/indexing.py\u001b[0m in \u001b[0;36m__getitem__\u001b[0;34m(self, key)\u001b[0m\n\u001b[1;32m    877\u001b[0m \u001b[0;34m\u001b[0m\u001b[0m\n\u001b[1;32m    878\u001b[0m             \u001b[0mmaybe_callable\u001b[0m \u001b[0;34m=\u001b[0m \u001b[0mcom\u001b[0m\u001b[0;34m.\u001b[0m\u001b[0mapply_if_callable\u001b[0m\u001b[0;34m(\u001b[0m\u001b[0mkey\u001b[0m\u001b[0;34m,\u001b[0m \u001b[0mself\u001b[0m\u001b[0;34m.\u001b[0m\u001b[0mobj\u001b[0m\u001b[0;34m)\u001b[0m\u001b[0;34m\u001b[0m\u001b[0;34m\u001b[0m\u001b[0m\n\u001b[0;32m--> 879\u001b[0;31m             \u001b[0;32mreturn\u001b[0m \u001b[0mself\u001b[0m\u001b[0;34m.\u001b[0m\u001b[0m_getitem_axis\u001b[0m\u001b[0;34m(\u001b[0m\u001b[0mmaybe_callable\u001b[0m\u001b[0;34m,\u001b[0m \u001b[0maxis\u001b[0m\u001b[0;34m=\u001b[0m\u001b[0maxis\u001b[0m\u001b[0;34m)\u001b[0m\u001b[0;34m\u001b[0m\u001b[0;34m\u001b[0m\u001b[0m\n\u001b[0m\u001b[1;32m    880\u001b[0m \u001b[0;34m\u001b[0m\u001b[0m\n\u001b[1;32m    881\u001b[0m     \u001b[0;32mdef\u001b[0m \u001b[0m_is_scalar_access\u001b[0m\u001b[0;34m(\u001b[0m\u001b[0mself\u001b[0m\u001b[0;34m,\u001b[0m \u001b[0mkey\u001b[0m\u001b[0;34m:\u001b[0m \u001b[0mTuple\u001b[0m\u001b[0;34m)\u001b[0m\u001b[0;34m:\u001b[0m\u001b[0;34m\u001b[0m\u001b[0;34m\u001b[0m\u001b[0m\n",
      "\u001b[0;32m~/opt/anaconda3/lib/python3.8/site-packages/pandas/core/indexing.py\u001b[0m in \u001b[0;36m_getitem_axis\u001b[0;34m(self, key, axis)\u001b[0m\n\u001b[1;32m   1097\u001b[0m                     \u001b[0;32mraise\u001b[0m \u001b[0mValueError\u001b[0m\u001b[0;34m(\u001b[0m\u001b[0;34m\"Cannot index with multidimensional key\"\u001b[0m\u001b[0;34m)\u001b[0m\u001b[0;34m\u001b[0m\u001b[0;34m\u001b[0m\u001b[0m\n\u001b[1;32m   1098\u001b[0m \u001b[0;34m\u001b[0m\u001b[0m\n\u001b[0;32m-> 1099\u001b[0;31m                 \u001b[0;32mreturn\u001b[0m \u001b[0mself\u001b[0m\u001b[0;34m.\u001b[0m\u001b[0m_getitem_iterable\u001b[0m\u001b[0;34m(\u001b[0m\u001b[0mkey\u001b[0m\u001b[0;34m,\u001b[0m \u001b[0maxis\u001b[0m\u001b[0;34m=\u001b[0m\u001b[0maxis\u001b[0m\u001b[0;34m)\u001b[0m\u001b[0;34m\u001b[0m\u001b[0;34m\u001b[0m\u001b[0m\n\u001b[0m\u001b[1;32m   1100\u001b[0m \u001b[0;34m\u001b[0m\u001b[0m\n\u001b[1;32m   1101\u001b[0m             \u001b[0;31m# nested tuple slicing\u001b[0m\u001b[0;34m\u001b[0m\u001b[0;34m\u001b[0m\u001b[0;34m\u001b[0m\u001b[0m\n",
      "\u001b[0;32m~/opt/anaconda3/lib/python3.8/site-packages/pandas/core/indexing.py\u001b[0m in \u001b[0;36m_getitem_iterable\u001b[0;34m(self, key, axis)\u001b[0m\n\u001b[1;32m   1035\u001b[0m \u001b[0;34m\u001b[0m\u001b[0m\n\u001b[1;32m   1036\u001b[0m         \u001b[0;31m# A collection of keys\u001b[0m\u001b[0;34m\u001b[0m\u001b[0;34m\u001b[0m\u001b[0;34m\u001b[0m\u001b[0m\n\u001b[0;32m-> 1037\u001b[0;31m         \u001b[0mkeyarr\u001b[0m\u001b[0;34m,\u001b[0m \u001b[0mindexer\u001b[0m \u001b[0;34m=\u001b[0m \u001b[0mself\u001b[0m\u001b[0;34m.\u001b[0m\u001b[0m_get_listlike_indexer\u001b[0m\u001b[0;34m(\u001b[0m\u001b[0mkey\u001b[0m\u001b[0;34m,\u001b[0m \u001b[0maxis\u001b[0m\u001b[0;34m,\u001b[0m \u001b[0mraise_missing\u001b[0m\u001b[0;34m=\u001b[0m\u001b[0;32mFalse\u001b[0m\u001b[0;34m)\u001b[0m\u001b[0;34m\u001b[0m\u001b[0;34m\u001b[0m\u001b[0m\n\u001b[0m\u001b[1;32m   1038\u001b[0m         return self.obj._reindex_with_indexers(\n\u001b[1;32m   1039\u001b[0m             \u001b[0;34m{\u001b[0m\u001b[0maxis\u001b[0m\u001b[0;34m:\u001b[0m \u001b[0;34m[\u001b[0m\u001b[0mkeyarr\u001b[0m\u001b[0;34m,\u001b[0m \u001b[0mindexer\u001b[0m\u001b[0;34m]\u001b[0m\u001b[0;34m}\u001b[0m\u001b[0;34m,\u001b[0m \u001b[0mcopy\u001b[0m\u001b[0;34m=\u001b[0m\u001b[0;32mTrue\u001b[0m\u001b[0;34m,\u001b[0m \u001b[0mallow_dups\u001b[0m\u001b[0;34m=\u001b[0m\u001b[0;32mTrue\u001b[0m\u001b[0;34m\u001b[0m\u001b[0;34m\u001b[0m\u001b[0m\n",
      "\u001b[0;32m~/opt/anaconda3/lib/python3.8/site-packages/pandas/core/indexing.py\u001b[0m in \u001b[0;36m_get_listlike_indexer\u001b[0;34m(self, key, axis, raise_missing)\u001b[0m\n\u001b[1;32m   1252\u001b[0m             \u001b[0mkeyarr\u001b[0m\u001b[0;34m,\u001b[0m \u001b[0mindexer\u001b[0m\u001b[0;34m,\u001b[0m \u001b[0mnew_indexer\u001b[0m \u001b[0;34m=\u001b[0m \u001b[0max\u001b[0m\u001b[0;34m.\u001b[0m\u001b[0m_reindex_non_unique\u001b[0m\u001b[0;34m(\u001b[0m\u001b[0mkeyarr\u001b[0m\u001b[0;34m)\u001b[0m\u001b[0;34m\u001b[0m\u001b[0;34m\u001b[0m\u001b[0m\n\u001b[1;32m   1253\u001b[0m \u001b[0;34m\u001b[0m\u001b[0m\n\u001b[0;32m-> 1254\u001b[0;31m         \u001b[0mself\u001b[0m\u001b[0;34m.\u001b[0m\u001b[0m_validate_read_indexer\u001b[0m\u001b[0;34m(\u001b[0m\u001b[0mkeyarr\u001b[0m\u001b[0;34m,\u001b[0m \u001b[0mindexer\u001b[0m\u001b[0;34m,\u001b[0m \u001b[0maxis\u001b[0m\u001b[0;34m,\u001b[0m \u001b[0mraise_missing\u001b[0m\u001b[0;34m=\u001b[0m\u001b[0mraise_missing\u001b[0m\u001b[0;34m)\u001b[0m\u001b[0;34m\u001b[0m\u001b[0;34m\u001b[0m\u001b[0m\n\u001b[0m\u001b[1;32m   1255\u001b[0m         \u001b[0;32mreturn\u001b[0m \u001b[0mkeyarr\u001b[0m\u001b[0;34m,\u001b[0m \u001b[0mindexer\u001b[0m\u001b[0;34m\u001b[0m\u001b[0;34m\u001b[0m\u001b[0m\n\u001b[1;32m   1256\u001b[0m \u001b[0;34m\u001b[0m\u001b[0m\n",
      "\u001b[0;32m~/opt/anaconda3/lib/python3.8/site-packages/pandas/core/indexing.py\u001b[0m in \u001b[0;36m_validate_read_indexer\u001b[0;34m(self, key, indexer, axis, raise_missing)\u001b[0m\n\u001b[1;32m   1313\u001b[0m \u001b[0;34m\u001b[0m\u001b[0m\n\u001b[1;32m   1314\u001b[0m                 \u001b[0;32mwith\u001b[0m \u001b[0moption_context\u001b[0m\u001b[0;34m(\u001b[0m\u001b[0;34m\"display.max_seq_items\"\u001b[0m\u001b[0;34m,\u001b[0m \u001b[0;36m10\u001b[0m\u001b[0;34m,\u001b[0m \u001b[0;34m\"display.width\"\u001b[0m\u001b[0;34m,\u001b[0m \u001b[0;36m80\u001b[0m\u001b[0;34m)\u001b[0m\u001b[0;34m:\u001b[0m\u001b[0;34m\u001b[0m\u001b[0;34m\u001b[0m\u001b[0m\n\u001b[0;32m-> 1315\u001b[0;31m                     raise KeyError(\n\u001b[0m\u001b[1;32m   1316\u001b[0m                         \u001b[0;34m\"Passing list-likes to .loc or [] with any missing labels \"\u001b[0m\u001b[0;34m\u001b[0m\u001b[0;34m\u001b[0m\u001b[0m\n\u001b[1;32m   1317\u001b[0m                         \u001b[0;34m\"is no longer supported. \"\u001b[0m\u001b[0;34m\u001b[0m\u001b[0;34m\u001b[0m\u001b[0m\n",
      "\u001b[0;31mKeyError\u001b[0m: \"Passing list-likes to .loc or [] with any missing labels is no longer supported. The following labels were missing: Int64Index([125853, 125854, 125855], dtype='int64', name='id'). See https://pandas.pydata.org/pandas-docs/stable/user_guide/indexing.html#deprecate-loc-reindex-listlike\""
     ]
    }
   ],
   "source": [
    "wheatRes = qbbPval.loc[virMdata[virMdata['Species'] == \"Triticum aestivum (Wheat)\"].index]\n",
    "wheatRes_norm = wheatRes/2.3\n",
    "wheatRes_norm_at3 = wheatRes_norm.loc[wheatRes_norm[wheatRes_norm>=1].fillna(0).astype(bool).sum(axis=1)>=3]"
   ]
  },
  {
   "cell_type": "code",
   "execution_count": 56,
   "metadata": {},
   "outputs": [
    {
     "data": {
      "text/plain": [
       "<AxesSubplot:ylabel='Frequency'>"
      ]
     },
     "execution_count": 56,
     "metadata": {},
     "output_type": "execute_result"
    },
    {
     "data": {
      "image/png": "[encoded data removed]",
      "text/plain": [
       "<Figure size 432x288 with 1 Axes>"
      ]
     },
     "metadata": {
      "needs_background": "light"
     },
     "output_type": "display_data"
    }
   ],
   "source": [
    "wheatRes_norm_at3[wheatRes_norm_at3>=1].fillna(0).astype(bool).sum().plot(kind='hist')"
   ]
  },
  {
   "cell_type": "code",
   "execution_count": 71,
   "metadata": {},
   "outputs": [
    {
     "name": "stdout",
     "output_type": "stream",
     "text": [
      "(44,)\n"
     ]
    }
   ],
   "source": [
    "w_a4 = wheatRes_norm_at3.columns[wheatRes_norm_at3[wheatRes_norm_at3>=1].fillna(0).astype(bool).sum()>=5]\n",
    "print (w_a4.shape)"
   ]
  },
  {
   "cell_type": "code",
   "execution_count": 105,
   "metadata": {},
   "outputs": [
    {
     "data": {
      "text/plain": [
       "id\n",
       "1         0\n",
       "2         0\n",
       "3         0\n",
       "4         0\n",
       "5         0\n",
       "         ..\n",
       "128283    0\n",
       "128284    0\n",
       "128285    0\n",
       "128286    0\n",
       "128287    0\n",
       "Length: 115753, dtype: int64"
      ]
     },
     "execution_count": 105,
     "metadata": {},
     "output_type": "execute_result"
    }
   ],
   "source": [
    "qbbBead[qbbBead.loc[wheatRes_norm_at3.index]>=2.3].fillna(0).astype(bool).sum(axis=1)"
   ]
  },
  {
   "cell_type": "code",
   "execution_count": 172,
   "metadata": {},
   "outputs": [
    {
     "data": {
      "text/plain": [
       "<AxesSubplot:>"
      ]
     },
     "execution_count": 172,
     "metadata": {},
     "output_type": "execute_result"
    },
    {
     "data": {
      "image/png": "[encoded data removed]",
      "text/plain": [
       "<Figure size 432x288 with 1 Axes>"
      ]
     },
     "metadata": {
      "needs_background": "light"
     },
     "output_type": "display_data"
    }
   ],
   "source": [
    "wheatRes_normx = wheatRes_norm_at3[w_a4]\n",
    "wheatRes_normx.plot(kind='box')"
   ]
  },
  {
   "cell_type": "code",
   "execution_count": 173,
   "metadata": {},
   "outputs": [
    {
     "name": "stderr",
     "output_type": "stream",
     "text": [
      "<ipython-input-173-59c8376d7064>:1: SettingWithCopyWarning: \n",
      "A value is trying to be set on a copy of a slice from a DataFrame.\n",
      "Try using .loc[row_indexer,col_indexer] = value instead\n",
      "\n",
      "See the caveats in the documentation: https://pandas.pydata.org/pandas-docs/stable/user_guide/indexing.html#returning-a-view-versus-a-copy\n",
      "  wheatRes_normx[wheatRes_normx>=1] = 1+np.log10(wheatRes_normx[wheatRes_normx>=1])\n",
      "/Users/tkhan/opt/anaconda3/lib/python3.8/site-packages/pandas/core/frame.py:3089: SettingWithCopyWarning: \n",
      "A value is trying to be set on a copy of a slice from a DataFrame\n",
      "\n",
      "See the caveats in the documentation: https://pandas.pydata.org/pandas-docs/stable/user_guide/indexing.html#returning-a-view-versus-a-copy\n",
      "  self._where(-key, value, inplace=True)\n"
     ]
    },
    {
     "data": {
      "text/plain": [
       "<AxesSubplot:>"
      ]
     },
     "execution_count": 173,
     "metadata": {},
     "output_type": "execute_result"
    },
    {
     "data": {
      "image/png": "[encoded data removed]",
      "text/plain": [
       "<Figure size 432x288 with 1 Axes>"
      ]
     },
     "metadata": {
      "needs_background": "light"
     },
     "output_type": "display_data"
    }
   ],
   "source": [
    "wheatRes_normx[wheatRes_normx>=1] = 1+np.log10(wheatRes_normx[wheatRes_normx>=1])\n",
    "wheatRes_normx.plot(kind='box')"
   ]
  },
  {
   "cell_type": "code",
   "execution_count": 174,
   "metadata": {},
   "outputs": [],
   "source": [
    "corrX = pd.concat([alerData_norm.loc[w_a4],wheatRes_normx[w_a4].T],axis=1).corr()"
   ]
  },
  {
   "cell_type": "code",
   "execution_count": 175,
   "metadata": {},
   "outputs": [
    {
     "data": {
      "text/plain": [
       "<seaborn.matrix.ClusterGrid at 0x1227b2d90>"
      ]
     },
     "execution_count": 175,
     "metadata": {},
     "output_type": "execute_result"
    },
    {
     "data": {
      "image/png": "[encoded data removed]",
      "text/plain": [
       "<Figure size 1008x1008 with 4 Axes>"
      ]
     },
     "metadata": {
      "needs_background": "light"
     },
     "output_type": "display_data"
    }
   ],
   "source": [
    "sns.clustermap(corrX,vmin=-.7,vmax=.7,cmap='RdBu_r',figsize=(14,14))"
   ]
  },
  {
   "cell_type": "code",
   "execution_count": 179,
   "metadata": {},
   "outputs": [
    {
     "data": {
      "text/plain": [
       "Index([125808, 125833, 125868, 125880], dtype='object')"
      ]
     },
     "execution_count": 179,
     "metadata": {},
     "output_type": "execute_result"
    }
   ],
   "source": [
    "corrX.columns[corrX.fx1>0.2].drop(['fx1',  'fx2', 'fx22',  'fx5',  'gx2', 'phad',  't20',  'wx1'])"
   ]
  },
  {
   "cell_type": "code",
   "execution_count": 177,
   "metadata": {},
   "outputs": [
    {
     "data": {
      "text/html": [
       "<div>\n",
       "<style scoped>\n",
       "    .dataframe tbody tr th:only-of-type {\n",
       "        vertical-align: middle;\n",
       "    }\n",
       "\n",
       "    .dataframe tbody tr th {\n",
       "        vertical-align: top;\n",
       "    }\n",
       "\n",
       "    .dataframe thead th {\n",
       "        text-align: right;\n",
       "    }\n",
       "</style>\n",
       "<table border=\"1\" class=\"dataframe\">\n",
       "  <thead>\n",
       "    <tr style=\"text-align: right;\">\n",
       "      <th></th>\n",
       "      <th>Entry</th>\n",
       "      <th>start</th>\n",
       "      <th>end</th>\n",
       "      <th>Species</th>\n",
       "      <th>Protein.names</th>\n",
       "      <th>peptide</th>\n",
       "    </tr>\n",
       "    <tr>\n",
       "      <th>id</th>\n",
       "      <th></th>\n",
       "      <th></th>\n",
       "      <th></th>\n",
       "      <th></th>\n",
       "      <th></th>\n",
       "      <th></th>\n",
       "    </tr>\n",
       "  </thead>\n",
       "  <tbody>\n",
       "    <tr>\n",
       "      <th>125812</th>\n",
       "      <td>D2T2K3</td>\n",
       "      <td>169</td>\n",
       "      <td>224</td>\n",
       "      <td>Triticum aestivum (Wheat)</td>\n",
       "      <td>Alpha/beta gliadin (Fragment)</td>\n",
       "      <td>HAIILHHQQQQQQQQQQQQQQQQQQQQQQQQQQQQPSSQVSYQQPQ...</td>\n",
       "    </tr>\n",
       "    <tr>\n",
       "      <th>125851</th>\n",
       "      <td>P10388</td>\n",
       "      <td>477</td>\n",
       "      <td>532</td>\n",
       "      <td>Triticum aestivum (Wheat)</td>\n",
       "      <td>Glutenin, high molecular weight subunit DX5</td>\n",
       "      <td>GQQPGQGQQGQQPGQGQPGYYPTSPQQSGQGQQPGQWQQPGQGQPG...</td>\n",
       "    </tr>\n",
       "    <tr>\n",
       "      <th>125852</th>\n",
       "      <td>P10388</td>\n",
       "      <td>505</td>\n",
       "      <td>560</td>\n",
       "      <td>Triticum aestivum (Wheat)</td>\n",
       "      <td>Glutenin, high molecular weight subunit DX5</td>\n",
       "      <td>GQGQQPGQWQQPGQGQPGYYPTSPLQPGQGQPGYDPTSPQQPGQGQ...</td>\n",
       "    </tr>\n",
       "    <tr>\n",
       "      <th>125853</th>\n",
       "      <td>P10388</td>\n",
       "      <td>533</td>\n",
       "      <td>588</td>\n",
       "      <td>Triticum aestivum (Wheat)</td>\n",
       "      <td>Glutenin, high molecular weight subunit DX5</td>\n",
       "      <td>QGQPGYDPTSPQQPGQGQQPGQLQQPAQGQQGQQLAQGQQGQQPAQ...</td>\n",
       "    </tr>\n",
       "    <tr>\n",
       "      <th>125858</th>\n",
       "      <td>P10388</td>\n",
       "      <td>673</td>\n",
       "      <td>728</td>\n",
       "      <td>Triticum aestivum (Wheat)</td>\n",
       "      <td>Glutenin, high molecular weight subunit DX5</td>\n",
       "      <td>QQPGQWQQPGQGQPGYYLTSPLQLGQGQQGYYPTSLQQPGQGQQPG...</td>\n",
       "    </tr>\n",
       "  </tbody>\n",
       "</table>\n",
       "</div>"
      ],
      "text/plain": [
       "         Entry  start  end                    Species  \\\n",
       "id                                                      \n",
       "125812  D2T2K3    169  224  Triticum aestivum (Wheat)   \n",
       "125851  P10388    477  532  Triticum aestivum (Wheat)   \n",
       "125852  P10388    505  560  Triticum aestivum (Wheat)   \n",
       "125853  P10388    533  588  Triticum aestivum (Wheat)   \n",
       "125858  P10388    673  728  Triticum aestivum (Wheat)   \n",
       "\n",
       "                                      Protein.names  \\\n",
       "id                                                    \n",
       "125812                Alpha/beta gliadin (Fragment)   \n",
       "125851  Glutenin, high molecular weight subunit DX5   \n",
       "125852  Glutenin, high molecular weight subunit DX5   \n",
       "125853  Glutenin, high molecular weight subunit DX5   \n",
       "125858  Glutenin, high molecular weight subunit DX5   \n",
       "\n",
       "                                                  peptide  \n",
       "id                                                         \n",
       "125812  HAIILHHQQQQQQQQQQQQQQQQQQQQQQQQQQQQPSSQVSYQQPQ...  \n",
       "125851  GQQPGQGQQGQQPGQGQPGYYPTSPQQSGQGQQPGQWQQPGQGQPG...  \n",
       "125852  GQGQQPGQWQQPGQGQPGYYPTSPLQPGQGQPGYDPTSPQQPGQGQ...  \n",
       "125853  QGQPGYDPTSPQQPGQGQQPGQLQQPAQGQQGQQLAQGQQGQQPAQ...  \n",
       "125858  QQPGQWQQPGQGQPGYYLTSPLQLGQGQQGYYPTSLQQPGQGQQPG...  "
      ]
     },
     "execution_count": 177,
     "metadata": {},
     "output_type": "execute_result"
    }
   ],
   "source": [
    "virMdata.loc[[125812,\n",
    "       125851,125852, 125853, 125858]][['Entry','start','end','Species','Protein.names','peptide']]"
   ]
  },
  {
   "cell_type": "code",
   "execution_count": 238,
   "metadata": {},
   "outputs": [
    {
     "data": {
      "text/html": [
       "<div>\n",
       "<style scoped>\n",
       "    .dataframe tbody tr th:only-of-type {\n",
       "        vertical-align: middle;\n",
       "    }\n",
       "\n",
       "    .dataframe tbody tr th {\n",
       "        vertical-align: top;\n",
       "    }\n",
       "\n",
       "    .dataframe thead th {\n",
       "        text-align: right;\n",
       "    }\n",
       "</style>\n",
       "<table border=\"1\" class=\"dataframe\">\n",
       "  <thead>\n",
       "    <tr style=\"text-align: right;\">\n",
       "      <th></th>\n",
       "      <th>Entry</th>\n",
       "      <th>start</th>\n",
       "      <th>end</th>\n",
       "      <th>Species</th>\n",
       "      <th>Protein.names</th>\n",
       "      <th>peptide</th>\n",
       "    </tr>\n",
       "    <tr>\n",
       "      <th>id</th>\n",
       "      <th></th>\n",
       "      <th></th>\n",
       "      <th></th>\n",
       "      <th></th>\n",
       "      <th></th>\n",
       "      <th></th>\n",
       "    </tr>\n",
       "  </thead>\n",
       "  <tbody>\n",
       "    <tr>\n",
       "      <th>125803</th>\n",
       "      <td>Q9T0P1</td>\n",
       "      <td>29</td>\n",
       "      <td>84</td>\n",
       "      <td>Triticum aestivum (Wheat)</td>\n",
       "      <td>Alpha purothionin (Uncharacterized protein)</td>\n",
       "      <td>SCCRSTLGRNCYNLCRARGAQKLCAGVCRCKISSGLSCPKGFPKLA...</td>\n",
       "    </tr>\n",
       "    <tr>\n",
       "      <th>125805</th>\n",
       "      <td>Q9T0P1</td>\n",
       "      <td>85</td>\n",
       "      <td>137</td>\n",
       "      <td>Triticum aestivum (Wheat)</td>\n",
       "      <td>Alpha purothionin (Uncharacterized protein)</td>\n",
       "      <td>IEYCNLGCRSSVCDYMVNAAADDEEMKLYVENCADACVSFCNGDAG...</td>\n",
       "    </tr>\n",
       "    <tr>\n",
       "      <th>125808</th>\n",
       "      <td>D2T2K3</td>\n",
       "      <td>57</td>\n",
       "      <td>112</td>\n",
       "      <td>Triticum aestivum (Wheat)</td>\n",
       "      <td>Alpha/beta gliadin (Fragment)</td>\n",
       "      <td>FLPQLPYPQPQPFPPQQSYPQPQPQYPQPQQPISQQQAQLQQQQQQ...</td>\n",
       "    </tr>\n",
       "    <tr>\n",
       "      <th>125818</th>\n",
       "      <td>P08453</td>\n",
       "      <td>57</td>\n",
       "      <td>112</td>\n",
       "      <td>Triticum aestivum (Wheat)</td>\n",
       "      <td>Gamma-gliadin</td>\n",
       "      <td>QTFPHQPQQQVPQPQQPQQPFLQPQQPFPQQPQQPFPQTQQPQQPF...</td>\n",
       "    </tr>\n",
       "    <tr>\n",
       "      <th>125833</th>\n",
       "      <td>D2KFG9</td>\n",
       "      <td>169</td>\n",
       "      <td>201</td>\n",
       "      <td>Triticum aestivum (Wheat)</td>\n",
       "      <td>Gliadin/avenin-like seed protein (Uncharacteri...</td>\n",
       "      <td>IQTIPAMCDVHVPPYCYTTISPSSDVTTDMGGY</td>\n",
       "    </tr>\n",
       "    <tr>\n",
       "      <th>125835</th>\n",
       "      <td>P10388</td>\n",
       "      <td>29</td>\n",
       "      <td>84</td>\n",
       "      <td>Triticum aestivum (Wheat)</td>\n",
       "      <td>Glutenin, high molecular weight subunit DX5</td>\n",
       "      <td>LQCERELQELQERELKACQQVMDQQLRDISPECHPVVVSPVAGQYE...</td>\n",
       "    </tr>\n",
       "    <tr>\n",
       "      <th>125839</th>\n",
       "      <td>P10388</td>\n",
       "      <td>141</td>\n",
       "      <td>196</td>\n",
       "      <td>Triticum aestivum (Wheat)</td>\n",
       "      <td>Glutenin, high molecular weight subunit DX5</td>\n",
       "      <td>GQGQQGYYPTSPQQPGQWQQPEQGQPRYYPTSPQQSGQLQQPAQGQ...</td>\n",
       "    </tr>\n",
       "    <tr>\n",
       "      <th>125840</th>\n",
       "      <td>P10388</td>\n",
       "      <td>169</td>\n",
       "      <td>224</td>\n",
       "      <td>Triticum aestivum (Wheat)</td>\n",
       "      <td>Glutenin, high molecular weight subunit DX5</td>\n",
       "      <td>YPTSPQQSGQLQQPAQGQQPGQGQQGQQPGQGQPGYYPTSSQLQPG...</td>\n",
       "    </tr>\n",
       "    <tr>\n",
       "      <th>125843</th>\n",
       "      <td>P10388</td>\n",
       "      <td>253</td>\n",
       "      <td>308</td>\n",
       "      <td>Triticum aestivum (Wheat)</td>\n",
       "      <td>Glutenin, high molecular weight subunit DX5</td>\n",
       "      <td>GQGQQPGQGQQGQQLGQGQQGYYPTSLQQSGQGQPGYYPTSLQQLG...</td>\n",
       "    </tr>\n",
       "    <tr>\n",
       "      <th>125846</th>\n",
       "      <td>P10388</td>\n",
       "      <td>337</td>\n",
       "      <td>392</td>\n",
       "      <td>Triticum aestivum (Wheat)</td>\n",
       "      <td>Glutenin, high molecular weight subunit DX5</td>\n",
       "      <td>QQPGQGQQGQQPGQGQQPGQGQPGYYPTSPQQSGQGQPGYYPTSSQ...</td>\n",
       "    </tr>\n",
       "    <tr>\n",
       "      <th>125848</th>\n",
       "      <td>P10388</td>\n",
       "      <td>393</td>\n",
       "      <td>448</td>\n",
       "      <td>Triticum aestivum (Wheat)</td>\n",
       "      <td>Glutenin, high molecular weight subunit DX5</td>\n",
       "      <td>GQQGQQVGQGQQAQQPGQGQQPGQGQPGYYPTSPQQSGQGQPGYYL...</td>\n",
       "    </tr>\n",
       "    <tr>\n",
       "      <th>125850</th>\n",
       "      <td>P10388</td>\n",
       "      <td>449</td>\n",
       "      <td>504</td>\n",
       "      <td>Triticum aestivum (Wheat)</td>\n",
       "      <td>Glutenin, high molecular weight subunit DX5</td>\n",
       "      <td>QPGQLQQSAQGQKGQQPGQGQQPGQGQQGQQPGQGQQGQQPGQGQP...</td>\n",
       "    </tr>\n",
       "    <tr>\n",
       "      <th>125852</th>\n",
       "      <td>P10388</td>\n",
       "      <td>505</td>\n",
       "      <td>560</td>\n",
       "      <td>Triticum aestivum (Wheat)</td>\n",
       "      <td>Glutenin, high molecular weight subunit DX5</td>\n",
       "      <td>GQGQQPGQWQQPGQGQPGYYPTSPLQPGQGQPGYDPTSPQQPGQGQ...</td>\n",
       "    </tr>\n",
       "    <tr>\n",
       "      <th>125857</th>\n",
       "      <td>P10388</td>\n",
       "      <td>645</td>\n",
       "      <td>700</td>\n",
       "      <td>Triticum aestivum (Wheat)</td>\n",
       "      <td>Glutenin, high molecular weight subunit DX5</td>\n",
       "      <td>GQQPGQGQQPGQGQPWYYPTSPQESGQGQQPGQWQQPGQGQPGYYL...</td>\n",
       "    </tr>\n",
       "    <tr>\n",
       "      <th>125858</th>\n",
       "      <td>P10388</td>\n",
       "      <td>673</td>\n",
       "      <td>728</td>\n",
       "      <td>Triticum aestivum (Wheat)</td>\n",
       "      <td>Glutenin, high molecular weight subunit DX5</td>\n",
       "      <td>QQPGQWQQPGQGQPGYYLTSPLQLGQGQQGYYPTSLQQPGQGQQPG...</td>\n",
       "    </tr>\n",
       "    <tr>\n",
       "      <th>125859</th>\n",
       "      <td>P10388</td>\n",
       "      <td>701</td>\n",
       "      <td>756</td>\n",
       "      <td>Triticum aestivum (Wheat)</td>\n",
       "      <td>Glutenin, high molecular weight subunit DX5</td>\n",
       "      <td>QGYYPTSLQQPGQGQQPGQWQQSGQGQHWYYPTSPQLSGQGQRPGQ...</td>\n",
       "    </tr>\n",
       "    <tr>\n",
       "      <th>125868</th>\n",
       "      <td>Q8W3V4</td>\n",
       "      <td>113</td>\n",
       "      <td>168</td>\n",
       "      <td>Triticum aestivum (Wheat)</td>\n",
       "      <td>LMW-glutenin P3-6 (LMW-m glutenin subunit 0099...</td>\n",
       "      <td>LQQQIPIVHPSILQQLNPCKVFLQQQCSPVAMPQHLARSQMWQQSS...</td>\n",
       "    </tr>\n",
       "    <tr>\n",
       "      <th>125877</th>\n",
       "      <td>Q8GZB0</td>\n",
       "      <td>85</td>\n",
       "      <td>116</td>\n",
       "      <td>Triticum aestivum (Wheat)</td>\n",
       "      <td>Non-specific lipid-transfer protein</td>\n",
       "      <td>HNLNEDNARSIPPKCGVNLPYTISLNIDCSRV</td>\n",
       "    </tr>\n",
       "    <tr>\n",
       "      <th>125880</th>\n",
       "      <td>D2TGC3</td>\n",
       "      <td>57</td>\n",
       "      <td>112</td>\n",
       "      <td>Triticum aestivum (Wheat)</td>\n",
       "      <td>Putative alpha-amylase inhibitor 0.28 (Fragment)</td>\n",
       "      <td>EDLSSMLRSVYQELGAREGKEVLPGCRKEVMKLTAASVPEVRKVPI...</td>\n",
       "    </tr>\n",
       "  </tbody>\n",
       "</table>\n",
       "</div>"
      ],
      "text/plain": [
       "         Entry  start  end                    Species  \\\n",
       "id                                                      \n",
       "125803  Q9T0P1     29   84  Triticum aestivum (Wheat)   \n",
       "125805  Q9T0P1     85  137  Triticum aestivum (Wheat)   \n",
       "125808  D2T2K3     57  112  Triticum aestivum (Wheat)   \n",
       "125818  P08453     57  112  Triticum aestivum (Wheat)   \n",
       "125833  D2KFG9    169  201  Triticum aestivum (Wheat)   \n",
       "125835  P10388     29   84  Triticum aestivum (Wheat)   \n",
       "125839  P10388    141  196  Triticum aestivum (Wheat)   \n",
       "125840  P10388    169  224  Triticum aestivum (Wheat)   \n",
       "125843  P10388    253  308  Triticum aestivum (Wheat)   \n",
       "125846  P10388    337  392  Triticum aestivum (Wheat)   \n",
       "125848  P10388    393  448  Triticum aestivum (Wheat)   \n",
       "125850  P10388    449  504  Triticum aestivum (Wheat)   \n",
       "125852  P10388    505  560  Triticum aestivum (Wheat)   \n",
       "125857  P10388    645  700  Triticum aestivum (Wheat)   \n",
       "125858  P10388    673  728  Triticum aestivum (Wheat)   \n",
       "125859  P10388    701  756  Triticum aestivum (Wheat)   \n",
       "125868  Q8W3V4    113  168  Triticum aestivum (Wheat)   \n",
       "125877  Q8GZB0     85  116  Triticum aestivum (Wheat)   \n",
       "125880  D2TGC3     57  112  Triticum aestivum (Wheat)   \n",
       "\n",
       "                                            Protein.names  \\\n",
       "id                                                          \n",
       "125803        Alpha purothionin (Uncharacterized protein)   \n",
       "125805        Alpha purothionin (Uncharacterized protein)   \n",
       "125808                      Alpha/beta gliadin (Fragment)   \n",
       "125818                                      Gamma-gliadin   \n",
       "125833  Gliadin/avenin-like seed protein (Uncharacteri...   \n",
       "125835        Glutenin, high molecular weight subunit DX5   \n",
       "125839        Glutenin, high molecular weight subunit DX5   \n",
       "125840        Glutenin, high molecular weight subunit DX5   \n",
       "125843        Glutenin, high molecular weight subunit DX5   \n",
       "125846        Glutenin, high molecular weight subunit DX5   \n",
       "125848        Glutenin, high molecular weight subunit DX5   \n",
       "125850        Glutenin, high molecular weight subunit DX5   \n",
       "125852        Glutenin, high molecular weight subunit DX5   \n",
       "125857        Glutenin, high molecular weight subunit DX5   \n",
       "125858        Glutenin, high molecular weight subunit DX5   \n",
       "125859        Glutenin, high molecular weight subunit DX5   \n",
       "125868  LMW-glutenin P3-6 (LMW-m glutenin subunit 0099...   \n",
       "125877                Non-specific lipid-transfer protein   \n",
       "125880   Putative alpha-amylase inhibitor 0.28 (Fragment)   \n",
       "\n",
       "                                                  peptide  \n",
       "id                                                         \n",
       "125803  SCCRSTLGRNCYNLCRARGAQKLCAGVCRCKISSGLSCPKGFPKLA...  \n",
       "125805  IEYCNLGCRSSVCDYMVNAAADDEEMKLYVENCADACVSFCNGDAG...  \n",
       "125808  FLPQLPYPQPQPFPPQQSYPQPQPQYPQPQQPISQQQAQLQQQQQQ...  \n",
       "125818  QTFPHQPQQQVPQPQQPQQPFLQPQQPFPQQPQQPFPQTQQPQQPF...  \n",
       "125833                  IQTIPAMCDVHVPPYCYTTISPSSDVTTDMGGY  \n",
       "125835  LQCERELQELQERELKACQQVMDQQLRDISPECHPVVVSPVAGQYE...  \n",
       "125839  GQGQQGYYPTSPQQPGQWQQPEQGQPRYYPTSPQQSGQLQQPAQGQ...  \n",
       "125840  YPTSPQQSGQLQQPAQGQQPGQGQQGQQPGQGQPGYYPTSSQLQPG...  \n",
       "125843  GQGQQPGQGQQGQQLGQGQQGYYPTSLQQSGQGQPGYYPTSLQQLG...  \n",
       "125846  QQPGQGQQGQQPGQGQQPGQGQPGYYPTSPQQSGQGQPGYYPTSSQ...  \n",
       "125848  GQQGQQVGQGQQAQQPGQGQQPGQGQPGYYPTSPQQSGQGQPGYYL...  \n",
       "125850  QPGQLQQSAQGQKGQQPGQGQQPGQGQQGQQPGQGQQGQQPGQGQP...  \n",
       "125852  GQGQQPGQWQQPGQGQPGYYPTSPLQPGQGQPGYDPTSPQQPGQGQ...  \n",
       "125857  GQQPGQGQQPGQGQPWYYPTSPQESGQGQQPGQWQQPGQGQPGYYL...  \n",
       "125858  QQPGQWQQPGQGQPGYYLTSPLQLGQGQQGYYPTSLQQPGQGQQPG...  \n",
       "125859  QGYYPTSLQQPGQGQQPGQWQQSGQGQHWYYPTSPQLSGQGQRPGQ...  \n",
       "125868  LQQQIPIVHPSILQQLNPCKVFLQQQCSPVAMPQHLARSQMWQQSS...  \n",
       "125877                   HNLNEDNARSIPPKCGVNLPYTISLNIDCSRV  \n",
       "125880  EDLSSMLRSVYQELGAREGKEVLPGCRKEVMKLTAASVPEVRKVPI...  "
      ]
     },
     "execution_count": 238,
     "metadata": {},
     "output_type": "execute_result"
    }
   ],
   "source": [
    "virMdata.loc[corrX.columns[corrX.fx5>0.1].drop(['fx1',  'fx2', 'fx22',  'fx5',  'gx2', 'phad',  't20',  'wx1'])][['Entry','start','end','Species','Protein.names','peptide']]"
   ]
  },
  {
   "cell_type": "code",
   "execution_count": 221,
   "metadata": {},
   "outputs": [
    {
     "name": "stdout",
     "output_type": "stream",
     "text": [
      "(1252, 795)\n"
     ]
    }
   ],
   "source": [
    "#IEDB Peptides\n",
    "virMdata_iedb = virMdata[virMdata['source'] == \"IEDB\"]\n",
    "iedbRes = qbbPval.loc[set(qbbPval.index).intersection(set(virMdata_iedb.index))]\n",
    "iedbRes_norm = iedbRes/2.3\n",
    "iedbRes_norm_at3 = iedbRes_norm.loc[iedbRes_norm[iedbRes_norm>=1].fillna(0).astype(bool).sum(axis=1)>=7]\n",
    "print (iedbRes_norm_at3.shape)"
   ]
  },
  {
   "cell_type": "code",
   "execution_count": 222,
   "metadata": {},
   "outputs": [
    {
     "data": {
      "text/plain": [
       "<AxesSubplot:>"
      ]
     },
     "execution_count": 222,
     "metadata": {},
     "output_type": "execute_result"
    },
    {
     "data": {
      "image/png": "[encoded data removed]",
      "text/plain": [
       "<Figure size 432x288 with 1 Axes>"
      ]
     },
     "metadata": {
      "needs_background": "light"
     },
     "output_type": "display_data"
    }
   ],
   "source": [
    "iedbRes_norm_at3.plot(kind='box')"
   ]
  },
  {
   "cell_type": "code",
   "execution_count": 223,
   "metadata": {},
   "outputs": [
    {
     "name": "stderr",
     "output_type": "stream",
     "text": [
      "<ipython-input-223-a6f6c83ba9c5>:1: SettingWithCopyWarning: \n",
      "A value is trying to be set on a copy of a slice from a DataFrame.\n",
      "Try using .loc[row_indexer,col_indexer] = value instead\n",
      "\n",
      "See the caveats in the documentation: https://pandas.pydata.org/pandas-docs/stable/user_guide/indexing.html#returning-a-view-versus-a-copy\n",
      "  iedbRes_norm_at3[iedbRes_norm_at3>1]=1+np.log10(iedbRes_norm_at3[iedbRes_norm_at3>1])\n",
      "/Users/tkhan/opt/anaconda3/lib/python3.8/site-packages/pandas/core/frame.py:3089: SettingWithCopyWarning: \n",
      "A value is trying to be set on a copy of a slice from a DataFrame\n",
      "\n",
      "See the caveats in the documentation: https://pandas.pydata.org/pandas-docs/stable/user_guide/indexing.html#returning-a-view-versus-a-copy\n",
      "  self._where(-key, value, inplace=True)\n"
     ]
    },
    {
     "data": {
      "text/plain": [
       "<AxesSubplot:>"
      ]
     },
     "execution_count": 223,
     "metadata": {},
     "output_type": "execute_result"
    },
    {
     "data": {
      "image/png": "[encoded data removed]",
      "text/plain": [
       "<Figure size 432x288 with 1 Axes>"
      ]
     },
     "metadata": {
      "needs_background": "light"
     },
     "output_type": "display_data"
    }
   ],
   "source": [
    "iedbRes_norm_at3[iedbRes_norm_at3>1]=1+np.log10(iedbRes_norm_at3[iedbRes_norm_at3>1])\n",
    "iedbRes_norm_at3.plot(kind='box')"
   ]
  },
  {
   "cell_type": "code",
   "execution_count": 224,
   "metadata": {},
   "outputs": [
    {
     "name": "stdout",
     "output_type": "stream",
     "text": [
      "(795, 1252) (795,)\n"
     ]
    }
   ],
   "source": [
    "X = iedbRes_norm_at3.T.fillna(0).values\n",
    "y = alerData_norm.loc[iedbRes_norm_at3.T.index].phad\n",
    "print (X.shape, y.shape)"
   ]
  },
  {
   "cell_type": "code",
   "execution_count": 208,
   "metadata": {},
   "outputs": [],
   "source": [
    "import statsmodels.api as sm"
   ]
  },
  {
   "cell_type": "code",
   "execution_count": null,
   "metadata": {},
   "outputs": [],
   "source": []
  },
  {
   "cell_type": "code",
   "execution_count": 226,
   "metadata": {},
   "outputs": [
    {
     "name": "stderr",
     "output_type": "stream",
     "text": [
      "/Users/tkhan/opt/anaconda3/lib/python3.8/site-packages/statsmodels/regression/linear_model.py:1698: RuntimeWarning: divide by zero encountered in true_divide\n",
      "  return 1 - (np.divide(self.nobs - self.k_constant, self.df_resid)\n",
      "/Users/tkhan/opt/anaconda3/lib/python3.8/site-packages/statsmodels/regression/linear_model.py:1698: RuntimeWarning: invalid value encountered in double_scalars\n",
      "  return 1 - (np.divide(self.nobs - self.k_constant, self.df_resid)\n",
      "/Users/tkhan/opt/anaconda3/lib/python3.8/site-packages/statsmodels/regression/linear_model.py:1620: RuntimeWarning: divide by zero encountered in double_scalars\n",
      "  return np.dot(wresid, wresid) / self.df_resid\n"
     ]
    }
   ],
   "source": [
    "model = sm.OLS(y,X)\n",
    "results = model.fit()\n",
    "tdata = pd.read_html(results.summary().tables[1].as_html(),header=0,index_col=0)[0]"
   ]
  },
  {
   "cell_type": "code",
   "execution_count": 228,
   "metadata": {},
   "outputs": [
    {
     "data": {
      "text/html": [
       "<div>\n",
       "<style scoped>\n",
       "    .dataframe tbody tr th:only-of-type {\n",
       "        vertical-align: middle;\n",
       "    }\n",
       "\n",
       "    .dataframe tbody tr th {\n",
       "        vertical-align: top;\n",
       "    }\n",
       "\n",
       "    .dataframe thead th {\n",
       "        text-align: right;\n",
       "    }\n",
       "</style>\n",
       "<table border=\"1\" class=\"dataframe\">\n",
       "  <thead>\n",
       "    <tr style=\"text-align: right;\">\n",
       "      <th></th>\n",
       "      <th>coef</th>\n",
       "      <th>std err</th>\n",
       "      <th>t</th>\n",
       "      <th>P&gt;|t|</th>\n",
       "      <th>[0.025</th>\n",
       "      <th>0.975]</th>\n",
       "    </tr>\n",
       "  </thead>\n",
       "  <tbody>\n",
       "    <tr>\n",
       "      <th>x1</th>\n",
       "      <td>0.1656</td>\n",
       "      <td>inf</td>\n",
       "      <td>0</td>\n",
       "      <td>NaN</td>\n",
       "      <td>NaN</td>\n",
       "      <td>NaN</td>\n",
       "    </tr>\n",
       "    <tr>\n",
       "      <th>x2</th>\n",
       "      <td>-0.0187</td>\n",
       "      <td>inf</td>\n",
       "      <td>0</td>\n",
       "      <td>NaN</td>\n",
       "      <td>NaN</td>\n",
       "      <td>NaN</td>\n",
       "    </tr>\n",
       "    <tr>\n",
       "      <th>x3</th>\n",
       "      <td>0.1118</td>\n",
       "      <td>inf</td>\n",
       "      <td>0</td>\n",
       "      <td>NaN</td>\n",
       "      <td>NaN</td>\n",
       "      <td>NaN</td>\n",
       "    </tr>\n",
       "    <tr>\n",
       "      <th>x4</th>\n",
       "      <td>0.1284</td>\n",
       "      <td>inf</td>\n",
       "      <td>0</td>\n",
       "      <td>NaN</td>\n",
       "      <td>NaN</td>\n",
       "      <td>NaN</td>\n",
       "    </tr>\n",
       "    <tr>\n",
       "      <th>x5</th>\n",
       "      <td>-0.0668</td>\n",
       "      <td>inf</td>\n",
       "      <td>0</td>\n",
       "      <td>NaN</td>\n",
       "      <td>NaN</td>\n",
       "      <td>NaN</td>\n",
       "    </tr>\n",
       "    <tr>\n",
       "      <th>...</th>\n",
       "      <td>...</td>\n",
       "      <td>...</td>\n",
       "      <td>...</td>\n",
       "      <td>...</td>\n",
       "      <td>...</td>\n",
       "      <td>...</td>\n",
       "    </tr>\n",
       "    <tr>\n",
       "      <th>x1248</th>\n",
       "      <td>-0.0179</td>\n",
       "      <td>inf</td>\n",
       "      <td>0</td>\n",
       "      <td>NaN</td>\n",
       "      <td>NaN</td>\n",
       "      <td>NaN</td>\n",
       "    </tr>\n",
       "    <tr>\n",
       "      <th>x1249</th>\n",
       "      <td>-0.0900</td>\n",
       "      <td>inf</td>\n",
       "      <td>0</td>\n",
       "      <td>NaN</td>\n",
       "      <td>NaN</td>\n",
       "      <td>NaN</td>\n",
       "    </tr>\n",
       "    <tr>\n",
       "      <th>x1250</th>\n",
       "      <td>0.0416</td>\n",
       "      <td>inf</td>\n",
       "      <td>0</td>\n",
       "      <td>NaN</td>\n",
       "      <td>NaN</td>\n",
       "      <td>NaN</td>\n",
       "    </tr>\n",
       "    <tr>\n",
       "      <th>x1251</th>\n",
       "      <td>0.0875</td>\n",
       "      <td>inf</td>\n",
       "      <td>0</td>\n",
       "      <td>NaN</td>\n",
       "      <td>NaN</td>\n",
       "      <td>NaN</td>\n",
       "    </tr>\n",
       "    <tr>\n",
       "      <th>x1252</th>\n",
       "      <td>0.1145</td>\n",
       "      <td>inf</td>\n",
       "      <td>0</td>\n",
       "      <td>NaN</td>\n",
       "      <td>NaN</td>\n",
       "      <td>NaN</td>\n",
       "    </tr>\n",
       "  </tbody>\n",
       "</table>\n",
       "<p>1252 rows × 6 columns</p>\n",
       "</div>"
      ],
      "text/plain": [
       "         coef  std err  t  P>|t|  [0.025  0.975]\n",
       "x1     0.1656      inf  0    NaN     NaN     NaN\n",
       "x2    -0.0187      inf  0    NaN     NaN     NaN\n",
       "x3     0.1118      inf  0    NaN     NaN     NaN\n",
       "x4     0.1284      inf  0    NaN     NaN     NaN\n",
       "x5    -0.0668      inf  0    NaN     NaN     NaN\n",
       "...       ...      ... ..    ...     ...     ...\n",
       "x1248 -0.0179      inf  0    NaN     NaN     NaN\n",
       "x1249 -0.0900      inf  0    NaN     NaN     NaN\n",
       "x1250  0.0416      inf  0    NaN     NaN     NaN\n",
       "x1251  0.0875      inf  0    NaN     NaN     NaN\n",
       "x1252  0.1145      inf  0    NaN     NaN     NaN\n",
       "\n",
       "[1252 rows x 6 columns]"
      ]
     },
     "execution_count": 228,
     "metadata": {},
     "output_type": "execute_result"
    }
   ],
   "source": [
    "tdata"
   ]
  },
  {
   "cell_type": "code",
   "execution_count": 213,
   "metadata": {},
   "outputs": [
    {
     "data": {
      "text/html": [
       "<div>\n",
       "<style scoped>\n",
       "    .dataframe tbody tr th:only-of-type {\n",
       "        vertical-align: middle;\n",
       "    }\n",
       "\n",
       "    .dataframe tbody tr th {\n",
       "        vertical-align: top;\n",
       "    }\n",
       "\n",
       "    .dataframe thead th {\n",
       "        text-align: right;\n",
       "    }\n",
       "</style>\n",
       "<table border=\"1\" class=\"dataframe\">\n",
       "  <thead>\n",
       "    <tr style=\"text-align: right;\">\n",
       "      <th></th>\n",
       "      <th>coef</th>\n",
       "      <th>std err</th>\n",
       "      <th>z</th>\n",
       "      <th>P&gt;|z|</th>\n",
       "      <th>[0.025</th>\n",
       "      <th>0.975]</th>\n",
       "    </tr>\n",
       "  </thead>\n",
       "  <tbody>\n",
       "    <tr>\n",
       "      <th>x53</th>\n",
       "      <td>0.3497</td>\n",
       "      <td>0.169</td>\n",
       "      <td>2.064</td>\n",
       "      <td>0.039</td>\n",
       "      <td>0.018</td>\n",
       "      <td>0.682</td>\n",
       "    </tr>\n",
       "    <tr>\n",
       "      <th>x96</th>\n",
       "      <td>-0.3163</td>\n",
       "      <td>0.124</td>\n",
       "      <td>-2.550</td>\n",
       "      <td>0.011</td>\n",
       "      <td>-0.559</td>\n",
       "      <td>-0.073</td>\n",
       "    </tr>\n",
       "  </tbody>\n",
       "</table>\n",
       "</div>"
      ],
      "text/plain": [
       "       coef  std err      z  P>|z|  [0.025  0.975]\n",
       "x53  0.3497    0.169  2.064  0.039   0.018   0.682\n",
       "x96 -0.3163    0.124 -2.550  0.011  -0.559  -0.073"
      ]
     },
     "execution_count": 213,
     "metadata": {},
     "output_type": "execute_result"
    }
   ],
   "source": [
    "tdata[abs(tdata.coef)>0.3]"
   ]
  },
  {
   "cell_type": "code",
   "execution_count": 230,
   "metadata": {},
   "outputs": [],
   "source": [
    "from sklearn.decomposition import PCA"
   ]
  },
  {
   "cell_type": "code",
   "execution_count": 236,
   "metadata": {},
   "outputs": [
    {
     "data": {
      "text/plain": [
       "[<matplotlib.lines.Line2D at 0x18ffe4a30>]"
      ]
     },
     "execution_count": 236,
     "metadata": {},
     "output_type": "execute_result"
    },
    {
     "data": {
      "image/png": "[encoded data removed]",
      "text/plain": [
       "<Figure size 432x288 with 1 Axes>"
      ]
     },
     "metadata": {
      "needs_background": "light"
     },
     "output_type": "display_data"
    }
   ],
   "source": [
    "pca = PCA()\n",
    "proj = pca.fit(iedbRes_norm_at3.fillna(0).values)\n",
    "plt.plot(np.cumsum(proj.explained_variance_ratio_))"
   ]
  },
  {
   "cell_type": "code",
   "execution_count": null,
   "metadata": {},
   "outputs": [],
   "source": [
    "np.cos"
   ]
  },
  {
   "cell_type": "code",
   "execution_count": null,
   "metadata": {},
   "outputs": [],
   "source": []
  }
 ],
 "metadata": {
  "kernelspec": {
   "display_name": "Python 3",
   "language": "python",
   "name": "python3"
  },
  "language_info": {
   "codemirror_mode": {
    "name": "ipython",
    "version": 3
   },
   "file_extension": ".py",
   "mimetype": "text/x-python",
   "name": "python",
   "nbconvert_exporter": "python",
   "pygments_lexer": "ipython3",
   "version": "3.9.5"
  }
 },
 "nbformat": 4,
 "nbformat_minor": 4
}
